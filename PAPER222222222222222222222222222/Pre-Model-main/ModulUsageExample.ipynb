{
 "cells": [
  {
   "cell_type": "markdown",
   "metadata": {
    "pycharm": {
     "name": "#%% md\n"
    }
   },
   "source": [
    "# Data Pre-Processing"
   ]
  },
  {
   "cell_type": "markdown",
   "metadata": {
    "pycharm": {
     "name": "#%% md\n"
    }
   },
   "source": [
    "<b> In this document, we will try to adapt the data we have to the machine learning model by using various data sets."
   ]
  },
  {
   "cell_type": "code",
   "execution_count": 3,
   "metadata": {
    "pycharm": {
     "name": "#%%\n"
    }
   },
   "outputs": [
    {
     "data": {
      "text/html": [
       "<div>\n",
       "<style scoped>\n",
       "    .dataframe tbody tr th:only-of-type {\n",
       "        vertical-align: middle;\n",
       "    }\n",
       "\n",
       "    .dataframe tbody tr th {\n",
       "        vertical-align: top;\n",
       "    }\n",
       "\n",
       "    .dataframe thead th {\n",
       "        text-align: right;\n",
       "    }\n",
       "</style>\n",
       "<table border=\"1\" class=\"dataframe\">\n",
       "  <thead>\n",
       "    <tr style=\"text-align: right;\">\n",
       "      <th></th>\n",
       "      <th>survived</th>\n",
       "      <th>pclass</th>\n",
       "      <th>sex</th>\n",
       "      <th>age</th>\n",
       "      <th>sibsp</th>\n",
       "      <th>parch</th>\n",
       "      <th>fare</th>\n",
       "      <th>embarked</th>\n",
       "      <th>class</th>\n",
       "      <th>who</th>\n",
       "      <th>adult_male</th>\n",
       "      <th>deck</th>\n",
       "      <th>embark_town</th>\n",
       "      <th>alive</th>\n",
       "      <th>alone</th>\n",
       "    </tr>\n",
       "  </thead>\n",
       "  <tbody>\n",
       "    <tr>\n",
       "      <th>0</th>\n",
       "      <td>0</td>\n",
       "      <td>3</td>\n",
       "      <td>male</td>\n",
       "      <td>22.0</td>\n",
       "      <td>1</td>\n",
       "      <td>0</td>\n",
       "      <td>7.2500</td>\n",
       "      <td>S</td>\n",
       "      <td>Third</td>\n",
       "      <td>man</td>\n",
       "      <td>True</td>\n",
       "      <td>NaN</td>\n",
       "      <td>Southampton</td>\n",
       "      <td>no</td>\n",
       "      <td>False</td>\n",
       "    </tr>\n",
       "    <tr>\n",
       "      <th>1</th>\n",
       "      <td>1</td>\n",
       "      <td>1</td>\n",
       "      <td>female</td>\n",
       "      <td>38.0</td>\n",
       "      <td>1</td>\n",
       "      <td>0</td>\n",
       "      <td>71.2833</td>\n",
       "      <td>C</td>\n",
       "      <td>First</td>\n",
       "      <td>woman</td>\n",
       "      <td>False</td>\n",
       "      <td>C</td>\n",
       "      <td>Cherbourg</td>\n",
       "      <td>yes</td>\n",
       "      <td>False</td>\n",
       "    </tr>\n",
       "    <tr>\n",
       "      <th>2</th>\n",
       "      <td>1</td>\n",
       "      <td>3</td>\n",
       "      <td>female</td>\n",
       "      <td>26.0</td>\n",
       "      <td>0</td>\n",
       "      <td>0</td>\n",
       "      <td>7.9250</td>\n",
       "      <td>S</td>\n",
       "      <td>Third</td>\n",
       "      <td>woman</td>\n",
       "      <td>False</td>\n",
       "      <td>NaN</td>\n",
       "      <td>Southampton</td>\n",
       "      <td>yes</td>\n",
       "      <td>True</td>\n",
       "    </tr>\n",
       "    <tr>\n",
       "      <th>3</th>\n",
       "      <td>1</td>\n",
       "      <td>1</td>\n",
       "      <td>female</td>\n",
       "      <td>35.0</td>\n",
       "      <td>1</td>\n",
       "      <td>0</td>\n",
       "      <td>53.1000</td>\n",
       "      <td>S</td>\n",
       "      <td>First</td>\n",
       "      <td>woman</td>\n",
       "      <td>False</td>\n",
       "      <td>C</td>\n",
       "      <td>Southampton</td>\n",
       "      <td>yes</td>\n",
       "      <td>False</td>\n",
       "    </tr>\n",
       "    <tr>\n",
       "      <th>4</th>\n",
       "      <td>0</td>\n",
       "      <td>3</td>\n",
       "      <td>male</td>\n",
       "      <td>35.0</td>\n",
       "      <td>0</td>\n",
       "      <td>0</td>\n",
       "      <td>8.0500</td>\n",
       "      <td>S</td>\n",
       "      <td>Third</td>\n",
       "      <td>man</td>\n",
       "      <td>True</td>\n",
       "      <td>NaN</td>\n",
       "      <td>Southampton</td>\n",
       "      <td>no</td>\n",
       "      <td>True</td>\n",
       "    </tr>\n",
       "  </tbody>\n",
       "</table>\n",
       "</div>"
      ],
      "text/plain": [
       "   survived  pclass     sex   age  sibsp  parch     fare embarked  class    who  adult_male deck  embark_town alive  alone\n",
       "0         0       3    male  22.0      1      0   7.2500        S  Third    man        True  NaN  Southampton    no  False\n",
       "1         1       1  female  38.0      1      0  71.2833        C  First  woman       False    C    Cherbourg   yes  False\n",
       "2         1       3  female  26.0      0      0   7.9250        S  Third  woman       False  NaN  Southampton   yes   True\n",
       "3         1       1  female  35.0      1      0  53.1000        S  First  woman       False    C  Southampton   yes  False\n",
       "4         0       3    male  35.0      0      0   8.0500        S  Third    man        True  NaN  Southampton    no   True"
      ]
     },
     "execution_count": 3,
     "metadata": {},
     "output_type": "execute_result"
    }
   ],
   "source": [
    "import pandas as pd\n",
    "import seaborn as sns\n",
    "\n",
    "pd.set_option('display.max_columns', None)\n",
    "pd.set_option('display.width', 500)\n",
    "df = sns.load_dataset(\"titanic\")\n",
    "df.head()"
   ]
  },
  {
   "cell_type": "markdown",
   "metadata": {
    "pycharm": {
     "name": "#%% md\n"
    }
   },
   "source": [
    "<b> Overview of the Titanic Dataset"
   ]
  },
  {
   "cell_type": "code",
   "execution_count": 4,
   "metadata": {
    "pycharm": {
     "name": "#%%\n"
    }
   },
   "outputs": [
    {
     "name": "stdout",
     "output_type": "stream",
     "text": [
      "##################### Shape #####################\n",
      "(891, 15)\n",
      "##################### Types #####################\n",
      "survived          int64\n",
      "pclass            int64\n",
      "sex              object\n",
      "age             float64\n",
      "sibsp             int64\n",
      "parch             int64\n",
      "fare            float64\n",
      "embarked         object\n",
      "class          category\n",
      "who              object\n",
      "adult_male         bool\n",
      "deck           category\n",
      "embark_town      object\n",
      "alive            object\n",
      "alone              bool\n",
      "dtype: object\n",
      "##################### Head #####################\n",
      "##################### Tail #####################\n",
      "     survived  pclass     sex   age  sibsp  parch   fare embarked   class    who  adult_male deck  embark_town alive  alone\n",
      "886         0       2    male  27.0      0      0  13.00        S  Second    man        True  NaN  Southampton    no   True\n",
      "887         1       1  female  19.0      0      0  30.00        S   First  woman       False    B  Southampton   yes   True\n",
      "888         0       3  female   NaN      1      2  23.45        S   Third  woman       False  NaN  Southampton    no  False\n",
      "889         1       1    male  26.0      0      0  30.00        C   First    man        True    C    Cherbourg   yes   True\n",
      "890         0       3    male  32.0      0      0   7.75        Q   Third    man        True  NaN   Queenstown    no   True\n",
      "##################### NA #####################\n",
      "survived         0\n",
      "pclass           0\n",
      "sex              0\n",
      "age            177\n",
      "sibsp            0\n",
      "parch            0\n",
      "fare             0\n",
      "embarked         2\n",
      "class            0\n",
      "who              0\n",
      "adult_male       0\n",
      "deck           688\n",
      "embark_town      2\n",
      "alive            0\n",
      "alone            0\n",
      "dtype: int64\n",
      "##################### Quantiles #####################\n",
      "          count       mean        std   min    0%     5%      50%        95%        99%      100%       max\n",
      "survived  891.0   0.383838   0.486592  0.00  0.00  0.000   0.0000    1.00000    1.00000    1.0000    1.0000\n",
      "pclass    891.0   2.308642   0.836071  1.00  1.00  1.000   3.0000    3.00000    3.00000    3.0000    3.0000\n",
      "age       714.0  29.699118  14.526497  0.42  0.42  4.000  28.0000   56.00000   65.87000   80.0000   80.0000\n",
      "sibsp     891.0   0.523008   1.102743  0.00  0.00  0.000   0.0000    3.00000    5.00000    8.0000    8.0000\n",
      "parch     891.0   0.381594   0.806057  0.00  0.00  0.000   0.0000    2.00000    4.00000    6.0000    6.0000\n",
      "fare      891.0  32.204208  49.693429  0.00  0.00  7.225  14.4542  112.07915  249.00622  512.3292  512.3292\n"
     ]
    }
   ],
   "source": [
    "from EDA import check_df\n",
    "\n",
    "check_df(df)"
   ]
  },
  {
   "cell_type": "markdown",
   "metadata": {
    "pycharm": {
     "name": "#%% md\n"
    }
   },
   "source": [
    "# Analysis of Categorical Variables"
   ]
  },
  {
   "cell_type": "code",
   "execution_count": 5,
   "metadata": {
    "pycharm": {
     "name": "#%%\n"
    }
   },
   "outputs": [
    {
     "data": {
      "text/plain": [
       "0    549\n",
       "1    342\n",
       "Name: survived, dtype: int64"
      ]
     },
     "execution_count": 5,
     "metadata": {},
     "output_type": "execute_result"
    }
   ],
   "source": [
    "df[\"survived\"].value_counts()"
   ]
  },
  {
   "cell_type": "code",
   "execution_count": 6,
   "metadata": {
    "pycharm": {
     "name": "#%%\n"
    }
   },
   "outputs": [
    {
     "data": {
      "text/plain": [
       "array(['male', 'female'], dtype=object)"
      ]
     },
     "execution_count": 6,
     "metadata": {},
     "output_type": "execute_result"
    }
   ],
   "source": [
    "df[\"sex\"].unique()"
   ]
  },
  {
   "cell_type": "code",
   "execution_count": 7,
   "metadata": {
    "pycharm": {
     "name": "#%%\n"
    }
   },
   "outputs": [
    {
     "data": {
      "text/plain": [
       "3"
      ]
     },
     "execution_count": 7,
     "metadata": {},
     "output_type": "execute_result"
    }
   ],
   "source": [
    "df[\"class\"].nunique()"
   ]
  },
  {
   "cell_type": "code",
   "execution_count": 8,
   "metadata": {
    "pycharm": {
     "name": "#%%\n"
    }
   },
   "outputs": [
    {
     "name": "stdout",
     "output_type": "stream",
     "text": [
      "        sex      Ratio\n",
      "male    577  64.758698\n",
      "female  314  35.241302\n",
      "##########################################\n"
     ]
    }
   ],
   "source": [
    "from EDA import *\n",
    "cat_summary(df,'sex')"
   ]
  },
  {
   "cell_type": "markdown",
   "metadata": {
    "pycharm": {
     "name": "#%% md\n"
    }
   },
   "source": [
    "<b> Let's find out what are categorical variables"
   ]
  },
  {
   "cell_type": "code",
   "execution_count": 9,
   "metadata": {
    "pycharm": {
     "name": "#%%\n"
    }
   },
   "outputs": [
    {
     "name": "stdout",
     "output_type": "stream",
     "text": [
      "Observations: 891\n",
      "Variables: 15\n",
      "cat_cols: 9\n",
      "num_cols: 2\n",
      "cat_but_car: 0\n",
      "num_but_cat: 0\n"
     ]
    },
    {
     "data": {
      "text/plain": [
       "['sex',\n",
       " 'embarked',\n",
       " 'class',\n",
       " 'who',\n",
       " 'adult_male',\n",
       " 'deck',\n",
       " 'embark_town',\n",
       " 'alive',\n",
       " 'alone']"
      ]
     },
     "execution_count": 9,
     "metadata": {},
     "output_type": "execute_result"
    }
   ],
   "source": [
    "cat_cols, num_cols, cat_but_car = grab_col_names(df)\n",
    "cat_cols"
   ]
  },
  {
   "cell_type": "code",
   "execution_count": 10,
   "metadata": {
    "pycharm": {
     "name": "#%%\n"
    }
   },
   "outputs": [
    {
     "data": {
      "text/plain": [
       "['age', 'fare']"
      ]
     },
     "execution_count": 10,
     "metadata": {},
     "output_type": "execute_result"
    }
   ],
   "source": [
    "# Numerical columns\n",
    "\n",
    "num_cols"
   ]
  },
  {
   "cell_type": "code",
   "execution_count": 11,
   "metadata": {
    "pycharm": {
     "name": "#%%\n"
    }
   },
   "outputs": [
    {
     "data": {
      "text/plain": [
       "[]"
      ]
     },
     "execution_count": 11,
     "metadata": {},
     "output_type": "execute_result"
    }
   ],
   "source": [
    "# Categorical but High cardinality columns\n",
    "\n",
    "cat_but_car"
   ]
  },
  {
   "cell_type": "code",
   "execution_count": 12,
   "metadata": {
    "pycharm": {
     "name": "#%%\n"
    }
   },
   "outputs": [
    {
     "name": "stdout",
     "output_type": "stream",
     "text": [
      "        sex      Ratio\n",
      "male    577  64.758698\n",
      "female  314  35.241302\n",
      "##########################################\n",
      "   embarked      Ratio\n",
      "S       644  72.278339\n",
      "C       168  18.855219\n",
      "Q        77   8.641975\n",
      "##########################################\n",
      "        class      Ratio\n",
      "Third     491  55.106622\n",
      "First     216  24.242424\n",
      "Second    184  20.650954\n",
      "##########################################\n",
      "       who      Ratio\n",
      "man    537  60.269360\n",
      "woman  271  30.415264\n",
      "child   83   9.315376\n",
      "##########################################\n",
      "   adult_male     Ratio\n",
      "1         537  60.26936\n",
      "0         354  39.73064\n",
      "##########################################\n",
      "   deck     Ratio\n",
      "C    59  6.621773\n",
      "B    47  5.274972\n",
      "D    33  3.703704\n",
      "E    32  3.591470\n",
      "A    15  1.683502\n",
      "F    13  1.459035\n",
      "G     4  0.448934\n",
      "##########################################\n",
      "             embark_town      Ratio\n",
      "Southampton          644  72.278339\n",
      "Cherbourg            168  18.855219\n",
      "Queenstown            77   8.641975\n",
      "##########################################\n",
      "     alive      Ratio\n",
      "no     549  61.616162\n",
      "yes    342  38.383838\n",
      "##########################################\n",
      "   alone     Ratio\n",
      "1    537  60.26936\n",
      "0    354  39.73064\n",
      "##########################################\n"
     ]
    }
   ],
   "source": [
    "# Summary for categorical variables\n",
    "from EDA import cat_summary\n",
    "\n",
    "for col in cat_cols:\n",
    "    cat_summary(df, col)"
   ]
  },
  {
   "cell_type": "code",
   "execution_count": 13,
   "metadata": {
    "pycharm": {
     "name": "#%%\n"
    }
   },
   "outputs": [
    {
     "name": "stdout",
     "output_type": "stream",
     "text": [
      "        sex      Ratio\n",
      "male    577  64.758698\n",
      "female  314  35.241302\n",
      "##########################################\n"
     ]
    },
    {
     "data": {
      "image/png": "[encoded data removed]",
      "text/plain": [
       "<Figure size 432x288 with 1 Axes>"
      ]
     },
     "metadata": {},
     "output_type": "display_data"
    }
   ],
   "source": [
    "cat_summary(df, \"sex\", plot=True)"
   ]
  },
  {
   "cell_type": "markdown",
   "metadata": {
    "pycharm": {
     "name": "#%% md\n"
    }
   },
   "source": [
    "# Analysis of Numerical Variables"
   ]
  },
  {
   "cell_type": "code",
   "execution_count": 15,
   "metadata": {
    "pycharm": {
     "name": "#%%\n"
    }
   },
   "outputs": [
    {
     "name": "stdout",
     "output_type": "stream",
     "text": [
      "count    714.000000\n",
      "mean      29.699118\n",
      "std       14.526497\n",
      "min        0.420000\n",
      "5%         4.000000\n",
      "10%       14.000000\n",
      "20%       19.000000\n",
      "30%       22.000000\n",
      "40%       25.000000\n",
      "50%       28.000000\n",
      "60%       31.800000\n",
      "70%       36.000000\n",
      "80%       41.000000\n",
      "90%       50.000000\n",
      "95%       56.000000\n",
      "99%       65.870000\n",
      "max       80.000000\n",
      "Name: age, dtype: float64\n"
     ]
    }
   ],
   "source": [
    "num_summary(df, \"age\")"
   ]
  },
  {
   "cell_type": "markdown",
   "metadata": {
    "pycharm": {
     "name": "#%% md\n"
    }
   },
   "source": [
    "<b> Summary information for all numeric variables"
   ]
  },
  {
   "cell_type": "code",
   "execution_count": 16,
   "metadata": {
    "pycharm": {
     "name": "#%%\n"
    }
   },
   "outputs": [
    {
     "name": "stdout",
     "output_type": "stream",
     "text": [
      "count    714.000000\n",
      "mean      29.699118\n",
      "std       14.526497\n",
      "min        0.420000\n",
      "5%         4.000000\n",
      "10%       14.000000\n",
      "20%       19.000000\n",
      "30%       22.000000\n",
      "40%       25.000000\n",
      "50%       28.000000\n",
      "60%       31.800000\n",
      "70%       36.000000\n",
      "80%       41.000000\n",
      "90%       50.000000\n",
      "95%       56.000000\n",
      "99%       65.870000\n",
      "max       80.000000\n",
      "Name: age, dtype: float64\n",
      "count    891.000000\n",
      "mean      32.204208\n",
      "std       49.693429\n",
      "min        0.000000\n",
      "5%         7.225000\n",
      "10%        7.550000\n",
      "20%        7.854200\n",
      "30%        8.050000\n",
      "40%       10.500000\n",
      "50%       14.454200\n",
      "60%       21.679200\n",
      "70%       27.000000\n",
      "80%       39.687500\n",
      "90%       77.958300\n",
      "95%      112.079150\n",
      "99%      249.006220\n",
      "max      512.329200\n",
      "Name: fare, dtype: float64\n"
     ]
    }
   ],
   "source": [
    "for col in num_cols:\n",
    "    num_summary(df, col)"
   ]
  },
  {
   "cell_type": "code",
   "execution_count": 17,
   "metadata": {
    "pycharm": {
     "name": "#%%\n"
    }
   },
   "outputs": [
    {
     "name": "stdout",
     "output_type": "stream",
     "text": [
      "count    714.000000\n",
      "mean      29.699118\n",
      "std       14.526497\n",
      "min        0.420000\n",
      "5%         4.000000\n",
      "10%       14.000000\n",
      "20%       19.000000\n",
      "30%       22.000000\n",
      "40%       25.000000\n",
      "50%       28.000000\n",
      "60%       31.800000\n",
      "70%       36.000000\n",
      "80%       41.000000\n",
      "90%       50.000000\n",
      "95%       56.000000\n",
      "99%       65.870000\n",
      "max       80.000000\n",
      "Name: age, dtype: float64\n"
     ]
    },
    {
     "data": {
      "image/png": "[encoded data removed]",
      "text/plain": [
       "<Figure size 432x288 with 1 Axes>"
      ]
     },
     "metadata": {},
     "output_type": "display_data"
    },
    {
     "name": "stdout",
     "output_type": "stream",
     "text": [
      "count    891.000000\n",
      "mean      32.204208\n",
      "std       49.693429\n",
      "min        0.000000\n",
      "5%         7.225000\n",
      "10%        7.550000\n",
      "20%        7.854200\n",
      "30%        8.050000\n",
      "40%       10.500000\n",
      "50%       14.454200\n",
      "60%       21.679200\n",
      "70%       27.000000\n",
      "80%       39.687500\n",
      "90%       77.958300\n",
      "95%      112.079150\n",
      "99%      249.006220\n",
      "max      512.329200\n",
      "Name: fare, dtype: float64\n"
     ]
    },
    {
     "data": {
      "image/png": "[encoded data removed]",
      "text/plain": [
       "<Figure size 432x288 with 1 Axes>"
      ]
     },
     "metadata": {},
     "output_type": "display_data"
    }
   ],
   "source": [
    "for col in num_cols:\n",
    "    num_summary(df, col, plot=True)"
   ]
  },
  {
   "cell_type": "markdown",
   "metadata": {
    "pycharm": {
     "name": "#%% md\n"
    }
   },
   "source": [
    "# Analysis of Target Variable"
   ]
  },
  {
   "cell_type": "code",
   "execution_count": 18,
   "metadata": {
    "pycharm": {
     "name": "#%%\n"
    }
   },
   "outputs": [
    {
     "data": {
      "text/plain": [
       "0    549\n",
       "1    342\n",
       "Name: survived, dtype: int64"
      ]
     },
     "execution_count": 18,
     "metadata": {},
     "output_type": "execute_result"
    }
   ],
   "source": [
    "df[\"survived\"].value_counts()"
   ]
  },
  {
   "cell_type": "code",
   "execution_count": 19,
   "metadata": {
    "pycharm": {
     "name": "#%%\n"
    }
   },
   "outputs": [
    {
     "name": "stdout",
     "output_type": "stream",
     "text": [
      "   survived      Ratio\n",
      "0       549  61.616162\n",
      "1       342  38.383838\n",
      "##########################################\n"
     ]
    },
    {
     "data": {
      "image/png": "[encoded data removed]",
      "text/plain": [
       "<Figure size 432x288 with 1 Axes>"
      ]
     },
     "metadata": {},
     "output_type": "display_data"
    }
   ],
   "source": [
    "cat_summary(df, \"survived\", plot=True)"
   ]
  },
  {
   "cell_type": "markdown",
   "metadata": {
    "pycharm": {
     "name": "#%% md\n"
    }
   },
   "source": [
    "# Analysis of the Target Variable with Categorical Variables"
   ]
  },
  {
   "cell_type": "code",
   "execution_count": 20,
   "metadata": {
    "pycharm": {
     "name": "#%%\n"
    }
   },
   "outputs": [
    {
     "name": "stdout",
     "output_type": "stream",
     "text": [
      "        TARGET_MEAN\n",
      "pclass             \n",
      "1          0.629630\n",
      "2          0.472826\n",
      "3          0.242363\n",
      "\n",
      "\n"
     ]
    }
   ],
   "source": [
    "from EDA import target_summary_with_cat\n",
    "\n",
    "target_summary_with_cat(df, \"survived\", \"pclass\")"
   ]
  },
  {
   "cell_type": "code",
   "execution_count": 21,
   "metadata": {
    "pycharm": {
     "name": "#%%\n"
    }
   },
   "outputs": [
    {
     "name": "stdout",
     "output_type": "stream",
     "text": [
      "        TARGET_MEAN\n",
      "sex                \n",
      "female     0.742038\n",
      "male       0.188908\n",
      "\n",
      "\n",
      "          TARGET_MEAN\n",
      "embarked             \n",
      "C            0.553571\n",
      "Q            0.389610\n",
      "S            0.336957\n",
      "\n",
      "\n",
      "        TARGET_MEAN\n",
      "class              \n",
      "First      0.629630\n",
      "Second     0.472826\n",
      "Third      0.242363\n",
      "\n",
      "\n",
      "       TARGET_MEAN\n",
      "who               \n",
      "child     0.590361\n",
      "man       0.163873\n",
      "woman     0.756458\n",
      "\n",
      "\n",
      "            TARGET_MEAN\n",
      "adult_male             \n",
      "0              0.717514\n",
      "1              0.163873\n",
      "\n",
      "\n",
      "      TARGET_MEAN\n",
      "deck             \n",
      "A        0.466667\n",
      "B        0.744681\n",
      "C        0.593220\n",
      "D        0.757576\n",
      "E        0.750000\n",
      "F        0.615385\n",
      "G        0.500000\n",
      "\n",
      "\n",
      "             TARGET_MEAN\n",
      "embark_town             \n",
      "Cherbourg       0.553571\n",
      "Queenstown      0.389610\n",
      "Southampton     0.336957\n",
      "\n",
      "\n",
      "       TARGET_MEAN\n",
      "alive             \n",
      "no             0.0\n",
      "yes            1.0\n",
      "\n",
      "\n",
      "       TARGET_MEAN\n",
      "alone             \n",
      "0         0.505650\n",
      "1         0.303538\n",
      "\n",
      "\n"
     ]
    }
   ],
   "source": [
    "for col in cat_cols:\n",
    "    target_summary_with_cat(df, \"survived\", col)"
   ]
  },
  {
   "cell_type": "markdown",
   "metadata": {
    "pycharm": {
     "name": "#%% md\n"
    }
   },
   "source": [
    "# Analysis of Target Variable with Numerical Variables"
   ]
  },
  {
   "cell_type": "code",
   "execution_count": 22,
   "metadata": {
    "pycharm": {
     "name": "#%%\n"
    }
   },
   "outputs": [
    {
     "name": "stdout",
     "output_type": "stream",
     "text": [
      "                age\n",
      "survived           \n",
      "0         30.626179\n",
      "1         28.343690\n",
      "\n",
      "\n",
      "               fare\n",
      "survived           \n",
      "0         22.117887\n",
      "1         48.395408\n",
      "\n",
      "\n"
     ]
    }
   ],
   "source": [
    "from EDA import target_summary_with_num\n",
    "\n",
    "for col in num_cols:\n",
    "    target_summary_with_num(df, \"survived\", col)"
   ]
  },
  {
   "cell_type": "markdown",
   "metadata": {
    "pycharm": {
     "name": "#%% md\n"
    }
   },
   "source": [
    "# Analysis of Correlation"
   ]
  },
  {
   "cell_type": "code",
   "execution_count": 23,
   "metadata": {
    "pycharm": {
     "name": "#%%\n"
    }
   },
   "outputs": [
    {
     "data": {
      "text/html": [
       "<div>\n",
       "<style scoped>\n",
       "    .dataframe tbody tr th:only-of-type {\n",
       "        vertical-align: middle;\n",
       "    }\n",
       "\n",
       "    .dataframe tbody tr th {\n",
       "        vertical-align: top;\n",
       "    }\n",
       "\n",
       "    .dataframe thead th {\n",
       "        text-align: right;\n",
       "    }\n",
       "</style>\n",
       "<table border=\"1\" class=\"dataframe\">\n",
       "  <thead>\n",
       "    <tr style=\"text-align: right;\">\n",
       "      <th></th>\n",
       "      <th>diagnosis</th>\n",
       "      <th>radius_mean</th>\n",
       "      <th>texture_mean</th>\n",
       "      <th>perimeter_mean</th>\n",
       "      <th>area_mean</th>\n",
       "      <th>smoothness_mean</th>\n",
       "      <th>compactness_mean</th>\n",
       "      <th>concavity_mean</th>\n",
       "      <th>concave points_mean</th>\n",
       "      <th>symmetry_mean</th>\n",
       "      <th>fractal_dimension_mean</th>\n",
       "      <th>radius_se</th>\n",
       "      <th>texture_se</th>\n",
       "      <th>perimeter_se</th>\n",
       "      <th>area_se</th>\n",
       "      <th>smoothness_se</th>\n",
       "      <th>compactness_se</th>\n",
       "      <th>concavity_se</th>\n",
       "      <th>concave points_se</th>\n",
       "      <th>symmetry_se</th>\n",
       "      <th>fractal_dimension_se</th>\n",
       "      <th>radius_worst</th>\n",
       "      <th>texture_worst</th>\n",
       "      <th>perimeter_worst</th>\n",
       "      <th>area_worst</th>\n",
       "      <th>smoothness_worst</th>\n",
       "      <th>compactness_worst</th>\n",
       "      <th>concavity_worst</th>\n",
       "      <th>concave points_worst</th>\n",
       "      <th>symmetry_worst</th>\n",
       "      <th>fractal_dimension_worst</th>\n",
       "    </tr>\n",
       "  </thead>\n",
       "  <tbody>\n",
       "    <tr>\n",
       "      <th>0</th>\n",
       "      <td>M</td>\n",
       "      <td>17.99</td>\n",
       "      <td>10.38</td>\n",
       "      <td>122.80</td>\n",
       "      <td>1001.0</td>\n",
       "      <td>0.11840</td>\n",
       "      <td>0.27760</td>\n",
       "      <td>0.3001</td>\n",
       "      <td>0.14710</td>\n",
       "      <td>0.2419</td>\n",
       "      <td>0.07871</td>\n",
       "      <td>1.0950</td>\n",
       "      <td>0.9053</td>\n",
       "      <td>8.589</td>\n",
       "      <td>153.40</td>\n",
       "      <td>0.006399</td>\n",
       "      <td>0.04904</td>\n",
       "      <td>0.05373</td>\n",
       "      <td>0.01587</td>\n",
       "      <td>0.03003</td>\n",
       "      <td>0.006193</td>\n",
       "      <td>25.38</td>\n",
       "      <td>17.33</td>\n",
       "      <td>184.60</td>\n",
       "      <td>2019.0</td>\n",
       "      <td>0.1622</td>\n",
       "      <td>0.6656</td>\n",
       "      <td>0.7119</td>\n",
       "      <td>0.2654</td>\n",
       "      <td>0.4601</td>\n",
       "      <td>0.11890</td>\n",
       "    </tr>\n",
       "    <tr>\n",
       "      <th>1</th>\n",
       "      <td>M</td>\n",
       "      <td>20.57</td>\n",
       "      <td>17.77</td>\n",
       "      <td>132.90</td>\n",
       "      <td>1326.0</td>\n",
       "      <td>0.08474</td>\n",
       "      <td>0.07864</td>\n",
       "      <td>0.0869</td>\n",
       "      <td>0.07017</td>\n",
       "      <td>0.1812</td>\n",
       "      <td>0.05667</td>\n",
       "      <td>0.5435</td>\n",
       "      <td>0.7339</td>\n",
       "      <td>3.398</td>\n",
       "      <td>74.08</td>\n",
       "      <td>0.005225</td>\n",
       "      <td>0.01308</td>\n",
       "      <td>0.01860</td>\n",
       "      <td>0.01340</td>\n",
       "      <td>0.01389</td>\n",
       "      <td>0.003532</td>\n",
       "      <td>24.99</td>\n",
       "      <td>23.41</td>\n",
       "      <td>158.80</td>\n",
       "      <td>1956.0</td>\n",
       "      <td>0.1238</td>\n",
       "      <td>0.1866</td>\n",
       "      <td>0.2416</td>\n",
       "      <td>0.1860</td>\n",
       "      <td>0.2750</td>\n",
       "      <td>0.08902</td>\n",
       "    </tr>\n",
       "    <tr>\n",
       "      <th>2</th>\n",
       "      <td>M</td>\n",
       "      <td>19.69</td>\n",
       "      <td>21.25</td>\n",
       "      <td>130.00</td>\n",
       "      <td>1203.0</td>\n",
       "      <td>0.10960</td>\n",
       "      <td>0.15990</td>\n",
       "      <td>0.1974</td>\n",
       "      <td>0.12790</td>\n",
       "      <td>0.2069</td>\n",
       "      <td>0.05999</td>\n",
       "      <td>0.7456</td>\n",
       "      <td>0.7869</td>\n",
       "      <td>4.585</td>\n",
       "      <td>94.03</td>\n",
       "      <td>0.006150</td>\n",
       "      <td>0.04006</td>\n",
       "      <td>0.03832</td>\n",
       "      <td>0.02058</td>\n",
       "      <td>0.02250</td>\n",
       "      <td>0.004571</td>\n",
       "      <td>23.57</td>\n",
       "      <td>25.53</td>\n",
       "      <td>152.50</td>\n",
       "      <td>1709.0</td>\n",
       "      <td>0.1444</td>\n",
       "      <td>0.4245</td>\n",
       "      <td>0.4504</td>\n",
       "      <td>0.2430</td>\n",
       "      <td>0.3613</td>\n",
       "      <td>0.08758</td>\n",
       "    </tr>\n",
       "    <tr>\n",
       "      <th>3</th>\n",
       "      <td>M</td>\n",
       "      <td>11.42</td>\n",
       "      <td>20.38</td>\n",
       "      <td>77.58</td>\n",
       "      <td>386.1</td>\n",
       "      <td>0.14250</td>\n",
       "      <td>0.28390</td>\n",
       "      <td>0.2414</td>\n",
       "      <td>0.10520</td>\n",
       "      <td>0.2597</td>\n",
       "      <td>0.09744</td>\n",
       "      <td>0.4956</td>\n",
       "      <td>1.1560</td>\n",
       "      <td>3.445</td>\n",
       "      <td>27.23</td>\n",
       "      <td>0.009110</td>\n",
       "      <td>0.07458</td>\n",
       "      <td>0.05661</td>\n",
       "      <td>0.01867</td>\n",
       "      <td>0.05963</td>\n",
       "      <td>0.009208</td>\n",
       "      <td>14.91</td>\n",
       "      <td>26.50</td>\n",
       "      <td>98.87</td>\n",
       "      <td>567.7</td>\n",
       "      <td>0.2098</td>\n",
       "      <td>0.8663</td>\n",
       "      <td>0.6869</td>\n",
       "      <td>0.2575</td>\n",
       "      <td>0.6638</td>\n",
       "      <td>0.17300</td>\n",
       "    </tr>\n",
       "    <tr>\n",
       "      <th>4</th>\n",
       "      <td>M</td>\n",
       "      <td>20.29</td>\n",
       "      <td>14.34</td>\n",
       "      <td>135.10</td>\n",
       "      <td>1297.0</td>\n",
       "      <td>0.10030</td>\n",
       "      <td>0.13280</td>\n",
       "      <td>0.1980</td>\n",
       "      <td>0.10430</td>\n",
       "      <td>0.1809</td>\n",
       "      <td>0.05883</td>\n",
       "      <td>0.7572</td>\n",
       "      <td>0.7813</td>\n",
       "      <td>5.438</td>\n",
       "      <td>94.44</td>\n",
       "      <td>0.011490</td>\n",
       "      <td>0.02461</td>\n",
       "      <td>0.05688</td>\n",
       "      <td>0.01885</td>\n",
       "      <td>0.01756</td>\n",
       "      <td>0.005115</td>\n",
       "      <td>22.54</td>\n",
       "      <td>16.67</td>\n",
       "      <td>152.20</td>\n",
       "      <td>1575.0</td>\n",
       "      <td>0.1374</td>\n",
       "      <td>0.2050</td>\n",
       "      <td>0.4000</td>\n",
       "      <td>0.1625</td>\n",
       "      <td>0.2364</td>\n",
       "      <td>0.07678</td>\n",
       "    </tr>\n",
       "  </tbody>\n",
       "</table>\n",
       "</div>"
      ],
      "text/plain": [
       "  diagnosis  radius_mean  texture_mean  perimeter_mean  area_mean  smoothness_mean  compactness_mean  concavity_mean  concave points_mean  symmetry_mean  fractal_dimension_mean  radius_se  texture_se  perimeter_se  area_se  smoothness_se  compactness_se  concavity_se  concave points_se  symmetry_se  fractal_dimension_se  radius_worst  texture_worst  perimeter_worst  area_worst  smoothness_worst  compactness_worst  concavity_worst  concave points_worst  symmetry_worst  fractal_dimension_worst\n",
       "0         M        17.99         10.38          122.80     1001.0          0.11840           0.27760          0.3001              0.14710         0.2419                 0.07871     1.0950      0.9053         8.589   153.40       0.006399         0.04904       0.05373            0.01587      0.03003              0.006193         25.38          17.33           184.60      2019.0            0.1622             0.6656           0.7119                0.2654          0.4601                  0.11890\n",
       "1         M        20.57         17.77          132.90     1326.0          0.08474           0.07864          0.0869              0.07017         0.1812                 0.05667     0.5435      0.7339         3.398    74.08       0.005225         0.01308       0.01860            0.01340      0.01389              0.003532         24.99          23.41           158.80      1956.0            0.1238             0.1866           0.2416                0.1860          0.2750                  0.08902\n",
       "2         M        19.69         21.25          130.00     1203.0          0.10960           0.15990          0.1974              0.12790         0.2069                 0.05999     0.7456      0.7869         4.585    94.03       0.006150         0.04006       0.03832            0.02058      0.02250              0.004571         23.57          25.53           152.50      1709.0            0.1444             0.4245           0.4504                0.2430          0.3613                  0.08758\n",
       "3         M        11.42         20.38           77.58      386.1          0.14250           0.28390          0.2414              0.10520         0.2597                 0.09744     0.4956      1.1560         3.445    27.23       0.009110         0.07458       0.05661            0.01867      0.05963              0.009208         14.91          26.50            98.87       567.7            0.2098             0.8663           0.6869                0.2575          0.6638                  0.17300\n",
       "4         M        20.29         14.34          135.10     1297.0          0.10030           0.13280          0.1980              0.10430         0.1809                 0.05883     0.7572      0.7813         5.438    94.44       0.011490         0.02461       0.05688            0.01885      0.01756              0.005115         22.54          16.67           152.20      1575.0            0.1374             0.2050           0.4000                0.1625          0.2364                  0.07678"
      ]
     },
     "execution_count": 23,
     "metadata": {},
     "output_type": "execute_result"
    }
   ],
   "source": [
    "from EDA import high_corr_cols\n",
    "\n",
    "df = pd.read_csv(\"breast_cancer.csv\")\n",
    "df = df.iloc[:, 1:-1]\n",
    "df.head()"
   ]
  },
  {
   "cell_type": "code",
   "execution_count": 24,
   "metadata": {
    "pycharm": {
     "name": "#%%\n"
    }
   },
   "outputs": [
    {
     "name": "stdout",
     "output_type": "stream",
     "text": [
      "Observations: 569\n",
      "Variables: 31\n",
      "cat_cols: 1\n",
      "num_cols: 30\n",
      "cat_but_car: 0\n",
      "num_but_cat: 0\n"
     ]
    }
   ],
   "source": [
    "cat_cols, num_cols, cat_but_car = grab_col_names(df)"
   ]
  },
  {
   "cell_type": "code",
   "execution_count": 25,
   "metadata": {
    "pycharm": {
     "name": "#%%\n"
    }
   },
   "outputs": [
    {
     "data": {
      "text/html": [
       "<div>\n",
       "<style scoped>\n",
       "    .dataframe tbody tr th:only-of-type {\n",
       "        vertical-align: middle;\n",
       "    }\n",
       "\n",
       "    .dataframe tbody tr th {\n",
       "        vertical-align: top;\n",
       "    }\n",
       "\n",
       "    .dataframe thead th {\n",
       "        text-align: right;\n",
       "    }\n",
       "</style>\n",
       "<table border=\"1\" class=\"dataframe\">\n",
       "  <thead>\n",
       "    <tr style=\"text-align: right;\">\n",
       "      <th></th>\n",
       "      <th>radius_mean</th>\n",
       "      <th>texture_mean</th>\n",
       "      <th>perimeter_mean</th>\n",
       "      <th>area_mean</th>\n",
       "      <th>smoothness_mean</th>\n",
       "      <th>compactness_mean</th>\n",
       "      <th>concavity_mean</th>\n",
       "      <th>concave points_mean</th>\n",
       "      <th>symmetry_mean</th>\n",
       "      <th>fractal_dimension_mean</th>\n",
       "      <th>radius_se</th>\n",
       "      <th>texture_se</th>\n",
       "      <th>perimeter_se</th>\n",
       "      <th>area_se</th>\n",
       "      <th>smoothness_se</th>\n",
       "      <th>compactness_se</th>\n",
       "      <th>concavity_se</th>\n",
       "      <th>concave points_se</th>\n",
       "      <th>symmetry_se</th>\n",
       "      <th>fractal_dimension_se</th>\n",
       "      <th>radius_worst</th>\n",
       "      <th>texture_worst</th>\n",
       "      <th>perimeter_worst</th>\n",
       "      <th>area_worst</th>\n",
       "      <th>smoothness_worst</th>\n",
       "      <th>compactness_worst</th>\n",
       "      <th>concavity_worst</th>\n",
       "      <th>concave points_worst</th>\n",
       "      <th>symmetry_worst</th>\n",
       "      <th>fractal_dimension_worst</th>\n",
       "    </tr>\n",
       "  </thead>\n",
       "  <tbody>\n",
       "    <tr>\n",
       "      <th>radius_mean</th>\n",
       "      <td>1.000000</td>\n",
       "      <td>0.323782</td>\n",
       "      <td>0.997855</td>\n",
       "      <td>0.987357</td>\n",
       "      <td>0.170581</td>\n",
       "      <td>0.506124</td>\n",
       "      <td>0.676764</td>\n",
       "      <td>0.822529</td>\n",
       "      <td>0.147741</td>\n",
       "      <td>-0.311631</td>\n",
       "      <td>0.679090</td>\n",
       "      <td>-0.097317</td>\n",
       "      <td>0.674172</td>\n",
       "      <td>0.735864</td>\n",
       "      <td>-0.222600</td>\n",
       "      <td>0.206000</td>\n",
       "      <td>0.194204</td>\n",
       "      <td>0.376169</td>\n",
       "      <td>-0.104321</td>\n",
       "      <td>-0.042641</td>\n",
       "      <td>0.969539</td>\n",
       "      <td>0.297008</td>\n",
       "      <td>0.965137</td>\n",
       "      <td>0.941082</td>\n",
       "      <td>0.119616</td>\n",
       "      <td>0.413463</td>\n",
       "      <td>0.526911</td>\n",
       "      <td>0.744214</td>\n",
       "      <td>0.163953</td>\n",
       "      <td>0.007066</td>\n",
       "    </tr>\n",
       "    <tr>\n",
       "      <th>texture_mean</th>\n",
       "      <td>0.323782</td>\n",
       "      <td>1.000000</td>\n",
       "      <td>0.329533</td>\n",
       "      <td>0.321086</td>\n",
       "      <td>-0.023389</td>\n",
       "      <td>0.236702</td>\n",
       "      <td>0.302418</td>\n",
       "      <td>0.293464</td>\n",
       "      <td>0.071401</td>\n",
       "      <td>-0.076437</td>\n",
       "      <td>0.275869</td>\n",
       "      <td>0.386358</td>\n",
       "      <td>0.281673</td>\n",
       "      <td>0.259845</td>\n",
       "      <td>0.006614</td>\n",
       "      <td>0.191975</td>\n",
       "      <td>0.143293</td>\n",
       "      <td>0.163851</td>\n",
       "      <td>0.009127</td>\n",
       "      <td>0.054458</td>\n",
       "      <td>0.352573</td>\n",
       "      <td>0.912045</td>\n",
       "      <td>0.358040</td>\n",
       "      <td>0.343546</td>\n",
       "      <td>0.077503</td>\n",
       "      <td>0.277830</td>\n",
       "      <td>0.301025</td>\n",
       "      <td>0.295316</td>\n",
       "      <td>0.105008</td>\n",
       "      <td>0.119205</td>\n",
       "    </tr>\n",
       "    <tr>\n",
       "      <th>perimeter_mean</th>\n",
       "      <td>0.997855</td>\n",
       "      <td>0.329533</td>\n",
       "      <td>1.000000</td>\n",
       "      <td>0.986507</td>\n",
       "      <td>0.207278</td>\n",
       "      <td>0.556936</td>\n",
       "      <td>0.716136</td>\n",
       "      <td>0.850977</td>\n",
       "      <td>0.183027</td>\n",
       "      <td>-0.261477</td>\n",
       "      <td>0.691765</td>\n",
       "      <td>-0.086761</td>\n",
       "      <td>0.693135</td>\n",
       "      <td>0.744983</td>\n",
       "      <td>-0.202694</td>\n",
       "      <td>0.250744</td>\n",
       "      <td>0.228082</td>\n",
       "      <td>0.407217</td>\n",
       "      <td>-0.081629</td>\n",
       "      <td>-0.005523</td>\n",
       "      <td>0.969476</td>\n",
       "      <td>0.303038</td>\n",
       "      <td>0.970387</td>\n",
       "      <td>0.941550</td>\n",
       "      <td>0.150549</td>\n",
       "      <td>0.455774</td>\n",
       "      <td>0.563879</td>\n",
       "      <td>0.771241</td>\n",
       "      <td>0.189115</td>\n",
       "      <td>0.051019</td>\n",
       "    </tr>\n",
       "    <tr>\n",
       "      <th>area_mean</th>\n",
       "      <td>0.987357</td>\n",
       "      <td>0.321086</td>\n",
       "      <td>0.986507</td>\n",
       "      <td>1.000000</td>\n",
       "      <td>0.177028</td>\n",
       "      <td>0.498502</td>\n",
       "      <td>0.685983</td>\n",
       "      <td>0.823269</td>\n",
       "      <td>0.151293</td>\n",
       "      <td>-0.283110</td>\n",
       "      <td>0.732562</td>\n",
       "      <td>-0.066280</td>\n",
       "      <td>0.726628</td>\n",
       "      <td>0.800086</td>\n",
       "      <td>-0.166777</td>\n",
       "      <td>0.212583</td>\n",
       "      <td>0.207660</td>\n",
       "      <td>0.372320</td>\n",
       "      <td>-0.072497</td>\n",
       "      <td>-0.019887</td>\n",
       "      <td>0.962746</td>\n",
       "      <td>0.287489</td>\n",
       "      <td>0.959120</td>\n",
       "      <td>0.959213</td>\n",
       "      <td>0.123523</td>\n",
       "      <td>0.390410</td>\n",
       "      <td>0.512606</td>\n",
       "      <td>0.722017</td>\n",
       "      <td>0.143570</td>\n",
       "      <td>0.003738</td>\n",
       "    </tr>\n",
       "    <tr>\n",
       "      <th>smoothness_mean</th>\n",
       "      <td>0.170581</td>\n",
       "      <td>-0.023389</td>\n",
       "      <td>0.207278</td>\n",
       "      <td>0.177028</td>\n",
       "      <td>1.000000</td>\n",
       "      <td>0.659123</td>\n",
       "      <td>0.521984</td>\n",
       "      <td>0.553695</td>\n",
       "      <td>0.557775</td>\n",
       "      <td>0.584792</td>\n",
       "      <td>0.301467</td>\n",
       "      <td>0.068406</td>\n",
       "      <td>0.296092</td>\n",
       "      <td>0.246552</td>\n",
       "      <td>0.332375</td>\n",
       "      <td>0.318943</td>\n",
       "      <td>0.248396</td>\n",
       "      <td>0.380676</td>\n",
       "      <td>0.200774</td>\n",
       "      <td>0.283607</td>\n",
       "      <td>0.213120</td>\n",
       "      <td>0.036072</td>\n",
       "      <td>0.238853</td>\n",
       "      <td>0.206718</td>\n",
       "      <td>0.805324</td>\n",
       "      <td>0.472468</td>\n",
       "      <td>0.434926</td>\n",
       "      <td>0.503053</td>\n",
       "      <td>0.394309</td>\n",
       "      <td>0.499316</td>\n",
       "    </tr>\n",
       "    <tr>\n",
       "      <th>compactness_mean</th>\n",
       "      <td>0.506124</td>\n",
       "      <td>0.236702</td>\n",
       "      <td>0.556936</td>\n",
       "      <td>0.498502</td>\n",
       "      <td>0.659123</td>\n",
       "      <td>1.000000</td>\n",
       "      <td>0.883121</td>\n",
       "      <td>0.831135</td>\n",
       "      <td>0.602641</td>\n",
       "      <td>0.565369</td>\n",
       "      <td>0.497473</td>\n",
       "      <td>0.046205</td>\n",
       "      <td>0.548905</td>\n",
       "      <td>0.455653</td>\n",
       "      <td>0.135299</td>\n",
       "      <td>0.738722</td>\n",
       "      <td>0.570517</td>\n",
       "      <td>0.642262</td>\n",
       "      <td>0.229977</td>\n",
       "      <td>0.507318</td>\n",
       "      <td>0.535315</td>\n",
       "      <td>0.248133</td>\n",
       "      <td>0.590210</td>\n",
       "      <td>0.509604</td>\n",
       "      <td>0.565541</td>\n",
       "      <td>0.865809</td>\n",
       "      <td>0.816275</td>\n",
       "      <td>0.815573</td>\n",
       "      <td>0.510223</td>\n",
       "      <td>0.687382</td>\n",
       "    </tr>\n",
       "    <tr>\n",
       "      <th>concavity_mean</th>\n",
       "      <td>0.676764</td>\n",
       "      <td>0.302418</td>\n",
       "      <td>0.716136</td>\n",
       "      <td>0.685983</td>\n",
       "      <td>0.521984</td>\n",
       "      <td>0.883121</td>\n",
       "      <td>1.000000</td>\n",
       "      <td>0.921391</td>\n",
       "      <td>0.500667</td>\n",
       "      <td>0.336783</td>\n",
       "      <td>0.631925</td>\n",
       "      <td>0.076218</td>\n",
       "      <td>0.660391</td>\n",
       "      <td>0.617427</td>\n",
       "      <td>0.098564</td>\n",
       "      <td>0.670279</td>\n",
       "      <td>0.691270</td>\n",
       "      <td>0.683260</td>\n",
       "      <td>0.178009</td>\n",
       "      <td>0.449301</td>\n",
       "      <td>0.688236</td>\n",
       "      <td>0.299879</td>\n",
       "      <td>0.729565</td>\n",
       "      <td>0.675987</td>\n",
       "      <td>0.448822</td>\n",
       "      <td>0.754968</td>\n",
       "      <td>0.884103</td>\n",
       "      <td>0.861323</td>\n",
       "      <td>0.409464</td>\n",
       "      <td>0.514930</td>\n",
       "    </tr>\n",
       "    <tr>\n",
       "      <th>concave points_mean</th>\n",
       "      <td>0.822529</td>\n",
       "      <td>0.293464</td>\n",
       "      <td>0.850977</td>\n",
       "      <td>0.823269</td>\n",
       "      <td>0.553695</td>\n",
       "      <td>0.831135</td>\n",
       "      <td>0.921391</td>\n",
       "      <td>1.000000</td>\n",
       "      <td>0.462497</td>\n",
       "      <td>0.166917</td>\n",
       "      <td>0.698050</td>\n",
       "      <td>0.021480</td>\n",
       "      <td>0.710650</td>\n",
       "      <td>0.690299</td>\n",
       "      <td>0.027653</td>\n",
       "      <td>0.490424</td>\n",
       "      <td>0.439167</td>\n",
       "      <td>0.615634</td>\n",
       "      <td>0.095351</td>\n",
       "      <td>0.257584</td>\n",
       "      <td>0.830318</td>\n",
       "      <td>0.292752</td>\n",
       "      <td>0.855923</td>\n",
       "      <td>0.809630</td>\n",
       "      <td>0.452753</td>\n",
       "      <td>0.667454</td>\n",
       "      <td>0.752399</td>\n",
       "      <td>0.910155</td>\n",
       "      <td>0.375744</td>\n",
       "      <td>0.368661</td>\n",
       "    </tr>\n",
       "    <tr>\n",
       "      <th>symmetry_mean</th>\n",
       "      <td>0.147741</td>\n",
       "      <td>0.071401</td>\n",
       "      <td>0.183027</td>\n",
       "      <td>0.151293</td>\n",
       "      <td>0.557775</td>\n",
       "      <td>0.602641</td>\n",
       "      <td>0.500667</td>\n",
       "      <td>0.462497</td>\n",
       "      <td>1.000000</td>\n",
       "      <td>0.479921</td>\n",
       "      <td>0.303379</td>\n",
       "      <td>0.128053</td>\n",
       "      <td>0.313893</td>\n",
       "      <td>0.223970</td>\n",
       "      <td>0.187321</td>\n",
       "      <td>0.421659</td>\n",
       "      <td>0.342627</td>\n",
       "      <td>0.393298</td>\n",
       "      <td>0.449137</td>\n",
       "      <td>0.331786</td>\n",
       "      <td>0.185728</td>\n",
       "      <td>0.090651</td>\n",
       "      <td>0.219169</td>\n",
       "      <td>0.177193</td>\n",
       "      <td>0.426675</td>\n",
       "      <td>0.473200</td>\n",
       "      <td>0.433721</td>\n",
       "      <td>0.430297</td>\n",
       "      <td>0.699826</td>\n",
       "      <td>0.438413</td>\n",
       "    </tr>\n",
       "    <tr>\n",
       "      <th>fractal_dimension_mean</th>\n",
       "      <td>-0.311631</td>\n",
       "      <td>-0.076437</td>\n",
       "      <td>-0.261477</td>\n",
       "      <td>-0.283110</td>\n",
       "      <td>0.584792</td>\n",
       "      <td>0.565369</td>\n",
       "      <td>0.336783</td>\n",
       "      <td>0.166917</td>\n",
       "      <td>0.479921</td>\n",
       "      <td>1.000000</td>\n",
       "      <td>0.000111</td>\n",
       "      <td>0.164174</td>\n",
       "      <td>0.039830</td>\n",
       "      <td>-0.090170</td>\n",
       "      <td>0.401964</td>\n",
       "      <td>0.559837</td>\n",
       "      <td>0.446630</td>\n",
       "      <td>0.341198</td>\n",
       "      <td>0.345007</td>\n",
       "      <td>0.688132</td>\n",
       "      <td>-0.253691</td>\n",
       "      <td>-0.051269</td>\n",
       "      <td>-0.205151</td>\n",
       "      <td>-0.231854</td>\n",
       "      <td>0.504942</td>\n",
       "      <td>0.458798</td>\n",
       "      <td>0.346234</td>\n",
       "      <td>0.175325</td>\n",
       "      <td>0.334019</td>\n",
       "      <td>0.767297</td>\n",
       "    </tr>\n",
       "    <tr>\n",
       "      <th>radius_se</th>\n",
       "      <td>0.679090</td>\n",
       "      <td>0.275869</td>\n",
       "      <td>0.691765</td>\n",
       "      <td>0.732562</td>\n",
       "      <td>0.301467</td>\n",
       "      <td>0.497473</td>\n",
       "      <td>0.631925</td>\n",
       "      <td>0.698050</td>\n",
       "      <td>0.303379</td>\n",
       "      <td>0.000111</td>\n",
       "      <td>1.000000</td>\n",
       "      <td>0.213247</td>\n",
       "      <td>0.972794</td>\n",
       "      <td>0.951830</td>\n",
       "      <td>0.164514</td>\n",
       "      <td>0.356065</td>\n",
       "      <td>0.332358</td>\n",
       "      <td>0.513346</td>\n",
       "      <td>0.240567</td>\n",
       "      <td>0.227754</td>\n",
       "      <td>0.715065</td>\n",
       "      <td>0.194799</td>\n",
       "      <td>0.719684</td>\n",
       "      <td>0.751548</td>\n",
       "      <td>0.141919</td>\n",
       "      <td>0.287103</td>\n",
       "      <td>0.380585</td>\n",
       "      <td>0.531062</td>\n",
       "      <td>0.094543</td>\n",
       "      <td>0.049559</td>\n",
       "    </tr>\n",
       "    <tr>\n",
       "      <th>texture_se</th>\n",
       "      <td>-0.097317</td>\n",
       "      <td>0.386358</td>\n",
       "      <td>-0.086761</td>\n",
       "      <td>-0.066280</td>\n",
       "      <td>0.068406</td>\n",
       "      <td>0.046205</td>\n",
       "      <td>0.076218</td>\n",
       "      <td>0.021480</td>\n",
       "      <td>0.128053</td>\n",
       "      <td>0.164174</td>\n",
       "      <td>0.213247</td>\n",
       "      <td>1.000000</td>\n",
       "      <td>0.223171</td>\n",
       "      <td>0.111567</td>\n",
       "      <td>0.397243</td>\n",
       "      <td>0.231700</td>\n",
       "      <td>0.194998</td>\n",
       "      <td>0.230283</td>\n",
       "      <td>0.411621</td>\n",
       "      <td>0.279723</td>\n",
       "      <td>-0.111690</td>\n",
       "      <td>0.409003</td>\n",
       "      <td>-0.102242</td>\n",
       "      <td>-0.083195</td>\n",
       "      <td>-0.073658</td>\n",
       "      <td>-0.092439</td>\n",
       "      <td>-0.068956</td>\n",
       "      <td>-0.119638</td>\n",
       "      <td>-0.128215</td>\n",
       "      <td>-0.045655</td>\n",
       "    </tr>\n",
       "    <tr>\n",
       "      <th>perimeter_se</th>\n",
       "      <td>0.674172</td>\n",
       "      <td>0.281673</td>\n",
       "      <td>0.693135</td>\n",
       "      <td>0.726628</td>\n",
       "      <td>0.296092</td>\n",
       "      <td>0.548905</td>\n",
       "      <td>0.660391</td>\n",
       "      <td>0.710650</td>\n",
       "      <td>0.313893</td>\n",
       "      <td>0.039830</td>\n",
       "      <td>0.972794</td>\n",
       "      <td>0.223171</td>\n",
       "      <td>1.000000</td>\n",
       "      <td>0.937655</td>\n",
       "      <td>0.151075</td>\n",
       "      <td>0.416322</td>\n",
       "      <td>0.362482</td>\n",
       "      <td>0.556264</td>\n",
       "      <td>0.266487</td>\n",
       "      <td>0.244143</td>\n",
       "      <td>0.697201</td>\n",
       "      <td>0.200371</td>\n",
       "      <td>0.721031</td>\n",
       "      <td>0.730713</td>\n",
       "      <td>0.130054</td>\n",
       "      <td>0.341919</td>\n",
       "      <td>0.418899</td>\n",
       "      <td>0.554897</td>\n",
       "      <td>0.109930</td>\n",
       "      <td>0.085433</td>\n",
       "    </tr>\n",
       "    <tr>\n",
       "      <th>area_se</th>\n",
       "      <td>0.735864</td>\n",
       "      <td>0.259845</td>\n",
       "      <td>0.744983</td>\n",
       "      <td>0.800086</td>\n",
       "      <td>0.246552</td>\n",
       "      <td>0.455653</td>\n",
       "      <td>0.617427</td>\n",
       "      <td>0.690299</td>\n",
       "      <td>0.223970</td>\n",
       "      <td>-0.090170</td>\n",
       "      <td>0.951830</td>\n",
       "      <td>0.111567</td>\n",
       "      <td>0.937655</td>\n",
       "      <td>1.000000</td>\n",
       "      <td>0.075150</td>\n",
       "      <td>0.284840</td>\n",
       "      <td>0.270895</td>\n",
       "      <td>0.415730</td>\n",
       "      <td>0.134109</td>\n",
       "      <td>0.127071</td>\n",
       "      <td>0.757373</td>\n",
       "      <td>0.196497</td>\n",
       "      <td>0.761213</td>\n",
       "      <td>0.811408</td>\n",
       "      <td>0.125389</td>\n",
       "      <td>0.283257</td>\n",
       "      <td>0.385100</td>\n",
       "      <td>0.538166</td>\n",
       "      <td>0.074126</td>\n",
       "      <td>0.017539</td>\n",
       "    </tr>\n",
       "    <tr>\n",
       "      <th>smoothness_se</th>\n",
       "      <td>-0.222600</td>\n",
       "      <td>0.006614</td>\n",
       "      <td>-0.202694</td>\n",
       "      <td>-0.166777</td>\n",
       "      <td>0.332375</td>\n",
       "      <td>0.135299</td>\n",
       "      <td>0.098564</td>\n",
       "      <td>0.027653</td>\n",
       "      <td>0.187321</td>\n",
       "      <td>0.401964</td>\n",
       "      <td>0.164514</td>\n",
       "      <td>0.397243</td>\n",
       "      <td>0.151075</td>\n",
       "      <td>0.075150</td>\n",
       "      <td>1.000000</td>\n",
       "      <td>0.336696</td>\n",
       "      <td>0.268685</td>\n",
       "      <td>0.328429</td>\n",
       "      <td>0.413506</td>\n",
       "      <td>0.427374</td>\n",
       "      <td>-0.230691</td>\n",
       "      <td>-0.074743</td>\n",
       "      <td>-0.217304</td>\n",
       "      <td>-0.182195</td>\n",
       "      <td>0.314457</td>\n",
       "      <td>-0.055558</td>\n",
       "      <td>-0.058298</td>\n",
       "      <td>-0.102007</td>\n",
       "      <td>-0.107342</td>\n",
       "      <td>0.101480</td>\n",
       "    </tr>\n",
       "    <tr>\n",
       "      <th>compactness_se</th>\n",
       "      <td>0.206000</td>\n",
       "      <td>0.191975</td>\n",
       "      <td>0.250744</td>\n",
       "      <td>0.212583</td>\n",
       "      <td>0.318943</td>\n",
       "      <td>0.738722</td>\n",
       "      <td>0.670279</td>\n",
       "      <td>0.490424</td>\n",
       "      <td>0.421659</td>\n",
       "      <td>0.559837</td>\n",
       "      <td>0.356065</td>\n",
       "      <td>0.231700</td>\n",
       "      <td>0.416322</td>\n",
       "      <td>0.284840</td>\n",
       "      <td>0.336696</td>\n",
       "      <td>1.000000</td>\n",
       "      <td>0.801268</td>\n",
       "      <td>0.744083</td>\n",
       "      <td>0.394713</td>\n",
       "      <td>0.803269</td>\n",
       "      <td>0.204607</td>\n",
       "      <td>0.143003</td>\n",
       "      <td>0.260516</td>\n",
       "      <td>0.199371</td>\n",
       "      <td>0.227394</td>\n",
       "      <td>0.678780</td>\n",
       "      <td>0.639147</td>\n",
       "      <td>0.483208</td>\n",
       "      <td>0.277878</td>\n",
       "      <td>0.590973</td>\n",
       "    </tr>\n",
       "    <tr>\n",
       "      <th>concavity_se</th>\n",
       "      <td>0.194204</td>\n",
       "      <td>0.143293</td>\n",
       "      <td>0.228082</td>\n",
       "      <td>0.207660</td>\n",
       "      <td>0.248396</td>\n",
       "      <td>0.570517</td>\n",
       "      <td>0.691270</td>\n",
       "      <td>0.439167</td>\n",
       "      <td>0.342627</td>\n",
       "      <td>0.446630</td>\n",
       "      <td>0.332358</td>\n",
       "      <td>0.194998</td>\n",
       "      <td>0.362482</td>\n",
       "      <td>0.270895</td>\n",
       "      <td>0.268685</td>\n",
       "      <td>0.801268</td>\n",
       "      <td>1.000000</td>\n",
       "      <td>0.771804</td>\n",
       "      <td>0.309429</td>\n",
       "      <td>0.727372</td>\n",
       "      <td>0.186904</td>\n",
       "      <td>0.100241</td>\n",
       "      <td>0.226680</td>\n",
       "      <td>0.188353</td>\n",
       "      <td>0.168481</td>\n",
       "      <td>0.484858</td>\n",
       "      <td>0.662564</td>\n",
       "      <td>0.440472</td>\n",
       "      <td>0.197788</td>\n",
       "      <td>0.439329</td>\n",
       "    </tr>\n",
       "    <tr>\n",
       "      <th>concave points_se</th>\n",
       "      <td>0.376169</td>\n",
       "      <td>0.163851</td>\n",
       "      <td>0.407217</td>\n",
       "      <td>0.372320</td>\n",
       "      <td>0.380676</td>\n",
       "      <td>0.642262</td>\n",
       "      <td>0.683260</td>\n",
       "      <td>0.615634</td>\n",
       "      <td>0.393298</td>\n",
       "      <td>0.341198</td>\n",
       "      <td>0.513346</td>\n",
       "      <td>0.230283</td>\n",
       "      <td>0.556264</td>\n",
       "      <td>0.415730</td>\n",
       "      <td>0.328429</td>\n",
       "      <td>0.744083</td>\n",
       "      <td>0.771804</td>\n",
       "      <td>1.000000</td>\n",
       "      <td>0.312780</td>\n",
       "      <td>0.611044</td>\n",
       "      <td>0.358127</td>\n",
       "      <td>0.086741</td>\n",
       "      <td>0.394999</td>\n",
       "      <td>0.342271</td>\n",
       "      <td>0.215351</td>\n",
       "      <td>0.452888</td>\n",
       "      <td>0.549592</td>\n",
       "      <td>0.602450</td>\n",
       "      <td>0.143116</td>\n",
       "      <td>0.310655</td>\n",
       "    </tr>\n",
       "    <tr>\n",
       "      <th>symmetry_se</th>\n",
       "      <td>-0.104321</td>\n",
       "      <td>0.009127</td>\n",
       "      <td>-0.081629</td>\n",
       "      <td>-0.072497</td>\n",
       "      <td>0.200774</td>\n",
       "      <td>0.229977</td>\n",
       "      <td>0.178009</td>\n",
       "      <td>0.095351</td>\n",
       "      <td>0.449137</td>\n",
       "      <td>0.345007</td>\n",
       "      <td>0.240567</td>\n",
       "      <td>0.411621</td>\n",
       "      <td>0.266487</td>\n",
       "      <td>0.134109</td>\n",
       "      <td>0.413506</td>\n",
       "      <td>0.394713</td>\n",
       "      <td>0.309429</td>\n",
       "      <td>0.312780</td>\n",
       "      <td>1.000000</td>\n",
       "      <td>0.369078</td>\n",
       "      <td>-0.128121</td>\n",
       "      <td>-0.077473</td>\n",
       "      <td>-0.103753</td>\n",
       "      <td>-0.110343</td>\n",
       "      <td>-0.012662</td>\n",
       "      <td>0.060255</td>\n",
       "      <td>0.037119</td>\n",
       "      <td>-0.030413</td>\n",
       "      <td>0.389402</td>\n",
       "      <td>0.078079</td>\n",
       "    </tr>\n",
       "    <tr>\n",
       "      <th>fractal_dimension_se</th>\n",
       "      <td>-0.042641</td>\n",
       "      <td>0.054458</td>\n",
       "      <td>-0.005523</td>\n",
       "      <td>-0.019887</td>\n",
       "      <td>0.283607</td>\n",
       "      <td>0.507318</td>\n",
       "      <td>0.449301</td>\n",
       "      <td>0.257584</td>\n",
       "      <td>0.331786</td>\n",
       "      <td>0.688132</td>\n",
       "      <td>0.227754</td>\n",
       "      <td>0.279723</td>\n",
       "      <td>0.244143</td>\n",
       "      <td>0.127071</td>\n",
       "      <td>0.427374</td>\n",
       "      <td>0.803269</td>\n",
       "      <td>0.727372</td>\n",
       "      <td>0.611044</td>\n",
       "      <td>0.369078</td>\n",
       "      <td>1.000000</td>\n",
       "      <td>-0.037488</td>\n",
       "      <td>-0.003195</td>\n",
       "      <td>-0.001000</td>\n",
       "      <td>-0.022736</td>\n",
       "      <td>0.170568</td>\n",
       "      <td>0.390159</td>\n",
       "      <td>0.379975</td>\n",
       "      <td>0.215204</td>\n",
       "      <td>0.111094</td>\n",
       "      <td>0.591328</td>\n",
       "    </tr>\n",
       "    <tr>\n",
       "      <th>radius_worst</th>\n",
       "      <td>0.969539</td>\n",
       "      <td>0.352573</td>\n",
       "      <td>0.969476</td>\n",
       "      <td>0.962746</td>\n",
       "      <td>0.213120</td>\n",
       "      <td>0.535315</td>\n",
       "      <td>0.688236</td>\n",
       "      <td>0.830318</td>\n",
       "      <td>0.185728</td>\n",
       "      <td>-0.253691</td>\n",
       "      <td>0.715065</td>\n",
       "      <td>-0.111690</td>\n",
       "      <td>0.697201</td>\n",
       "      <td>0.757373</td>\n",
       "      <td>-0.230691</td>\n",
       "      <td>0.204607</td>\n",
       "      <td>0.186904</td>\n",
       "      <td>0.358127</td>\n",
       "      <td>-0.128121</td>\n",
       "      <td>-0.037488</td>\n",
       "      <td>1.000000</td>\n",
       "      <td>0.359921</td>\n",
       "      <td>0.993708</td>\n",
       "      <td>0.984015</td>\n",
       "      <td>0.216574</td>\n",
       "      <td>0.475820</td>\n",
       "      <td>0.573975</td>\n",
       "      <td>0.787424</td>\n",
       "      <td>0.243529</td>\n",
       "      <td>0.093492</td>\n",
       "    </tr>\n",
       "    <tr>\n",
       "      <th>texture_worst</th>\n",
       "      <td>0.297008</td>\n",
       "      <td>0.912045</td>\n",
       "      <td>0.303038</td>\n",
       "      <td>0.287489</td>\n",
       "      <td>0.036072</td>\n",
       "      <td>0.248133</td>\n",
       "      <td>0.299879</td>\n",
       "      <td>0.292752</td>\n",
       "      <td>0.090651</td>\n",
       "      <td>-0.051269</td>\n",
       "      <td>0.194799</td>\n",
       "      <td>0.409003</td>\n",
       "      <td>0.200371</td>\n",
       "      <td>0.196497</td>\n",
       "      <td>-0.074743</td>\n",
       "      <td>0.143003</td>\n",
       "      <td>0.100241</td>\n",
       "      <td>0.086741</td>\n",
       "      <td>-0.077473</td>\n",
       "      <td>-0.003195</td>\n",
       "      <td>0.359921</td>\n",
       "      <td>1.000000</td>\n",
       "      <td>0.365098</td>\n",
       "      <td>0.345842</td>\n",
       "      <td>0.225429</td>\n",
       "      <td>0.360832</td>\n",
       "      <td>0.368366</td>\n",
       "      <td>0.359755</td>\n",
       "      <td>0.233027</td>\n",
       "      <td>0.219122</td>\n",
       "    </tr>\n",
       "    <tr>\n",
       "      <th>perimeter_worst</th>\n",
       "      <td>0.965137</td>\n",
       "      <td>0.358040</td>\n",
       "      <td>0.970387</td>\n",
       "      <td>0.959120</td>\n",
       "      <td>0.238853</td>\n",
       "      <td>0.590210</td>\n",
       "      <td>0.729565</td>\n",
       "      <td>0.855923</td>\n",
       "      <td>0.219169</td>\n",
       "      <td>-0.205151</td>\n",
       "      <td>0.719684</td>\n",
       "      <td>-0.102242</td>\n",
       "      <td>0.721031</td>\n",
       "      <td>0.761213</td>\n",
       "      <td>-0.217304</td>\n",
       "      <td>0.260516</td>\n",
       "      <td>0.226680</td>\n",
       "      <td>0.394999</td>\n",
       "      <td>-0.103753</td>\n",
       "      <td>-0.001000</td>\n",
       "      <td>0.993708</td>\n",
       "      <td>0.365098</td>\n",
       "      <td>1.000000</td>\n",
       "      <td>0.977578</td>\n",
       "      <td>0.236775</td>\n",
       "      <td>0.529408</td>\n",
       "      <td>0.618344</td>\n",
       "      <td>0.816322</td>\n",
       "      <td>0.269493</td>\n",
       "      <td>0.138957</td>\n",
       "    </tr>\n",
       "    <tr>\n",
       "      <th>area_worst</th>\n",
       "      <td>0.941082</td>\n",
       "      <td>0.343546</td>\n",
       "      <td>0.941550</td>\n",
       "      <td>0.959213</td>\n",
       "      <td>0.206718</td>\n",
       "      <td>0.509604</td>\n",
       "      <td>0.675987</td>\n",
       "      <td>0.809630</td>\n",
       "      <td>0.177193</td>\n",
       "      <td>-0.231854</td>\n",
       "      <td>0.751548</td>\n",
       "      <td>-0.083195</td>\n",
       "      <td>0.730713</td>\n",
       "      <td>0.811408</td>\n",
       "      <td>-0.182195</td>\n",
       "      <td>0.199371</td>\n",
       "      <td>0.188353</td>\n",
       "      <td>0.342271</td>\n",
       "      <td>-0.110343</td>\n",
       "      <td>-0.022736</td>\n",
       "      <td>0.984015</td>\n",
       "      <td>0.345842</td>\n",
       "      <td>0.977578</td>\n",
       "      <td>1.000000</td>\n",
       "      <td>0.209145</td>\n",
       "      <td>0.438296</td>\n",
       "      <td>0.543331</td>\n",
       "      <td>0.747419</td>\n",
       "      <td>0.209146</td>\n",
       "      <td>0.079647</td>\n",
       "    </tr>\n",
       "    <tr>\n",
       "      <th>smoothness_worst</th>\n",
       "      <td>0.119616</td>\n",
       "      <td>0.077503</td>\n",
       "      <td>0.150549</td>\n",
       "      <td>0.123523</td>\n",
       "      <td>0.805324</td>\n",
       "      <td>0.565541</td>\n",
       "      <td>0.448822</td>\n",
       "      <td>0.452753</td>\n",
       "      <td>0.426675</td>\n",
       "      <td>0.504942</td>\n",
       "      <td>0.141919</td>\n",
       "      <td>-0.073658</td>\n",
       "      <td>0.130054</td>\n",
       "      <td>0.125389</td>\n",
       "      <td>0.314457</td>\n",
       "      <td>0.227394</td>\n",
       "      <td>0.168481</td>\n",
       "      <td>0.215351</td>\n",
       "      <td>-0.012662</td>\n",
       "      <td>0.170568</td>\n",
       "      <td>0.216574</td>\n",
       "      <td>0.225429</td>\n",
       "      <td>0.236775</td>\n",
       "      <td>0.209145</td>\n",
       "      <td>1.000000</td>\n",
       "      <td>0.568187</td>\n",
       "      <td>0.518523</td>\n",
       "      <td>0.547691</td>\n",
       "      <td>0.493838</td>\n",
       "      <td>0.617624</td>\n",
       "    </tr>\n",
       "    <tr>\n",
       "      <th>compactness_worst</th>\n",
       "      <td>0.413463</td>\n",
       "      <td>0.277830</td>\n",
       "      <td>0.455774</td>\n",
       "      <td>0.390410</td>\n",
       "      <td>0.472468</td>\n",
       "      <td>0.865809</td>\n",
       "      <td>0.754968</td>\n",
       "      <td>0.667454</td>\n",
       "      <td>0.473200</td>\n",
       "      <td>0.458798</td>\n",
       "      <td>0.287103</td>\n",
       "      <td>-0.092439</td>\n",
       "      <td>0.341919</td>\n",
       "      <td>0.283257</td>\n",
       "      <td>-0.055558</td>\n",
       "      <td>0.678780</td>\n",
       "      <td>0.484858</td>\n",
       "      <td>0.452888</td>\n",
       "      <td>0.060255</td>\n",
       "      <td>0.390159</td>\n",
       "      <td>0.475820</td>\n",
       "      <td>0.360832</td>\n",
       "      <td>0.529408</td>\n",
       "      <td>0.438296</td>\n",
       "      <td>0.568187</td>\n",
       "      <td>1.000000</td>\n",
       "      <td>0.892261</td>\n",
       "      <td>0.801080</td>\n",
       "      <td>0.614441</td>\n",
       "      <td>0.810455</td>\n",
       "    </tr>\n",
       "    <tr>\n",
       "      <th>concavity_worst</th>\n",
       "      <td>0.526911</td>\n",
       "      <td>0.301025</td>\n",
       "      <td>0.563879</td>\n",
       "      <td>0.512606</td>\n",
       "      <td>0.434926</td>\n",
       "      <td>0.816275</td>\n",
       "      <td>0.884103</td>\n",
       "      <td>0.752399</td>\n",
       "      <td>0.433721</td>\n",
       "      <td>0.346234</td>\n",
       "      <td>0.380585</td>\n",
       "      <td>-0.068956</td>\n",
       "      <td>0.418899</td>\n",
       "      <td>0.385100</td>\n",
       "      <td>-0.058298</td>\n",
       "      <td>0.639147</td>\n",
       "      <td>0.662564</td>\n",
       "      <td>0.549592</td>\n",
       "      <td>0.037119</td>\n",
       "      <td>0.379975</td>\n",
       "      <td>0.573975</td>\n",
       "      <td>0.368366</td>\n",
       "      <td>0.618344</td>\n",
       "      <td>0.543331</td>\n",
       "      <td>0.518523</td>\n",
       "      <td>0.892261</td>\n",
       "      <td>1.000000</td>\n",
       "      <td>0.855434</td>\n",
       "      <td>0.532520</td>\n",
       "      <td>0.686511</td>\n",
       "    </tr>\n",
       "    <tr>\n",
       "      <th>concave points_worst</th>\n",
       "      <td>0.744214</td>\n",
       "      <td>0.295316</td>\n",
       "      <td>0.771241</td>\n",
       "      <td>0.722017</td>\n",
       "      <td>0.503053</td>\n",
       "      <td>0.815573</td>\n",
       "      <td>0.861323</td>\n",
       "      <td>0.910155</td>\n",
       "      <td>0.430297</td>\n",
       "      <td>0.175325</td>\n",
       "      <td>0.531062</td>\n",
       "      <td>-0.119638</td>\n",
       "      <td>0.554897</td>\n",
       "      <td>0.538166</td>\n",
       "      <td>-0.102007</td>\n",
       "      <td>0.483208</td>\n",
       "      <td>0.440472</td>\n",
       "      <td>0.602450</td>\n",
       "      <td>-0.030413</td>\n",
       "      <td>0.215204</td>\n",
       "      <td>0.787424</td>\n",
       "      <td>0.359755</td>\n",
       "      <td>0.816322</td>\n",
       "      <td>0.747419</td>\n",
       "      <td>0.547691</td>\n",
       "      <td>0.801080</td>\n",
       "      <td>0.855434</td>\n",
       "      <td>1.000000</td>\n",
       "      <td>0.502528</td>\n",
       "      <td>0.511114</td>\n",
       "    </tr>\n",
       "    <tr>\n",
       "      <th>symmetry_worst</th>\n",
       "      <td>0.163953</td>\n",
       "      <td>0.105008</td>\n",
       "      <td>0.189115</td>\n",
       "      <td>0.143570</td>\n",
       "      <td>0.394309</td>\n",
       "      <td>0.510223</td>\n",
       "      <td>0.409464</td>\n",
       "      <td>0.375744</td>\n",
       "      <td>0.699826</td>\n",
       "      <td>0.334019</td>\n",
       "      <td>0.094543</td>\n",
       "      <td>-0.128215</td>\n",
       "      <td>0.109930</td>\n",
       "      <td>0.074126</td>\n",
       "      <td>-0.107342</td>\n",
       "      <td>0.277878</td>\n",
       "      <td>0.197788</td>\n",
       "      <td>0.143116</td>\n",
       "      <td>0.389402</td>\n",
       "      <td>0.111094</td>\n",
       "      <td>0.243529</td>\n",
       "      <td>0.233027</td>\n",
       "      <td>0.269493</td>\n",
       "      <td>0.209146</td>\n",
       "      <td>0.493838</td>\n",
       "      <td>0.614441</td>\n",
       "      <td>0.532520</td>\n",
       "      <td>0.502528</td>\n",
       "      <td>1.000000</td>\n",
       "      <td>0.537848</td>\n",
       "    </tr>\n",
       "    <tr>\n",
       "      <th>fractal_dimension_worst</th>\n",
       "      <td>0.007066</td>\n",
       "      <td>0.119205</td>\n",
       "      <td>0.051019</td>\n",
       "      <td>0.003738</td>\n",
       "      <td>0.499316</td>\n",
       "      <td>0.687382</td>\n",
       "      <td>0.514930</td>\n",
       "      <td>0.368661</td>\n",
       "      <td>0.438413</td>\n",
       "      <td>0.767297</td>\n",
       "      <td>0.049559</td>\n",
       "      <td>-0.045655</td>\n",
       "      <td>0.085433</td>\n",
       "      <td>0.017539</td>\n",
       "      <td>0.101480</td>\n",
       "      <td>0.590973</td>\n",
       "      <td>0.439329</td>\n",
       "      <td>0.310655</td>\n",
       "      <td>0.078079</td>\n",
       "      <td>0.591328</td>\n",
       "      <td>0.093492</td>\n",
       "      <td>0.219122</td>\n",
       "      <td>0.138957</td>\n",
       "      <td>0.079647</td>\n",
       "      <td>0.617624</td>\n",
       "      <td>0.810455</td>\n",
       "      <td>0.686511</td>\n",
       "      <td>0.511114</td>\n",
       "      <td>0.537848</td>\n",
       "      <td>1.000000</td>\n",
       "    </tr>\n",
       "  </tbody>\n",
       "</table>\n",
       "</div>"
      ],
      "text/plain": [
       "                         radius_mean  texture_mean  perimeter_mean  area_mean  smoothness_mean  compactness_mean  concavity_mean  concave points_mean  symmetry_mean  fractal_dimension_mean  radius_se  texture_se  perimeter_se   area_se  smoothness_se  compactness_se  concavity_se  concave points_se  symmetry_se  fractal_dimension_se  radius_worst  texture_worst  perimeter_worst  area_worst  smoothness_worst  compactness_worst  concavity_worst  concave points_worst  symmetry_worst  \\\n",
       "radius_mean                 1.000000      0.323782        0.997855   0.987357         0.170581          0.506124        0.676764             0.822529       0.147741               -0.311631   0.679090   -0.097317      0.674172  0.735864      -0.222600        0.206000      0.194204           0.376169    -0.104321             -0.042641      0.969539       0.297008         0.965137    0.941082          0.119616           0.413463         0.526911              0.744214        0.163953   \n",
       "texture_mean                0.323782      1.000000        0.329533   0.321086        -0.023389          0.236702        0.302418             0.293464       0.071401               -0.076437   0.275869    0.386358      0.281673  0.259845       0.006614        0.191975      0.143293           0.163851     0.009127              0.054458      0.352573       0.912045         0.358040    0.343546          0.077503           0.277830         0.301025              0.295316        0.105008   \n",
       "perimeter_mean              0.997855      0.329533        1.000000   0.986507         0.207278          0.556936        0.716136             0.850977       0.183027               -0.261477   0.691765   -0.086761      0.693135  0.744983      -0.202694        0.250744      0.228082           0.407217    -0.081629             -0.005523      0.969476       0.303038         0.970387    0.941550          0.150549           0.455774         0.563879              0.771241        0.189115   \n",
       "area_mean                   0.987357      0.321086        0.986507   1.000000         0.177028          0.498502        0.685983             0.823269       0.151293               -0.283110   0.732562   -0.066280      0.726628  0.800086      -0.166777        0.212583      0.207660           0.372320    -0.072497             -0.019887      0.962746       0.287489         0.959120    0.959213          0.123523           0.390410         0.512606              0.722017        0.143570   \n",
       "smoothness_mean             0.170581     -0.023389        0.207278   0.177028         1.000000          0.659123        0.521984             0.553695       0.557775                0.584792   0.301467    0.068406      0.296092  0.246552       0.332375        0.318943      0.248396           0.380676     0.200774              0.283607      0.213120       0.036072         0.238853    0.206718          0.805324           0.472468         0.434926              0.503053        0.394309   \n",
       "compactness_mean            0.506124      0.236702        0.556936   0.498502         0.659123          1.000000        0.883121             0.831135       0.602641                0.565369   0.497473    0.046205      0.548905  0.455653       0.135299        0.738722      0.570517           0.642262     0.229977              0.507318      0.535315       0.248133         0.590210    0.509604          0.565541           0.865809         0.816275              0.815573        0.510223   \n",
       "concavity_mean              0.676764      0.302418        0.716136   0.685983         0.521984          0.883121        1.000000             0.921391       0.500667                0.336783   0.631925    0.076218      0.660391  0.617427       0.098564        0.670279      0.691270           0.683260     0.178009              0.449301      0.688236       0.299879         0.729565    0.675987          0.448822           0.754968         0.884103              0.861323        0.409464   \n",
       "concave points_mean         0.822529      0.293464        0.850977   0.823269         0.553695          0.831135        0.921391             1.000000       0.462497                0.166917   0.698050    0.021480      0.710650  0.690299       0.027653        0.490424      0.439167           0.615634     0.095351              0.257584      0.830318       0.292752         0.855923    0.809630          0.452753           0.667454         0.752399              0.910155        0.375744   \n",
       "symmetry_mean               0.147741      0.071401        0.183027   0.151293         0.557775          0.602641        0.500667             0.462497       1.000000                0.479921   0.303379    0.128053      0.313893  0.223970       0.187321        0.421659      0.342627           0.393298     0.449137              0.331786      0.185728       0.090651         0.219169    0.177193          0.426675           0.473200         0.433721              0.430297        0.699826   \n",
       "fractal_dimension_mean     -0.311631     -0.076437       -0.261477  -0.283110         0.584792          0.565369        0.336783             0.166917       0.479921                1.000000   0.000111    0.164174      0.039830 -0.090170       0.401964        0.559837      0.446630           0.341198     0.345007              0.688132     -0.253691      -0.051269        -0.205151   -0.231854          0.504942           0.458798         0.346234              0.175325        0.334019   \n",
       "radius_se                   0.679090      0.275869        0.691765   0.732562         0.301467          0.497473        0.631925             0.698050       0.303379                0.000111   1.000000    0.213247      0.972794  0.951830       0.164514        0.356065      0.332358           0.513346     0.240567              0.227754      0.715065       0.194799         0.719684    0.751548          0.141919           0.287103         0.380585              0.531062        0.094543   \n",
       "texture_se                 -0.097317      0.386358       -0.086761  -0.066280         0.068406          0.046205        0.076218             0.021480       0.128053                0.164174   0.213247    1.000000      0.223171  0.111567       0.397243        0.231700      0.194998           0.230283     0.411621              0.279723     -0.111690       0.409003        -0.102242   -0.083195         -0.073658          -0.092439        -0.068956             -0.119638       -0.128215   \n",
       "perimeter_se                0.674172      0.281673        0.693135   0.726628         0.296092          0.548905        0.660391             0.710650       0.313893                0.039830   0.972794    0.223171      1.000000  0.937655       0.151075        0.416322      0.362482           0.556264     0.266487              0.244143      0.697201       0.200371         0.721031    0.730713          0.130054           0.341919         0.418899              0.554897        0.109930   \n",
       "area_se                     0.735864      0.259845        0.744983   0.800086         0.246552          0.455653        0.617427             0.690299       0.223970               -0.090170   0.951830    0.111567      0.937655  1.000000       0.075150        0.284840      0.270895           0.415730     0.134109              0.127071      0.757373       0.196497         0.761213    0.811408          0.125389           0.283257         0.385100              0.538166        0.074126   \n",
       "smoothness_se              -0.222600      0.006614       -0.202694  -0.166777         0.332375          0.135299        0.098564             0.027653       0.187321                0.401964   0.164514    0.397243      0.151075  0.075150       1.000000        0.336696      0.268685           0.328429     0.413506              0.427374     -0.230691      -0.074743        -0.217304   -0.182195          0.314457          -0.055558        -0.058298             -0.102007       -0.107342   \n",
       "compactness_se              0.206000      0.191975        0.250744   0.212583         0.318943          0.738722        0.670279             0.490424       0.421659                0.559837   0.356065    0.231700      0.416322  0.284840       0.336696        1.000000      0.801268           0.744083     0.394713              0.803269      0.204607       0.143003         0.260516    0.199371          0.227394           0.678780         0.639147              0.483208        0.277878   \n",
       "concavity_se                0.194204      0.143293        0.228082   0.207660         0.248396          0.570517        0.691270             0.439167       0.342627                0.446630   0.332358    0.194998      0.362482  0.270895       0.268685        0.801268      1.000000           0.771804     0.309429              0.727372      0.186904       0.100241         0.226680    0.188353          0.168481           0.484858         0.662564              0.440472        0.197788   \n",
       "concave points_se           0.376169      0.163851        0.407217   0.372320         0.380676          0.642262        0.683260             0.615634       0.393298                0.341198   0.513346    0.230283      0.556264  0.415730       0.328429        0.744083      0.771804           1.000000     0.312780              0.611044      0.358127       0.086741         0.394999    0.342271          0.215351           0.452888         0.549592              0.602450        0.143116   \n",
       "symmetry_se                -0.104321      0.009127       -0.081629  -0.072497         0.200774          0.229977        0.178009             0.095351       0.449137                0.345007   0.240567    0.411621      0.266487  0.134109       0.413506        0.394713      0.309429           0.312780     1.000000              0.369078     -0.128121      -0.077473        -0.103753   -0.110343         -0.012662           0.060255         0.037119             -0.030413        0.389402   \n",
       "fractal_dimension_se       -0.042641      0.054458       -0.005523  -0.019887         0.283607          0.507318        0.449301             0.257584       0.331786                0.688132   0.227754    0.279723      0.244143  0.127071       0.427374        0.803269      0.727372           0.611044     0.369078              1.000000     -0.037488      -0.003195        -0.001000   -0.022736          0.170568           0.390159         0.379975              0.215204        0.111094   \n",
       "radius_worst                0.969539      0.352573        0.969476   0.962746         0.213120          0.535315        0.688236             0.830318       0.185728               -0.253691   0.715065   -0.111690      0.697201  0.757373      -0.230691        0.204607      0.186904           0.358127    -0.128121             -0.037488      1.000000       0.359921         0.993708    0.984015          0.216574           0.475820         0.573975              0.787424        0.243529   \n",
       "texture_worst               0.297008      0.912045        0.303038   0.287489         0.036072          0.248133        0.299879             0.292752       0.090651               -0.051269   0.194799    0.409003      0.200371  0.196497      -0.074743        0.143003      0.100241           0.086741    -0.077473             -0.003195      0.359921       1.000000         0.365098    0.345842          0.225429           0.360832         0.368366              0.359755        0.233027   \n",
       "perimeter_worst             0.965137      0.358040        0.970387   0.959120         0.238853          0.590210        0.729565             0.855923       0.219169               -0.205151   0.719684   -0.102242      0.721031  0.761213      -0.217304        0.260516      0.226680           0.394999    -0.103753             -0.001000      0.993708       0.365098         1.000000    0.977578          0.236775           0.529408         0.618344              0.816322        0.269493   \n",
       "area_worst                  0.941082      0.343546        0.941550   0.959213         0.206718          0.509604        0.675987             0.809630       0.177193               -0.231854   0.751548   -0.083195      0.730713  0.811408      -0.182195        0.199371      0.188353           0.342271    -0.110343             -0.022736      0.984015       0.345842         0.977578    1.000000          0.209145           0.438296         0.543331              0.747419        0.209146   \n",
       "smoothness_worst            0.119616      0.077503        0.150549   0.123523         0.805324          0.565541        0.448822             0.452753       0.426675                0.504942   0.141919   -0.073658      0.130054  0.125389       0.314457        0.227394      0.168481           0.215351    -0.012662              0.170568      0.216574       0.225429         0.236775    0.209145          1.000000           0.568187         0.518523              0.547691        0.493838   \n",
       "compactness_worst           0.413463      0.277830        0.455774   0.390410         0.472468          0.865809        0.754968             0.667454       0.473200                0.458798   0.287103   -0.092439      0.341919  0.283257      -0.055558        0.678780      0.484858           0.452888     0.060255              0.390159      0.475820       0.360832         0.529408    0.438296          0.568187           1.000000         0.892261              0.801080        0.614441   \n",
       "concavity_worst             0.526911      0.301025        0.563879   0.512606         0.434926          0.816275        0.884103             0.752399       0.433721                0.346234   0.380585   -0.068956      0.418899  0.385100      -0.058298        0.639147      0.662564           0.549592     0.037119              0.379975      0.573975       0.368366         0.618344    0.543331          0.518523           0.892261         1.000000              0.855434        0.532520   \n",
       "concave points_worst        0.744214      0.295316        0.771241   0.722017         0.503053          0.815573        0.861323             0.910155       0.430297                0.175325   0.531062   -0.119638      0.554897  0.538166      -0.102007        0.483208      0.440472           0.602450    -0.030413              0.215204      0.787424       0.359755         0.816322    0.747419          0.547691           0.801080         0.855434              1.000000        0.502528   \n",
       "symmetry_worst              0.163953      0.105008        0.189115   0.143570         0.394309          0.510223        0.409464             0.375744       0.699826                0.334019   0.094543   -0.128215      0.109930  0.074126      -0.107342        0.277878      0.197788           0.143116     0.389402              0.111094      0.243529       0.233027         0.269493    0.209146          0.493838           0.614441         0.532520              0.502528        1.000000   \n",
       "fractal_dimension_worst     0.007066      0.119205        0.051019   0.003738         0.499316          0.687382        0.514930             0.368661       0.438413                0.767297   0.049559   -0.045655      0.085433  0.017539       0.101480        0.590973      0.439329           0.310655     0.078079              0.591328      0.093492       0.219122         0.138957    0.079647          0.617624           0.810455         0.686511              0.511114        0.537848   \n",
       "\n",
       "                         fractal_dimension_worst  \n",
       "radius_mean                             0.007066  \n",
       "texture_mean                            0.119205  \n",
       "perimeter_mean                          0.051019  \n",
       "area_mean                               0.003738  \n",
       "smoothness_mean                         0.499316  \n",
       "compactness_mean                        0.687382  \n",
       "concavity_mean                          0.514930  \n",
       "concave points_mean                     0.368661  \n",
       "symmetry_mean                           0.438413  \n",
       "fractal_dimension_mean                  0.767297  \n",
       "radius_se                               0.049559  \n",
       "texture_se                             -0.045655  \n",
       "perimeter_se                            0.085433  \n",
       "area_se                                 0.017539  \n",
       "smoothness_se                           0.101480  \n",
       "compactness_se                          0.590973  \n",
       "concavity_se                            0.439329  \n",
       "concave points_se                       0.310655  \n",
       "symmetry_se                             0.078079  \n",
       "fractal_dimension_se                    0.591328  \n",
       "radius_worst                            0.093492  \n",
       "texture_worst                           0.219122  \n",
       "perimeter_worst                         0.138957  \n",
       "area_worst                              0.079647  \n",
       "smoothness_worst                        0.617624  \n",
       "compactness_worst                       0.810455  \n",
       "concavity_worst                         0.686511  \n",
       "concave points_worst                    0.511114  \n",
       "symmetry_worst                          0.537848  \n",
       "fractal_dimension_worst                 1.000000  "
      ]
     },
     "execution_count": 25,
     "metadata": {},
     "output_type": "execute_result"
    }
   ],
   "source": [
    "corr = df[num_cols].corr()\n",
    "corr"
   ]
  },
  {
   "cell_type": "code",
   "execution_count": 26,
   "metadata": {
    "pycharm": {
     "name": "#%%\n"
    }
   },
   "outputs": [
    {
     "data": {
      "image/png": "[encoded data removed]",
      "text/plain": [
       "<Figure size 864x864 with 2 Axes>"
      ]
     },
     "metadata": {},
     "output_type": "display_data"
    }
   ],
   "source": [
    "sns.set(rc={'figure.figsize': (12, 12)})\n",
    "sns.heatmap(corr, cmap=\"RdBu\")\n",
    "plt.show()"
   ]
  },
  {
   "cell_type": "markdown",
   "metadata": {
    "pycharm": {
     "name": "#%% md\n"
    }
   },
   "source": [
    "# Deleting Highly Correlation Variables"
   ]
  },
  {
   "cell_type": "code",
   "execution_count": 28,
   "metadata": {
    "pycharm": {
     "name": "#%%\n"
    }
   },
   "outputs": [
    {
     "data": {
      "text/plain": [
       "['perimeter_mean',\n",
       " 'area_mean',\n",
       " 'concave points_mean',\n",
       " 'perimeter_se',\n",
       " 'area_se',\n",
       " 'radius_worst',\n",
       " 'texture_worst',\n",
       " 'perimeter_worst',\n",
       " 'area_worst',\n",
       " 'concave points_worst']"
      ]
     },
     "execution_count": 28,
     "metadata": {},
     "output_type": "execute_result"
    }
   ],
   "source": [
    "high_corr_cols(df)"
   ]
  },
  {
   "cell_type": "code",
   "execution_count": 29,
   "metadata": {
    "pycharm": {
     "name": "#%%\n"
    }
   },
   "outputs": [
    {
     "data": {
      "image/png": "[encoded data removed]",
      "text/plain": [
       "<Figure size 1080x1080 with 2 Axes>"
      ]
     },
     "metadata": {},
     "output_type": "display_data"
    }
   ],
   "source": [
    "drop_list = high_corr_cols(df, plot=True)"
   ]
  },
  {
   "cell_type": "code",
   "execution_count": 30,
   "metadata": {
    "pycharm": {
     "name": "#%%\n"
    }
   },
   "outputs": [
    {
     "data": {
      "text/html": [
       "<div>\n",
       "<style scoped>\n",
       "    .dataframe tbody tr th:only-of-type {\n",
       "        vertical-align: middle;\n",
       "    }\n",
       "\n",
       "    .dataframe tbody tr th {\n",
       "        vertical-align: top;\n",
       "    }\n",
       "\n",
       "    .dataframe thead th {\n",
       "        text-align: right;\n",
       "    }\n",
       "</style>\n",
       "<table border=\"1\" class=\"dataframe\">\n",
       "  <thead>\n",
       "    <tr style=\"text-align: right;\">\n",
       "      <th></th>\n",
       "      <th>diagnosis</th>\n",
       "      <th>radius_mean</th>\n",
       "      <th>texture_mean</th>\n",
       "      <th>smoothness_mean</th>\n",
       "      <th>compactness_mean</th>\n",
       "      <th>concavity_mean</th>\n",
       "      <th>symmetry_mean</th>\n",
       "      <th>fractal_dimension_mean</th>\n",
       "      <th>radius_se</th>\n",
       "      <th>texture_se</th>\n",
       "      <th>smoothness_se</th>\n",
       "      <th>compactness_se</th>\n",
       "      <th>concavity_se</th>\n",
       "      <th>concave points_se</th>\n",
       "      <th>symmetry_se</th>\n",
       "      <th>fractal_dimension_se</th>\n",
       "      <th>smoothness_worst</th>\n",
       "      <th>compactness_worst</th>\n",
       "      <th>concavity_worst</th>\n",
       "      <th>symmetry_worst</th>\n",
       "      <th>fractal_dimension_worst</th>\n",
       "    </tr>\n",
       "  </thead>\n",
       "  <tbody>\n",
       "    <tr>\n",
       "      <th>0</th>\n",
       "      <td>M</td>\n",
       "      <td>17.99</td>\n",
       "      <td>10.38</td>\n",
       "      <td>0.11840</td>\n",
       "      <td>0.27760</td>\n",
       "      <td>0.30010</td>\n",
       "      <td>0.2419</td>\n",
       "      <td>0.07871</td>\n",
       "      <td>1.0950</td>\n",
       "      <td>0.9053</td>\n",
       "      <td>0.006399</td>\n",
       "      <td>0.04904</td>\n",
       "      <td>0.05373</td>\n",
       "      <td>0.01587</td>\n",
       "      <td>0.03003</td>\n",
       "      <td>0.006193</td>\n",
       "      <td>0.16220</td>\n",
       "      <td>0.66560</td>\n",
       "      <td>0.7119</td>\n",
       "      <td>0.4601</td>\n",
       "      <td>0.11890</td>\n",
       "    </tr>\n",
       "    <tr>\n",
       "      <th>1</th>\n",
       "      <td>M</td>\n",
       "      <td>20.57</td>\n",
       "      <td>17.77</td>\n",
       "      <td>0.08474</td>\n",
       "      <td>0.07864</td>\n",
       "      <td>0.08690</td>\n",
       "      <td>0.1812</td>\n",
       "      <td>0.05667</td>\n",
       "      <td>0.5435</td>\n",
       "      <td>0.7339</td>\n",
       "      <td>0.005225</td>\n",
       "      <td>0.01308</td>\n",
       "      <td>0.01860</td>\n",
       "      <td>0.01340</td>\n",
       "      <td>0.01389</td>\n",
       "      <td>0.003532</td>\n",
       "      <td>0.12380</td>\n",
       "      <td>0.18660</td>\n",
       "      <td>0.2416</td>\n",
       "      <td>0.2750</td>\n",
       "      <td>0.08902</td>\n",
       "    </tr>\n",
       "    <tr>\n",
       "      <th>2</th>\n",
       "      <td>M</td>\n",
       "      <td>19.69</td>\n",
       "      <td>21.25</td>\n",
       "      <td>0.10960</td>\n",
       "      <td>0.15990</td>\n",
       "      <td>0.19740</td>\n",
       "      <td>0.2069</td>\n",
       "      <td>0.05999</td>\n",
       "      <td>0.7456</td>\n",
       "      <td>0.7869</td>\n",
       "      <td>0.006150</td>\n",
       "      <td>0.04006</td>\n",
       "      <td>0.03832</td>\n",
       "      <td>0.02058</td>\n",
       "      <td>0.02250</td>\n",
       "      <td>0.004571</td>\n",
       "      <td>0.14440</td>\n",
       "      <td>0.42450</td>\n",
       "      <td>0.4504</td>\n",
       "      <td>0.3613</td>\n",
       "      <td>0.08758</td>\n",
       "    </tr>\n",
       "    <tr>\n",
       "      <th>3</th>\n",
       "      <td>M</td>\n",
       "      <td>11.42</td>\n",
       "      <td>20.38</td>\n",
       "      <td>0.14250</td>\n",
       "      <td>0.28390</td>\n",
       "      <td>0.24140</td>\n",
       "      <td>0.2597</td>\n",
       "      <td>0.09744</td>\n",
       "      <td>0.4956</td>\n",
       "      <td>1.1560</td>\n",
       "      <td>0.009110</td>\n",
       "      <td>0.07458</td>\n",
       "      <td>0.05661</td>\n",
       "      <td>0.01867</td>\n",
       "      <td>0.05963</td>\n",
       "      <td>0.009208</td>\n",
       "      <td>0.20980</td>\n",
       "      <td>0.86630</td>\n",
       "      <td>0.6869</td>\n",
       "      <td>0.6638</td>\n",
       "      <td>0.17300</td>\n",
       "    </tr>\n",
       "    <tr>\n",
       "      <th>4</th>\n",
       "      <td>M</td>\n",
       "      <td>20.29</td>\n",
       "      <td>14.34</td>\n",
       "      <td>0.10030</td>\n",
       "      <td>0.13280</td>\n",
       "      <td>0.19800</td>\n",
       "      <td>0.1809</td>\n",
       "      <td>0.05883</td>\n",
       "      <td>0.7572</td>\n",
       "      <td>0.7813</td>\n",
       "      <td>0.011490</td>\n",
       "      <td>0.02461</td>\n",
       "      <td>0.05688</td>\n",
       "      <td>0.01885</td>\n",
       "      <td>0.01756</td>\n",
       "      <td>0.005115</td>\n",
       "      <td>0.13740</td>\n",
       "      <td>0.20500</td>\n",
       "      <td>0.4000</td>\n",
       "      <td>0.2364</td>\n",
       "      <td>0.07678</td>\n",
       "    </tr>\n",
       "    <tr>\n",
       "      <th>...</th>\n",
       "      <td>...</td>\n",
       "      <td>...</td>\n",
       "      <td>...</td>\n",
       "      <td>...</td>\n",
       "      <td>...</td>\n",
       "      <td>...</td>\n",
       "      <td>...</td>\n",
       "      <td>...</td>\n",
       "      <td>...</td>\n",
       "      <td>...</td>\n",
       "      <td>...</td>\n",
       "      <td>...</td>\n",
       "      <td>...</td>\n",
       "      <td>...</td>\n",
       "      <td>...</td>\n",
       "      <td>...</td>\n",
       "      <td>...</td>\n",
       "      <td>...</td>\n",
       "      <td>...</td>\n",
       "      <td>...</td>\n",
       "      <td>...</td>\n",
       "    </tr>\n",
       "    <tr>\n",
       "      <th>564</th>\n",
       "      <td>M</td>\n",
       "      <td>21.56</td>\n",
       "      <td>22.39</td>\n",
       "      <td>0.11100</td>\n",
       "      <td>0.11590</td>\n",
       "      <td>0.24390</td>\n",
       "      <td>0.1726</td>\n",
       "      <td>0.05623</td>\n",
       "      <td>1.1760</td>\n",
       "      <td>1.2560</td>\n",
       "      <td>0.010300</td>\n",
       "      <td>0.02891</td>\n",
       "      <td>0.05198</td>\n",
       "      <td>0.02454</td>\n",
       "      <td>0.01114</td>\n",
       "      <td>0.004239</td>\n",
       "      <td>0.14100</td>\n",
       "      <td>0.21130</td>\n",
       "      <td>0.4107</td>\n",
       "      <td>0.2060</td>\n",
       "      <td>0.07115</td>\n",
       "    </tr>\n",
       "    <tr>\n",
       "      <th>565</th>\n",
       "      <td>M</td>\n",
       "      <td>20.13</td>\n",
       "      <td>28.25</td>\n",
       "      <td>0.09780</td>\n",
       "      <td>0.10340</td>\n",
       "      <td>0.14400</td>\n",
       "      <td>0.1752</td>\n",
       "      <td>0.05533</td>\n",
       "      <td>0.7655</td>\n",
       "      <td>2.4630</td>\n",
       "      <td>0.005769</td>\n",
       "      <td>0.02423</td>\n",
       "      <td>0.03950</td>\n",
       "      <td>0.01678</td>\n",
       "      <td>0.01898</td>\n",
       "      <td>0.002498</td>\n",
       "      <td>0.11660</td>\n",
       "      <td>0.19220</td>\n",
       "      <td>0.3215</td>\n",
       "      <td>0.2572</td>\n",
       "      <td>0.06637</td>\n",
       "    </tr>\n",
       "    <tr>\n",
       "      <th>566</th>\n",
       "      <td>M</td>\n",
       "      <td>16.60</td>\n",
       "      <td>28.08</td>\n",
       "      <td>0.08455</td>\n",
       "      <td>0.10230</td>\n",
       "      <td>0.09251</td>\n",
       "      <td>0.1590</td>\n",
       "      <td>0.05648</td>\n",
       "      <td>0.4564</td>\n",
       "      <td>1.0750</td>\n",
       "      <td>0.005903</td>\n",
       "      <td>0.03731</td>\n",
       "      <td>0.04730</td>\n",
       "      <td>0.01557</td>\n",
       "      <td>0.01318</td>\n",
       "      <td>0.003892</td>\n",
       "      <td>0.11390</td>\n",
       "      <td>0.30940</td>\n",
       "      <td>0.3403</td>\n",
       "      <td>0.2218</td>\n",
       "      <td>0.07820</td>\n",
       "    </tr>\n",
       "    <tr>\n",
       "      <th>567</th>\n",
       "      <td>M</td>\n",
       "      <td>20.60</td>\n",
       "      <td>29.33</td>\n",
       "      <td>0.11780</td>\n",
       "      <td>0.27700</td>\n",
       "      <td>0.35140</td>\n",
       "      <td>0.2397</td>\n",
       "      <td>0.07016</td>\n",
       "      <td>0.7260</td>\n",
       "      <td>1.5950</td>\n",
       "      <td>0.006522</td>\n",
       "      <td>0.06158</td>\n",
       "      <td>0.07117</td>\n",
       "      <td>0.01664</td>\n",
       "      <td>0.02324</td>\n",
       "      <td>0.006185</td>\n",
       "      <td>0.16500</td>\n",
       "      <td>0.86810</td>\n",
       "      <td>0.9387</td>\n",
       "      <td>0.4087</td>\n",
       "      <td>0.12400</td>\n",
       "    </tr>\n",
       "    <tr>\n",
       "      <th>568</th>\n",
       "      <td>B</td>\n",
       "      <td>7.76</td>\n",
       "      <td>24.54</td>\n",
       "      <td>0.05263</td>\n",
       "      <td>0.04362</td>\n",
       "      <td>0.00000</td>\n",
       "      <td>0.1587</td>\n",
       "      <td>0.05884</td>\n",
       "      <td>0.3857</td>\n",
       "      <td>1.4280</td>\n",
       "      <td>0.007189</td>\n",
       "      <td>0.00466</td>\n",
       "      <td>0.00000</td>\n",
       "      <td>0.00000</td>\n",
       "      <td>0.02676</td>\n",
       "      <td>0.002783</td>\n",
       "      <td>0.08996</td>\n",
       "      <td>0.06444</td>\n",
       "      <td>0.0000</td>\n",
       "      <td>0.2871</td>\n",
       "      <td>0.07039</td>\n",
       "    </tr>\n",
       "  </tbody>\n",
       "</table>\n",
       "<p>569 rows × 21 columns</p>\n",
       "</div>"
      ],
      "text/plain": [
       "    diagnosis  radius_mean  texture_mean  smoothness_mean  compactness_mean  concavity_mean  symmetry_mean  fractal_dimension_mean  radius_se  texture_se  smoothness_se  compactness_se  concavity_se  concave points_se  symmetry_se  fractal_dimension_se  smoothness_worst  compactness_worst  concavity_worst  symmetry_worst  fractal_dimension_worst\n",
       "0           M        17.99         10.38          0.11840           0.27760         0.30010         0.2419                 0.07871     1.0950      0.9053       0.006399         0.04904       0.05373            0.01587      0.03003              0.006193           0.16220            0.66560           0.7119          0.4601                  0.11890\n",
       "1           M        20.57         17.77          0.08474           0.07864         0.08690         0.1812                 0.05667     0.5435      0.7339       0.005225         0.01308       0.01860            0.01340      0.01389              0.003532           0.12380            0.18660           0.2416          0.2750                  0.08902\n",
       "2           M        19.69         21.25          0.10960           0.15990         0.19740         0.2069                 0.05999     0.7456      0.7869       0.006150         0.04006       0.03832            0.02058      0.02250              0.004571           0.14440            0.42450           0.4504          0.3613                  0.08758\n",
       "3           M        11.42         20.38          0.14250           0.28390         0.24140         0.2597                 0.09744     0.4956      1.1560       0.009110         0.07458       0.05661            0.01867      0.05963              0.009208           0.20980            0.86630           0.6869          0.6638                  0.17300\n",
       "4           M        20.29         14.34          0.10030           0.13280         0.19800         0.1809                 0.05883     0.7572      0.7813       0.011490         0.02461       0.05688            0.01885      0.01756              0.005115           0.13740            0.20500           0.4000          0.2364                  0.07678\n",
       "..        ...          ...           ...              ...               ...             ...            ...                     ...        ...         ...            ...             ...           ...                ...          ...                   ...               ...                ...              ...             ...                      ...\n",
       "564         M        21.56         22.39          0.11100           0.11590         0.24390         0.1726                 0.05623     1.1760      1.2560       0.010300         0.02891       0.05198            0.02454      0.01114              0.004239           0.14100            0.21130           0.4107          0.2060                  0.07115\n",
       "565         M        20.13         28.25          0.09780           0.10340         0.14400         0.1752                 0.05533     0.7655      2.4630       0.005769         0.02423       0.03950            0.01678      0.01898              0.002498           0.11660            0.19220           0.3215          0.2572                  0.06637\n",
       "566         M        16.60         28.08          0.08455           0.10230         0.09251         0.1590                 0.05648     0.4564      1.0750       0.005903         0.03731       0.04730            0.01557      0.01318              0.003892           0.11390            0.30940           0.3403          0.2218                  0.07820\n",
       "567         M        20.60         29.33          0.11780           0.27700         0.35140         0.2397                 0.07016     0.7260      1.5950       0.006522         0.06158       0.07117            0.01664      0.02324              0.006185           0.16500            0.86810           0.9387          0.4087                  0.12400\n",
       "568         B         7.76         24.54          0.05263           0.04362         0.00000         0.1587                 0.05884     0.3857      1.4280       0.007189         0.00466       0.00000            0.00000      0.02676              0.002783           0.08996            0.06444           0.0000          0.2871                  0.07039\n",
       "\n",
       "[569 rows x 21 columns]"
      ]
     },
     "execution_count": 30,
     "metadata": {},
     "output_type": "execute_result"
    }
   ],
   "source": [
    "df.drop(drop_list, axis=1)"
   ]
  },
  {
   "cell_type": "code",
   "execution_count": 31,
   "metadata": {
    "pycharm": {
     "name": "#%%\n"
    }
   },
   "outputs": [
    {
     "data": {
      "image/png": "[encoded data removed]",
      "text/plain": [
       "<Figure size 1080x1080 with 2 Axes>"
      ]
     },
     "metadata": {},
     "output_type": "display_data"
    },
    {
     "data": {
      "text/plain": [
       "[]"
      ]
     },
     "execution_count": 31,
     "metadata": {},
     "output_type": "execute_result"
    }
   ],
   "source": [
    "high_corr_cols(df.drop(drop_list, axis=1), plot=True)"
   ]
  },
  {
   "cell_type": "markdown",
   "metadata": {
    "pycharm": {
     "name": "#%% md\n"
    }
   },
   "source": [
    "# How to Catch Outliers?"
   ]
  },
  {
   "cell_type": "code",
   "execution_count": 32,
   "metadata": {
    "pycharm": {
     "name": "#%%\n"
    }
   },
   "outputs": [],
   "source": [
    "from PreProcessing import outlier_thresholds\n",
    "\n",
    "df = sns.load_dataset('titanic')"
   ]
  },
  {
   "cell_type": "code",
   "execution_count": 33,
   "metadata": {
    "pycharm": {
     "name": "#%%\n"
    }
   },
   "outputs": [
    {
     "data": {
      "text/plain": [
       "(-6.6875, 64.8125)"
      ]
     },
     "execution_count": 33,
     "metadata": {},
     "output_type": "execute_result"
    }
   ],
   "source": [
    "outlier_thresholds(df, \"age\")"
   ]
  },
  {
   "cell_type": "code",
   "execution_count": 34,
   "metadata": {
    "pycharm": {
     "name": "#%%\n"
    }
   },
   "outputs": [
    {
     "data": {
      "text/plain": [
       "(-26.724, 65.6344)"
      ]
     },
     "execution_count": 34,
     "metadata": {},
     "output_type": "execute_result"
    }
   ],
   "source": [
    "outlier_thresholds(df, \"fare\")"
   ]
  },
  {
   "cell_type": "code",
   "execution_count": 35,
   "metadata": {
    "pycharm": {
     "name": "#%%\n"
    }
   },
   "outputs": [
    {
     "data": {
      "text/plain": [
       "(-26.724, 65.6344)"
      ]
     },
     "execution_count": 35,
     "metadata": {},
     "output_type": "execute_result"
    }
   ],
   "source": [
    "low, up = outlier_thresholds(df, \"fare\")\n",
    "low, up"
   ]
  },
  {
   "cell_type": "markdown",
   "metadata": {
    "pycharm": {
     "name": "#%% md\n"
    }
   },
   "source": [
    "# Is there any outlier value?"
   ]
  },
  {
   "cell_type": "code",
   "execution_count": 37,
   "metadata": {
    "pycharm": {
     "name": "#%%\n"
    }
   },
   "outputs": [
    {
     "data": {
      "text/plain": [
       "True"
      ]
     },
     "execution_count": 37,
     "metadata": {},
     "output_type": "execute_result"
    }
   ],
   "source": [
    "from PreProcessing import check_outlier\n",
    "\n",
    "check_outlier(df, \"age\")"
   ]
  },
  {
   "cell_type": "code",
   "execution_count": 38,
   "metadata": {
    "pycharm": {
     "name": "#%%\n"
    }
   },
   "outputs": [
    {
     "data": {
      "text/plain": [
       "True"
      ]
     },
     "execution_count": 38,
     "metadata": {},
     "output_type": "execute_result"
    }
   ],
   "source": [
    "check_outlier(df, \"fare\")"
   ]
  },
  {
   "cell_type": "code",
   "execution_count": 39,
   "metadata": {
    "pycharm": {
     "name": "#%%\n"
    }
   },
   "outputs": [
    {
     "name": "stdout",
     "output_type": "stream",
     "text": [
      "Observations: 307511\n",
      "Variables: 122\n",
      "cat_cols: 19\n",
      "num_cols: 61\n",
      "cat_but_car: 1\n",
      "num_but_cat: 4\n"
     ]
    }
   ],
   "source": [
    "df = pd.read_csv('application_train.csv')\n",
    "\n",
    "cat_cols, num_cols, cat_but_car = grab_col_names(df)"
   ]
  },
  {
   "cell_type": "code",
   "execution_count": 40,
   "metadata": {
    "pycharm": {
     "name": "#%%\n"
    }
   },
   "outputs": [
    {
     "data": {
      "text/plain": [
       "['AMT_INCOME_TOTAL',\n",
       " 'AMT_CREDIT',\n",
       " 'AMT_ANNUITY',\n",
       " 'AMT_GOODS_PRICE',\n",
       " 'REGION_POPULATION_RELATIVE',\n",
       " 'DAYS_REGISTRATION',\n",
       " 'OWN_CAR_AGE',\n",
       " 'CNT_FAM_MEMBERS',\n",
       " 'EXT_SOURCE_1',\n",
       " 'EXT_SOURCE_2',\n",
       " 'EXT_SOURCE_3',\n",
       " 'APARTMENTS_AVG',\n",
       " 'BASEMENTAREA_AVG',\n",
       " 'YEARS_BEGINEXPLUATATION_AVG',\n",
       " 'YEARS_BUILD_AVG',\n",
       " 'COMMONAREA_AVG',\n",
       " 'ELEVATORS_AVG',\n",
       " 'ENTRANCES_AVG',\n",
       " 'FLOORSMAX_AVG',\n",
       " 'FLOORSMIN_AVG',\n",
       " 'LANDAREA_AVG',\n",
       " 'LIVINGAPARTMENTS_AVG',\n",
       " 'LIVINGAREA_AVG',\n",
       " 'NONLIVINGAPARTMENTS_AVG',\n",
       " 'NONLIVINGAREA_AVG',\n",
       " 'APARTMENTS_MODE',\n",
       " 'BASEMENTAREA_MODE',\n",
       " 'YEARS_BEGINEXPLUATATION_MODE',\n",
       " 'YEARS_BUILD_MODE',\n",
       " 'COMMONAREA_MODE',\n",
       " 'ELEVATORS_MODE',\n",
       " 'ENTRANCES_MODE',\n",
       " 'FLOORSMAX_MODE',\n",
       " 'FLOORSMIN_MODE',\n",
       " 'LANDAREA_MODE',\n",
       " 'LIVINGAPARTMENTS_MODE',\n",
       " 'LIVINGAREA_MODE',\n",
       " 'NONLIVINGAPARTMENTS_MODE',\n",
       " 'NONLIVINGAREA_MODE',\n",
       " 'APARTMENTS_MEDI',\n",
       " 'BASEMENTAREA_MEDI',\n",
       " 'YEARS_BEGINEXPLUATATION_MEDI',\n",
       " 'YEARS_BUILD_MEDI',\n",
       " 'COMMONAREA_MEDI',\n",
       " 'ELEVATORS_MEDI',\n",
       " 'ENTRANCES_MEDI',\n",
       " 'FLOORSMAX_MEDI',\n",
       " 'FLOORSMIN_MEDI',\n",
       " 'LANDAREA_MEDI',\n",
       " 'LIVINGAPARTMENTS_MEDI',\n",
       " 'LIVINGAREA_MEDI',\n",
       " 'NONLIVINGAPARTMENTS_MEDI',\n",
       " 'NONLIVINGAREA_MEDI',\n",
       " 'TOTALAREA_MODE',\n",
       " 'OBS_30_CNT_SOCIAL_CIRCLE',\n",
       " 'DEF_30_CNT_SOCIAL_CIRCLE',\n",
       " 'OBS_60_CNT_SOCIAL_CIRCLE',\n",
       " 'DAYS_LAST_PHONE_CHANGE',\n",
       " 'AMT_REQ_CREDIT_BUREAU_MON',\n",
       " 'AMT_REQ_CREDIT_BUREAU_QRT',\n",
       " 'AMT_REQ_CREDIT_BUREAU_YEAR']"
      ]
     },
     "execution_count": 40,
     "metadata": {},
     "output_type": "execute_result"
    }
   ],
   "source": [
    "num_cols = [col for col in num_cols if col not in \"SK_ID_CURR\"]\n",
    "num_cols"
   ]
  },
  {
   "cell_type": "code",
   "execution_count": 41,
   "metadata": {
    "pycharm": {
     "name": "#%%\n"
    }
   },
   "outputs": [
    {
     "name": "stdout",
     "output_type": "stream",
     "text": [
      "AMT_INCOME_TOTAL True\n",
      "AMT_CREDIT True\n",
      "AMT_ANNUITY True\n",
      "AMT_GOODS_PRICE True\n",
      "REGION_POPULATION_RELATIVE True\n",
      "DAYS_REGISTRATION True\n",
      "OWN_CAR_AGE True\n",
      "CNT_FAM_MEMBERS True\n",
      "EXT_SOURCE_1 False\n",
      "EXT_SOURCE_2 False\n",
      "EXT_SOURCE_3 False\n",
      "APARTMENTS_AVG True\n",
      "BASEMENTAREA_AVG True\n",
      "YEARS_BEGINEXPLUATATION_AVG True\n",
      "YEARS_BUILD_AVG True\n",
      "COMMONAREA_AVG True\n",
      "ELEVATORS_AVG True\n",
      "ENTRANCES_AVG True\n",
      "FLOORSMAX_AVG True\n",
      "FLOORSMIN_AVG True\n",
      "LANDAREA_AVG True\n",
      "LIVINGAPARTMENTS_AVG True\n",
      "LIVINGAREA_AVG True\n",
      "NONLIVINGAPARTMENTS_AVG True\n",
      "NONLIVINGAREA_AVG True\n",
      "APARTMENTS_MODE True\n",
      "BASEMENTAREA_MODE True\n",
      "YEARS_BEGINEXPLUATATION_MODE True\n",
      "YEARS_BUILD_MODE True\n",
      "COMMONAREA_MODE True\n",
      "ELEVATORS_MODE True\n",
      "ENTRANCES_MODE True\n",
      "FLOORSMAX_MODE True\n",
      "FLOORSMIN_MODE True\n",
      "LANDAREA_MODE True\n",
      "LIVINGAPARTMENTS_MODE True\n",
      "LIVINGAREA_MODE True\n",
      "NONLIVINGAPARTMENTS_MODE True\n",
      "NONLIVINGAREA_MODE True\n",
      "APARTMENTS_MEDI True\n",
      "BASEMENTAREA_MEDI True\n",
      "YEARS_BEGINEXPLUATATION_MEDI True\n",
      "YEARS_BUILD_MEDI True\n",
      "COMMONAREA_MEDI True\n",
      "ELEVATORS_MEDI True\n",
      "ENTRANCES_MEDI True\n",
      "FLOORSMAX_MEDI True\n",
      "FLOORSMIN_MEDI True\n",
      "LANDAREA_MEDI True\n",
      "LIVINGAPARTMENTS_MEDI True\n",
      "LIVINGAREA_MEDI True\n",
      "NONLIVINGAPARTMENTS_MEDI True\n",
      "NONLIVINGAREA_MEDI True\n",
      "TOTALAREA_MODE True\n",
      "OBS_30_CNT_SOCIAL_CIRCLE True\n",
      "DEF_30_CNT_SOCIAL_CIRCLE True\n",
      "OBS_60_CNT_SOCIAL_CIRCLE True\n",
      "DAYS_LAST_PHONE_CHANGE True\n",
      "AMT_REQ_CREDIT_BUREAU_MON True\n",
      "AMT_REQ_CREDIT_BUREAU_QRT True\n",
      "AMT_REQ_CREDIT_BUREAU_YEAR True\n"
     ]
    }
   ],
   "source": [
    "for col in num_cols:\n",
    "    print(col, check_outlier(df, col))"
   ]
  },
  {
   "cell_type": "markdown",
   "metadata": {
    "pycharm": {
     "name": "#%% md\n"
    }
   },
   "source": [
    "# Accessing Outliers"
   ]
  },
  {
   "cell_type": "code",
   "execution_count": 42,
   "metadata": {
    "pycharm": {
     "name": "#%%\n"
    }
   },
   "outputs": [
    {
     "name": "stdout",
     "output_type": "stream",
     "text": [
      "     survived  pclass   sex   age  sibsp  parch     fare embarked   class  who  adult_male deck  embark_town alive  alone\n",
      "33          0       2  male  66.0      0      0  10.5000        S  Second  man        True  NaN  Southampton    no   True\n",
      "54          0       1  male  65.0      0      1  61.9792        C   First  man        True    B    Cherbourg    no  False\n",
      "96          0       1  male  71.0      0      0  34.6542        C   First  man        True    A    Cherbourg    no   True\n",
      "116         0       3  male  70.5      0      0   7.7500        Q   Third  man        True  NaN   Queenstown    no   True\n",
      "280         0       3  male  65.0      0      0   7.7500        Q   Third  man        True  NaN   Queenstown    no   True\n"
     ]
    }
   ],
   "source": [
    "from PreProcessing import grab_outliers\n",
    "\n",
    "df = sns.load_dataset('titanic')\n",
    "grab_outliers(df,'age')"
   ]
  },
  {
   "cell_type": "code",
   "execution_count": 43,
   "metadata": {
    "pycharm": {
     "name": "#%%\n"
    }
   },
   "outputs": [
    {
     "name": "stdout",
     "output_type": "stream",
     "text": [
      "     survived  pclass   sex   age  sibsp  parch     fare embarked   class  who  adult_male deck  embark_town alive  alone\n",
      "33          0       2  male  66.0      0      0  10.5000        S  Second  man        True  NaN  Southampton    no   True\n",
      "54          0       1  male  65.0      0      1  61.9792        C   First  man        True    B    Cherbourg    no  False\n",
      "96          0       1  male  71.0      0      0  34.6542        C   First  man        True    A    Cherbourg    no   True\n",
      "116         0       3  male  70.5      0      0   7.7500        Q   Third  man        True  NaN   Queenstown    no   True\n",
      "280         0       3  male  65.0      0      0   7.7500        Q   Third  man        True  NaN   Queenstown    no   True\n"
     ]
    },
    {
     "data": {
      "text/plain": [
       "Int64Index([33, 54, 96, 116, 280, 456, 493, 630, 672, 745, 851], dtype='int64')"
      ]
     },
     "execution_count": 43,
     "metadata": {},
     "output_type": "execute_result"
    }
   ],
   "source": [
    "grab_outliers(df, \"age\", True)"
   ]
  },
  {
   "cell_type": "code",
   "execution_count": 44,
   "metadata": {
    "pycharm": {
     "name": "#%%\n"
    }
   },
   "outputs": [
    {
     "name": "stdout",
     "output_type": "stream",
     "text": [
      "     survived  pclass   sex   age  sibsp  parch     fare embarked   class  who  adult_male deck  embark_town alive  alone\n",
      "33          0       2  male  66.0      0      0  10.5000        S  Second  man        True  NaN  Southampton    no   True\n",
      "54          0       1  male  65.0      0      1  61.9792        C   First  man        True    B    Cherbourg    no  False\n",
      "96          0       1  male  71.0      0      0  34.6542        C   First  man        True    A    Cherbourg    no   True\n",
      "116         0       3  male  70.5      0      0   7.7500        Q   Third  man        True  NaN   Queenstown    no   True\n",
      "280         0       3  male  65.0      0      0   7.7500        Q   Third  man        True  NaN   Queenstown    no   True\n"
     ]
    }
   ],
   "source": [
    "age_index = grab_outliers(df, \"age\", True)"
   ]
  },
  {
   "cell_type": "code",
   "execution_count": 45,
   "metadata": {
    "pycharm": {
     "name": "#%%\n"
    }
   },
   "outputs": [
    {
     "data": {
      "text/plain": [
       "(-6.6875, 64.8125)"
      ]
     },
     "execution_count": 45,
     "metadata": {},
     "output_type": "execute_result"
    }
   ],
   "source": [
    "outlier_thresholds(df, \"age\")"
   ]
  },
  {
   "cell_type": "code",
   "execution_count": 47,
   "metadata": {
    "pycharm": {
     "name": "#%%\n"
    }
   },
   "outputs": [
    {
     "data": {
      "text/plain": [
       "True"
      ]
     },
     "execution_count": 47,
     "metadata": {},
     "output_type": "execute_result"
    }
   ],
   "source": [
    "check_outlier(df, \"age\")"
   ]
  },
  {
   "cell_type": "code",
   "execution_count": 48,
   "metadata": {
    "pycharm": {
     "name": "#%%\n"
    }
   },
   "outputs": [
    {
     "name": "stdout",
     "output_type": "stream",
     "text": [
      "     survived  pclass   sex   age  sibsp  parch     fare embarked   class  who  adult_male deck  embark_town alive  alone\n",
      "33          0       2  male  66.0      0      0  10.5000        S  Second  man        True  NaN  Southampton    no   True\n",
      "54          0       1  male  65.0      0      1  61.9792        C   First  man        True    B    Cherbourg    no  False\n",
      "96          0       1  male  71.0      0      0  34.6542        C   First  man        True    A    Cherbourg    no   True\n",
      "116         0       3  male  70.5      0      0   7.7500        Q   Third  man        True  NaN   Queenstown    no   True\n",
      "280         0       3  male  65.0      0      0   7.7500        Q   Third  man        True  NaN   Queenstown    no   True\n"
     ]
    },
    {
     "data": {
      "text/plain": [
       "Int64Index([33, 54, 96, 116, 280, 456, 493, 630, 672, 745, 851], dtype='int64')"
      ]
     },
     "execution_count": 48,
     "metadata": {},
     "output_type": "execute_result"
    }
   ],
   "source": [
    "grab_outliers(df, \"age\", True)"
   ]
  },
  {
   "cell_type": "markdown",
   "metadata": {
    "pycharm": {
     "name": "#%% md\n"
    }
   },
   "source": [
    "# Solving the Outlier Problem"
   ]
  },
  {
   "cell_type": "markdown",
   "metadata": {
    "pycharm": {
     "name": "#%% md\n"
    }
   },
   "source": [
    "<b> 1) Deletion"
   ]
  },
  {
   "cell_type": "code",
   "execution_count": 49,
   "metadata": {
    "pycharm": {
     "name": "#%%\n"
    }
   },
   "outputs": [
    {
     "name": "stdout",
     "output_type": "stream",
     "text": [
      "Observations: 891\n",
      "Variables: 15\n",
      "cat_cols: 9\n",
      "num_cols: 2\n",
      "cat_but_car: 0\n",
      "num_but_cat: 0\n"
     ]
    }
   ],
   "source": [
    "cat_cols, num_cols, cat_but_car = grab_col_names(df)"
   ]
  },
  {
   "cell_type": "code",
   "execution_count": 50,
   "metadata": {
    "pycharm": {
     "name": "#%%\n"
    }
   },
   "outputs": [],
   "source": [
    "num_cols = [col for col in num_cols if col not in \"PassengerId\"]"
   ]
  },
  {
   "cell_type": "code",
   "execution_count": 51,
   "metadata": {
    "pycharm": {
     "name": "#%%\n"
    }
   },
   "outputs": [
    {
     "data": {
      "text/plain": [
       "(891, 15)"
      ]
     },
     "execution_count": 51,
     "metadata": {},
     "output_type": "execute_result"
    }
   ],
   "source": [
    "df.shape"
   ]
  },
  {
   "cell_type": "code",
   "execution_count": 52,
   "metadata": {
    "pycharm": {
     "name": "#%%\n"
    }
   },
   "outputs": [],
   "source": [
    "from PreProcessing import remove_outlier\n",
    "\n",
    "for col in num_cols:\n",
    "    new_df = remove_outlier(df, col)"
   ]
  },
  {
   "cell_type": "code",
   "execution_count": 53,
   "metadata": {
    "pycharm": {
     "name": "#%%\n"
    }
   },
   "outputs": [
    {
     "data": {
      "text/plain": [
       "116"
      ]
     },
     "execution_count": 53,
     "metadata": {},
     "output_type": "execute_result"
    }
   ],
   "source": [
    "df.shape[0] - new_df.shape[0]"
   ]
  },
  {
   "cell_type": "markdown",
   "metadata": {
    "pycharm": {
     "name": "#%% md\n"
    }
   },
   "source": [
    "<b>2) re-assignment with thresholds"
   ]
  },
  {
   "cell_type": "code",
   "execution_count": 54,
   "metadata": {
    "pycharm": {
     "name": "#%%\n"
    }
   },
   "outputs": [
    {
     "data": {
      "text/plain": [
       "(-26.724, 65.6344)"
      ]
     },
     "execution_count": 54,
     "metadata": {},
     "output_type": "execute_result"
    }
   ],
   "source": [
    "low, up = outlier_thresholds(df, \"fare\")\n",
    "low, up"
   ]
  },
  {
   "cell_type": "code",
   "execution_count": 55,
   "metadata": {
    "pycharm": {
     "name": "#%%\n"
    }
   },
   "outputs": [
    {
     "data": {
      "text/plain": [
       "(891, 15)"
      ]
     },
     "execution_count": 55,
     "metadata": {},
     "output_type": "execute_result"
    }
   ],
   "source": [
    "df = sns.load_dataset('titanic')\n",
    "df.shape"
   ]
  },
  {
   "cell_type": "code",
   "execution_count": 56,
   "metadata": {
    "pycharm": {
     "name": "#%%\n"
    }
   },
   "outputs": [
    {
     "name": "stdout",
     "output_type": "stream",
     "text": [
      "Observations: 891\n",
      "Variables: 15\n",
      "cat_cols: 9\n",
      "num_cols: 2\n",
      "cat_but_car: 0\n",
      "num_but_cat: 0\n"
     ]
    }
   ],
   "source": [
    "cat_cols, num_cols, cat_but_car = grab_col_names(df)"
   ]
  },
  {
   "cell_type": "code",
   "execution_count": 57,
   "metadata": {
    "pycharm": {
     "name": "#%%\n"
    }
   },
   "outputs": [],
   "source": [
    "num_cols = [col for col in num_cols if col not in \"PassengerId\"]"
   ]
  },
  {
   "cell_type": "code",
   "execution_count": 60,
   "metadata": {
    "pycharm": {
     "name": "#%%\n"
    }
   },
   "outputs": [
    {
     "name": "stdout",
     "output_type": "stream",
     "text": [
      "age True\n",
      "fare True\n"
     ]
    }
   ],
   "source": [
    "from PreProcessing import replace_with_thresholds\n",
    "\n",
    "for col in num_cols:\n",
    "    print(col, check_outlier(df, col))"
   ]
  },
  {
   "cell_type": "code",
   "execution_count": 61,
   "metadata": {
    "pycharm": {
     "name": "#%%\n"
    }
   },
   "outputs": [],
   "source": [
    "for col in num_cols:\n",
    "    replace_with_thresholds(df, col)"
   ]
  },
  {
   "cell_type": "code",
   "execution_count": 62,
   "metadata": {
    "pycharm": {
     "name": "#%%\n"
    }
   },
   "outputs": [
    {
     "name": "stdout",
     "output_type": "stream",
     "text": [
      "age False\n",
      "fare False\n"
     ]
    }
   ],
   "source": [
    "for col in num_cols:\n",
    "    print(col, check_outlier(df, col))"
   ]
  },
  {
   "cell_type": "markdown",
   "metadata": {
    "pycharm": {
     "name": "#%% md\n"
    }
   },
   "source": [
    "# Solving the Missing Value Problem"
   ]
  },
  {
   "cell_type": "code",
   "execution_count": 63,
   "metadata": {
    "pycharm": {
     "name": "#%%\n"
    }
   },
   "outputs": [
    {
     "data": {
      "text/plain": [
       "(891, 15)"
      ]
     },
     "execution_count": 63,
     "metadata": {},
     "output_type": "execute_result"
    }
   ],
   "source": [
    "df = sns.load_dataset('titanic')\n",
    "df.shape"
   ]
  },
  {
   "cell_type": "markdown",
   "metadata": {
    "pycharm": {
     "name": "#%% md\n"
    }
   },
   "source": [
    "<b>1) Deletion"
   ]
  },
  {
   "cell_type": "code",
   "execution_count": 64,
   "metadata": {
    "pycharm": {
     "name": "#%%\n"
    }
   },
   "outputs": [
    {
     "data": {
      "text/plain": [
       "(182, 15)"
      ]
     },
     "execution_count": 64,
     "metadata": {},
     "output_type": "execute_result"
    }
   ],
   "source": [
    "df.dropna().shape"
   ]
  },
  {
   "cell_type": "markdown",
   "metadata": {
    "pycharm": {
     "name": "#%% md\n"
    }
   },
   "source": [
    "<b>2) Filling with Simple Assignment Methods"
   ]
  },
  {
   "cell_type": "code",
   "execution_count": 65,
   "metadata": {
    "pycharm": {
     "name": "#%%\n"
    }
   },
   "outputs": [
    {
     "data": {
      "text/plain": [
       "survived         0\n",
       "pclass           0\n",
       "sex              0\n",
       "age            177\n",
       "sibsp            0\n",
       "parch            0\n",
       "fare             0\n",
       "embarked         2\n",
       "class            0\n",
       "who              0\n",
       "adult_male       0\n",
       "deck           688\n",
       "embark_town      2\n",
       "alive            0\n",
       "alone            0\n",
       "dtype: int64"
      ]
     },
     "execution_count": 65,
     "metadata": {},
     "output_type": "execute_result"
    }
   ],
   "source": [
    "df = sns.load_dataset('titanic')\n",
    "df.isnull().sum()"
   ]
  },
  {
   "cell_type": "code",
   "execution_count": 67,
   "metadata": {
    "pycharm": {
     "name": "#%%\n"
    }
   },
   "outputs": [
    {
     "data": {
      "text/plain": [
       "survived         0\n",
       "pclass           0\n",
       "sex              0\n",
       "age              0\n",
       "sibsp            0\n",
       "parch            0\n",
       "fare             0\n",
       "embarked         2\n",
       "class            0\n",
       "who              0\n",
       "adult_male       0\n",
       "deck           688\n",
       "embark_town      2\n",
       "alive            0\n",
       "alone            0\n",
       "dtype: int64"
      ]
     },
     "execution_count": 67,
     "metadata": {},
     "output_type": "execute_result"
    }
   ],
   "source": [
    "df['age'] = df[\"age\"].fillna(df[\"age\"].mean())\n",
    "df.isnull().sum()"
   ]
  },
  {
   "cell_type": "code",
   "execution_count": 68,
   "metadata": {
    "pycharm": {
     "name": "#%%\n"
    }
   },
   "outputs": [
    {
     "data": {
      "text/plain": [
       "survived         0\n",
       "pclass           0\n",
       "sex              0\n",
       "age            177\n",
       "sibsp            0\n",
       "parch            0\n",
       "fare             0\n",
       "embarked         2\n",
       "class            0\n",
       "who              0\n",
       "adult_male       0\n",
       "deck           688\n",
       "embark_town      2\n",
       "alive            0\n",
       "alone            0\n",
       "dtype: int64"
      ]
     },
     "execution_count": 68,
     "metadata": {},
     "output_type": "execute_result"
    }
   ],
   "source": [
    "df = sns.load_dataset('titanic')\n",
    "df.isnull().sum()"
   ]
  },
  {
   "cell_type": "code",
   "execution_count": 69,
   "metadata": {
    "pycharm": {
     "name": "#%%\n"
    }
   },
   "outputs": [
    {
     "data": {
      "text/plain": [
       "0      22.0\n",
       "1      38.0\n",
       "2      26.0\n",
       "3      35.0\n",
       "4      35.0\n",
       "       ... \n",
       "886    27.0\n",
       "887    19.0\n",
       "888    28.0\n",
       "889    26.0\n",
       "890    32.0\n",
       "Name: age, Length: 891, dtype: float64"
      ]
     },
     "execution_count": 69,
     "metadata": {},
     "output_type": "execute_result"
    }
   ],
   "source": [
    "df[\"age\"].fillna(df[\"age\"].median())"
   ]
  },
  {
   "cell_type": "code",
   "execution_count": 70,
   "metadata": {
    "pycharm": {
     "name": "#%%\n"
    }
   },
   "outputs": [
    {
     "name": "stdout",
     "output_type": "stream",
     "text": [
      "Observations: 891\n",
      "Variables: 15\n",
      "cat_cols: 9\n",
      "num_cols: 2\n",
      "cat_but_car: 0\n",
      "num_but_cat: 0\n"
     ]
    }
   ],
   "source": [
    "df = sns.load_dataset('titanic')\n",
    "\n",
    "cat_cols, num_cols, cat_but_car = grab_col_names(df)\n",
    "num_cols = [col for col in num_cols if col not in \"PassengerId\"]"
   ]
  },
  {
   "cell_type": "code",
   "execution_count": 71,
   "metadata": {
    "pycharm": {
     "name": "#%%\n"
    }
   },
   "outputs": [
    {
     "data": {
      "text/plain": [
       "survived         0\n",
       "pclass           0\n",
       "sex              0\n",
       "age            177\n",
       "sibsp            0\n",
       "parch            0\n",
       "fare             0\n",
       "embarked         2\n",
       "class            0\n",
       "who              0\n",
       "adult_male       0\n",
       "deck           688\n",
       "embark_town      2\n",
       "alive            0\n",
       "alone            0\n",
       "dtype: int64"
      ]
     },
     "execution_count": 71,
     "metadata": {},
     "output_type": "execute_result"
    }
   ],
   "source": [
    "df.isnull().sum()"
   ]
  },
  {
   "cell_type": "code",
   "execution_count": 72,
   "metadata": {
    "pycharm": {
     "name": "#%%\n"
    }
   },
   "outputs": [
    {
     "data": {
      "text/plain": [
       "survived         0\n",
       "pclass           0\n",
       "sex              0\n",
       "age              0\n",
       "sibsp            0\n",
       "parch            0\n",
       "fare             0\n",
       "embarked         2\n",
       "class            0\n",
       "who              0\n",
       "adult_male       0\n",
       "deck           688\n",
       "embark_town      2\n",
       "alive            0\n",
       "alone            0\n",
       "dtype: int64"
      ]
     },
     "execution_count": 72,
     "metadata": {},
     "output_type": "execute_result"
    }
   ],
   "source": [
    "df.loc[:, num_cols] = df[num_cols].apply(lambda x: x.fillna(x.mean()), axis=0)\n",
    "df.isnull().sum()"
   ]
  },
  {
   "cell_type": "code",
   "execution_count": 73,
   "metadata": {
    "pycharm": {
     "name": "#%%\n"
    }
   },
   "outputs": [
    {
     "data": {
      "text/plain": [
       "2"
      ]
     },
     "execution_count": 73,
     "metadata": {},
     "output_type": "execute_result"
    }
   ],
   "source": [
    "df[\"embarked\"].isnull().sum()"
   ]
  },
  {
   "cell_type": "code",
   "execution_count": 74,
   "metadata": {
    "pycharm": {
     "name": "#%%\n"
    }
   },
   "outputs": [],
   "source": [
    "df['embarked'] = df[\"embarked\"].fillna(df[\"embarked\"].mode()[0])"
   ]
  },
  {
   "cell_type": "code",
   "execution_count": 75,
   "metadata": {
    "pycharm": {
     "name": "#%%\n"
    }
   },
   "outputs": [
    {
     "data": {
      "text/plain": [
       "0"
      ]
     },
     "execution_count": 75,
     "metadata": {},
     "output_type": "execute_result"
    }
   ],
   "source": [
    "df[\"embarked\"].isnull().sum()"
   ]
  },
  {
   "cell_type": "markdown",
   "metadata": {
    "pycharm": {
     "name": "#%% md\n"
    }
   },
   "source": [
    "# Examining the Relationship of Missing Values with the Dependent Variable"
   ]
  },
  {
   "cell_type": "code",
   "execution_count": 76,
   "metadata": {
    "pycharm": {
     "name": "#%%\n"
    }
   },
   "outputs": [
    {
     "name": "stdout",
     "output_type": "stream",
     "text": [
      "             n_miss  ratio\n",
      "deck            688  77.22\n",
      "age             177  19.87\n",
      "embarked          2   0.22\n",
      "embark_town       2   0.22\n"
     ]
    },
    {
     "data": {
      "text/plain": [
       "['age', 'embarked', 'deck', 'embark_town']"
      ]
     },
     "execution_count": 76,
     "metadata": {},
     "output_type": "execute_result"
    }
   ],
   "source": [
    "from PreProcessing import missing_values_table\n",
    "\n",
    "df = sns.load_dataset('titanic')\n",
    "\n",
    "missing_values_table(df, True)"
   ]
  },
  {
   "cell_type": "code",
   "execution_count": 77,
   "metadata": {
    "pycharm": {
     "name": "#%%\n"
    }
   },
   "outputs": [
    {
     "name": "stdout",
     "output_type": "stream",
     "text": [
      "             n_miss  ratio\n",
      "deck            688  77.22\n",
      "age             177  19.87\n",
      "embarked          2   0.22\n",
      "embark_town       2   0.22\n"
     ]
    }
   ],
   "source": [
    "na_cols = missing_values_table(df, True)"
   ]
  },
  {
   "cell_type": "code",
   "execution_count": 78,
   "metadata": {
    "pycharm": {
     "name": "#%%\n"
    }
   },
   "outputs": [
    {
     "name": "stdout",
     "output_type": "stream",
     "text": [
      "             TARGET_MEAN  Count\n",
      "age_NA_FLAG                    \n",
      "0               0.406162    714\n",
      "1               0.293785    177\n",
      "\n",
      "\n",
      "                  TARGET_MEAN  Count\n",
      "embarked_NA_FLAG                    \n",
      "0                    0.382452    889\n",
      "1                    1.000000      2\n",
      "\n",
      "\n",
      "              TARGET_MEAN  Count\n",
      "deck_NA_FLAG                    \n",
      "0                0.669951    203\n",
      "1                0.299419    688\n",
      "\n",
      "\n",
      "                     TARGET_MEAN  Count\n",
      "embark_town_NA_FLAG                    \n",
      "0                       0.382452    889\n",
      "1                       1.000000      2\n",
      "\n",
      "\n"
     ]
    }
   ],
   "source": [
    "from PreProcessing import missing_vs_target\n",
    "\n",
    "missing_vs_target(df, \"survived\", na_cols)"
   ]
  },
  {
   "cell_type": "markdown",
   "metadata": {
    "pycharm": {
     "name": "#%% md\n"
    }
   },
   "source": [
    "# Label Encoding & Binary Encoding"
   ]
  },
  {
   "cell_type": "code",
   "execution_count": 79,
   "metadata": {
    "pycharm": {
     "name": "#%%\n"
    }
   },
   "outputs": [
    {
     "data": {
      "text/plain": [
       "0      male\n",
       "1    female\n",
       "2    female\n",
       "3    female\n",
       "4      male\n",
       "Name: sex, dtype: object"
      ]
     },
     "execution_count": 79,
     "metadata": {},
     "output_type": "execute_result"
    }
   ],
   "source": [
    "df = sns.load_dataset('titanic')\n",
    "\n",
    "df[\"sex\"].head()"
   ]
  },
  {
   "cell_type": "code",
   "execution_count": 80,
   "metadata": {
    "pycharm": {
     "name": "#%%\n"
    }
   },
   "outputs": [
    {
     "data": {
      "text/plain": [
       "0    1\n",
       "1    0\n",
       "2    0\n",
       "3    0\n",
       "4    1\n",
       "Name: sex, dtype: int32"
      ]
     },
     "execution_count": 80,
     "metadata": {},
     "output_type": "execute_result"
    }
   ],
   "source": [
    "from PreProcessing import label_encoder\n",
    "\n",
    "binary_cols = [col for col in df.columns if df[col].dtype not in [int, float]\n",
    "               and df[col].nunique() == 2]\n",
    "\n",
    "for col in binary_cols:\n",
    "    label_encoder(df, col)\n",
    "\n",
    "df.sex.head()"
   ]
  },
  {
   "cell_type": "markdown",
   "metadata": {
    "pycharm": {
     "name": "#%% md\n"
    }
   },
   "source": [
    "# One-Hot Encoding"
   ]
  },
  {
   "cell_type": "code",
   "execution_count": 81,
   "metadata": {
    "pycharm": {
     "name": "#%%\n"
    }
   },
   "outputs": [
    {
     "data": {
      "text/plain": [
       "S    644\n",
       "C    168\n",
       "Q     77\n",
       "Name: embarked, dtype: int64"
      ]
     },
     "execution_count": 81,
     "metadata": {},
     "output_type": "execute_result"
    }
   ],
   "source": [
    "from PreProcessing import one_hot_encoder\n",
    "\n",
    "df = sns.load_dataset('titanic')\n",
    "df[\"embarked\"].value_counts()"
   ]
  },
  {
   "cell_type": "code",
   "execution_count": 82,
   "metadata": {
    "pycharm": {
     "name": "#%%\n"
    }
   },
   "outputs": [
    {
     "data": {
      "text/plain": [
       "['pclass', 'sibsp', 'parch', 'embarked', 'class', 'who', 'deck', 'embark_town']"
      ]
     },
     "execution_count": 82,
     "metadata": {},
     "output_type": "execute_result"
    }
   ],
   "source": [
    "ohe_cols = [col for col in df.columns if 10 >= df[col].nunique() > 2]\n",
    "ohe_cols"
   ]
  },
  {
   "cell_type": "code",
   "execution_count": 83,
   "metadata": {
    "pycharm": {
     "name": "#%%\n"
    }
   },
   "outputs": [
    {
     "data": {
      "text/html": [
       "<div>\n",
       "<style scoped>\n",
       "    .dataframe tbody tr th:only-of-type {\n",
       "        vertical-align: middle;\n",
       "    }\n",
       "\n",
       "    .dataframe tbody tr th {\n",
       "        vertical-align: top;\n",
       "    }\n",
       "\n",
       "    .dataframe thead th {\n",
       "        text-align: right;\n",
       "    }\n",
       "</style>\n",
       "<table border=\"1\" class=\"dataframe\">\n",
       "  <thead>\n",
       "    <tr style=\"text-align: right;\">\n",
       "      <th></th>\n",
       "      <th>survived</th>\n",
       "      <th>sex</th>\n",
       "      <th>age</th>\n",
       "      <th>fare</th>\n",
       "      <th>adult_male</th>\n",
       "      <th>alive</th>\n",
       "      <th>alone</th>\n",
       "      <th>pclass_2</th>\n",
       "      <th>pclass_3</th>\n",
       "      <th>sibsp_1</th>\n",
       "      <th>sibsp_2</th>\n",
       "      <th>sibsp_3</th>\n",
       "      <th>sibsp_4</th>\n",
       "      <th>sibsp_5</th>\n",
       "      <th>sibsp_8</th>\n",
       "      <th>parch_1</th>\n",
       "      <th>parch_2</th>\n",
       "      <th>parch_3</th>\n",
       "      <th>parch_4</th>\n",
       "      <th>parch_5</th>\n",
       "      <th>parch_6</th>\n",
       "      <th>embarked_Q</th>\n",
       "      <th>embarked_S</th>\n",
       "      <th>class_Second</th>\n",
       "      <th>class_Third</th>\n",
       "      <th>who_man</th>\n",
       "      <th>who_woman</th>\n",
       "      <th>deck_B</th>\n",
       "      <th>deck_C</th>\n",
       "      <th>deck_D</th>\n",
       "      <th>deck_E</th>\n",
       "      <th>deck_F</th>\n",
       "      <th>deck_G</th>\n",
       "      <th>embark_town_Queenstown</th>\n",
       "      <th>embark_town_Southampton</th>\n",
       "    </tr>\n",
       "  </thead>\n",
       "  <tbody>\n",
       "    <tr>\n",
       "      <th>0</th>\n",
       "      <td>0</td>\n",
       "      <td>male</td>\n",
       "      <td>22.0</td>\n",
       "      <td>7.2500</td>\n",
       "      <td>True</td>\n",
       "      <td>no</td>\n",
       "      <td>False</td>\n",
       "      <td>0</td>\n",
       "      <td>1</td>\n",
       "      <td>1</td>\n",
       "      <td>0</td>\n",
       "      <td>0</td>\n",
       "      <td>0</td>\n",
       "      <td>0</td>\n",
       "      <td>0</td>\n",
       "      <td>0</td>\n",
       "      <td>0</td>\n",
       "      <td>0</td>\n",
       "      <td>0</td>\n",
       "      <td>0</td>\n",
       "      <td>0</td>\n",
       "      <td>0</td>\n",
       "      <td>1</td>\n",
       "      <td>0</td>\n",
       "      <td>1</td>\n",
       "      <td>1</td>\n",
       "      <td>0</td>\n",
       "      <td>0</td>\n",
       "      <td>0</td>\n",
       "      <td>0</td>\n",
       "      <td>0</td>\n",
       "      <td>0</td>\n",
       "      <td>0</td>\n",
       "      <td>0</td>\n",
       "      <td>1</td>\n",
       "    </tr>\n",
       "    <tr>\n",
       "      <th>1</th>\n",
       "      <td>1</td>\n",
       "      <td>female</td>\n",
       "      <td>38.0</td>\n",
       "      <td>71.2833</td>\n",
       "      <td>False</td>\n",
       "      <td>yes</td>\n",
       "      <td>False</td>\n",
       "      <td>0</td>\n",
       "      <td>0</td>\n",
       "      <td>1</td>\n",
       "      <td>0</td>\n",
       "      <td>0</td>\n",
       "      <td>0</td>\n",
       "      <td>0</td>\n",
       "      <td>0</td>\n",
       "      <td>0</td>\n",
       "      <td>0</td>\n",
       "      <td>0</td>\n",
       "      <td>0</td>\n",
       "      <td>0</td>\n",
       "      <td>0</td>\n",
       "      <td>0</td>\n",
       "      <td>0</td>\n",
       "      <td>0</td>\n",
       "      <td>0</td>\n",
       "      <td>0</td>\n",
       "      <td>1</td>\n",
       "      <td>0</td>\n",
       "      <td>1</td>\n",
       "      <td>0</td>\n",
       "      <td>0</td>\n",
       "      <td>0</td>\n",
       "      <td>0</td>\n",
       "      <td>0</td>\n",
       "      <td>0</td>\n",
       "    </tr>\n",
       "    <tr>\n",
       "      <th>2</th>\n",
       "      <td>1</td>\n",
       "      <td>female</td>\n",
       "      <td>26.0</td>\n",
       "      <td>7.9250</td>\n",
       "      <td>False</td>\n",
       "      <td>yes</td>\n",
       "      <td>True</td>\n",
       "      <td>0</td>\n",
       "      <td>1</td>\n",
       "      <td>0</td>\n",
       "      <td>0</td>\n",
       "      <td>0</td>\n",
       "      <td>0</td>\n",
       "      <td>0</td>\n",
       "      <td>0</td>\n",
       "      <td>0</td>\n",
       "      <td>0</td>\n",
       "      <td>0</td>\n",
       "      <td>0</td>\n",
       "      <td>0</td>\n",
       "      <td>0</td>\n",
       "      <td>0</td>\n",
       "      <td>1</td>\n",
       "      <td>0</td>\n",
       "      <td>1</td>\n",
       "      <td>0</td>\n",
       "      <td>1</td>\n",
       "      <td>0</td>\n",
       "      <td>0</td>\n",
       "      <td>0</td>\n",
       "      <td>0</td>\n",
       "      <td>0</td>\n",
       "      <td>0</td>\n",
       "      <td>0</td>\n",
       "      <td>1</td>\n",
       "    </tr>\n",
       "    <tr>\n",
       "      <th>3</th>\n",
       "      <td>1</td>\n",
       "      <td>female</td>\n",
       "      <td>35.0</td>\n",
       "      <td>53.1000</td>\n",
       "      <td>False</td>\n",
       "      <td>yes</td>\n",
       "      <td>False</td>\n",
       "      <td>0</td>\n",
       "      <td>0</td>\n",
       "      <td>1</td>\n",
       "      <td>0</td>\n",
       "      <td>0</td>\n",
       "      <td>0</td>\n",
       "      <td>0</td>\n",
       "      <td>0</td>\n",
       "      <td>0</td>\n",
       "      <td>0</td>\n",
       "      <td>0</td>\n",
       "      <td>0</td>\n",
       "      <td>0</td>\n",
       "      <td>0</td>\n",
       "      <td>0</td>\n",
       "      <td>1</td>\n",
       "      <td>0</td>\n",
       "      <td>0</td>\n",
       "      <td>0</td>\n",
       "      <td>1</td>\n",
       "      <td>0</td>\n",
       "      <td>1</td>\n",
       "      <td>0</td>\n",
       "      <td>0</td>\n",
       "      <td>0</td>\n",
       "      <td>0</td>\n",
       "      <td>0</td>\n",
       "      <td>1</td>\n",
       "    </tr>\n",
       "    <tr>\n",
       "      <th>4</th>\n",
       "      <td>0</td>\n",
       "      <td>male</td>\n",
       "      <td>35.0</td>\n",
       "      <td>8.0500</td>\n",
       "      <td>True</td>\n",
       "      <td>no</td>\n",
       "      <td>True</td>\n",
       "      <td>0</td>\n",
       "      <td>1</td>\n",
       "      <td>0</td>\n",
       "      <td>0</td>\n",
       "      <td>0</td>\n",
       "      <td>0</td>\n",
       "      <td>0</td>\n",
       "      <td>0</td>\n",
       "      <td>0</td>\n",
       "      <td>0</td>\n",
       "      <td>0</td>\n",
       "      <td>0</td>\n",
       "      <td>0</td>\n",
       "      <td>0</td>\n",
       "      <td>0</td>\n",
       "      <td>1</td>\n",
       "      <td>0</td>\n",
       "      <td>1</td>\n",
       "      <td>1</td>\n",
       "      <td>0</td>\n",
       "      <td>0</td>\n",
       "      <td>0</td>\n",
       "      <td>0</td>\n",
       "      <td>0</td>\n",
       "      <td>0</td>\n",
       "      <td>0</td>\n",
       "      <td>0</td>\n",
       "      <td>1</td>\n",
       "    </tr>\n",
       "  </tbody>\n",
       "</table>\n",
       "</div>"
      ],
      "text/plain": [
       "   survived     sex   age     fare  adult_male alive  alone  pclass_2  pclass_3  sibsp_1  sibsp_2  sibsp_3  sibsp_4  sibsp_5  sibsp_8  parch_1  parch_2  parch_3  parch_4  parch_5  parch_6  embarked_Q  embarked_S  class_Second  class_Third  who_man  who_woman  deck_B  deck_C  deck_D  deck_E  deck_F  deck_G  embark_town_Queenstown  embark_town_Southampton\n",
       "0         0    male  22.0   7.2500        True    no  False         0         1        1        0        0        0        0        0        0        0        0        0        0        0           0           1             0            1        1          0       0       0       0       0       0       0                       0                        1\n",
       "1         1  female  38.0  71.2833       False   yes  False         0         0        1        0        0        0        0        0        0        0        0        0        0        0           0           0             0            0        0          1       0       1       0       0       0       0                       0                        0\n",
       "2         1  female  26.0   7.9250       False   yes   True         0         1        0        0        0        0        0        0        0        0        0        0        0        0           0           1             0            1        0          1       0       0       0       0       0       0                       0                        1\n",
       "3         1  female  35.0  53.1000       False   yes  False         0         0        1        0        0        0        0        0        0        0        0        0        0        0           0           1             0            0        0          1       0       1       0       0       0       0                       0                        1\n",
       "4         0    male  35.0   8.0500        True    no   True         0         1        0        0        0        0        0        0        0        0        0        0        0        0           0           1             0            1        1          0       0       0       0       0       0       0                       0                        1"
      ]
     },
     "execution_count": 83,
     "metadata": {},
     "output_type": "execute_result"
    }
   ],
   "source": [
    "one_hot_encoder(df, ohe_cols).head()"
   ]
  },
  {
   "cell_type": "markdown",
   "metadata": {
    "pycharm": {
     "name": "#%% md\n"
    }
   },
   "source": [
    "# Rare Encoding"
   ]
  },
  {
   "cell_type": "code",
   "execution_count": 84,
   "metadata": {
    "pycharm": {
     "name": "#%%\n"
    }
   },
   "outputs": [
    {
     "data": {
      "text/plain": [
       "Secondary / secondary special    218391\n",
       "Higher education                  74863\n",
       "Incomplete higher                 10277\n",
       "Lower secondary                    3816\n",
       "Academic degree                     164\n",
       "Name: NAME_EDUCATION_TYPE, dtype: int64"
      ]
     },
     "execution_count": 84,
     "metadata": {},
     "output_type": "execute_result"
    }
   ],
   "source": [
    "from PreProcessing import rare_encoder,rare_analyser\n",
    "\n",
    "df = pd.read_csv('application_train.csv')\n",
    "df[\"NAME_EDUCATION_TYPE\"].value_counts()"
   ]
  },
  {
   "cell_type": "code",
   "execution_count": 85,
   "metadata": {
    "pycharm": {
     "name": "#%%\n"
    }
   },
   "outputs": [
    {
     "name": "stdout",
     "output_type": "stream",
     "text": [
      "Observations: 307511\n",
      "Variables: 122\n",
      "cat_cols: 19\n",
      "num_cols: 61\n",
      "cat_but_car: 1\n",
      "num_but_cat: 4\n"
     ]
    }
   ],
   "source": [
    "cat_cols, num_cols, cat_but_car = grab_col_names(df)"
   ]
  },
  {
   "cell_type": "code",
   "execution_count": 86,
   "metadata": {
    "pycharm": {
     "name": "#%%\n"
    }
   },
   "outputs": [
    {
     "name": "stdout",
     "output_type": "stream",
     "text": [
      "                 NAME_CONTRACT_TYPE      Ratio\n",
      "Cash loans                   278232  90.478715\n",
      "Revolving loans               29279   9.521285\n",
      "##########################################\n",
      "     CODE_GENDER      Ratio\n",
      "F         202448  65.834393\n",
      "M         105059  34.164306\n",
      "XNA            4   0.001301\n",
      "##########################################\n",
      "   FLAG_OWN_CAR      Ratio\n",
      "N        202924  65.989184\n",
      "Y        104587  34.010816\n",
      "##########################################\n",
      "   FLAG_OWN_REALTY      Ratio\n",
      "Y           213312  69.367275\n",
      "N            94199  30.632725\n",
      "##########################################\n",
      "                 NAME_TYPE_SUITE      Ratio\n",
      "Unaccompanied             248526  80.818572\n",
      "Family                     40149  13.056118\n",
      "Spouse, partner            11370   3.697429\n",
      "Children                    3267   1.062401\n",
      "Other_B                     1770   0.575589\n",
      "Other_A                      866   0.281616\n",
      "Group of people              271   0.088127\n",
      "##########################################\n",
      "                      NAME_INCOME_TYPE      Ratio\n",
      "Working                         158774  51.631974\n",
      "Commercial associate             71617  23.289248\n",
      "Pensioner                        55362  18.003258\n",
      "State servant                    21703   7.057634\n",
      "Unemployed                          22   0.007154\n",
      "Student                             18   0.005853\n",
      "Businessman                         10   0.003252\n",
      "Maternity leave                      5   0.001626\n",
      "##########################################\n",
      "                               NAME_EDUCATION_TYPE      Ratio\n",
      "Secondary / secondary special               218391  71.018923\n",
      "Higher education                             74863  24.344820\n",
      "Incomplete higher                            10277   3.341994\n",
      "Lower secondary                               3816   1.240931\n",
      "Academic degree                                164   0.053331\n",
      "##########################################\n",
      "                      NAME_FAMILY_STATUS      Ratio\n",
      "Married                           196432  63.878040\n",
      "Single / not married               45444  14.778008\n",
      "Civil marriage                     29775   9.682580\n",
      "Separated                          19770   6.429038\n",
      "Widow                              16088   5.231683\n",
      "Unknown                                2   0.000650\n",
      "##########################################\n",
      "                     NAME_HOUSING_TYPE      Ratio\n",
      "House / apartment               272868  88.734387\n",
      "With parents                     14840   4.825844\n",
      "Municipal apartment              11183   3.636618\n",
      "Rented apartment                  4881   1.587260\n",
      "Office apartment                  2617   0.851026\n",
      "Co-op apartment                   1122   0.364865\n",
      "##########################################\n",
      "                       OCCUPATION_TYPE      Ratio\n",
      "Laborers                         55186  17.946025\n",
      "Sales staff                      32102  10.439301\n",
      "Core staff                       27570   8.965533\n",
      "Managers                         21371   6.949670\n",
      "Drivers                          18603   6.049540\n",
      "High skill tech staff            11380   3.700681\n",
      "Accountants                       9813   3.191105\n",
      "Medicine staff                    8537   2.776161\n",
      "Security staff                    6721   2.185613\n",
      "Cooking staff                     5946   1.933589\n",
      "Cleaning staff                    4653   1.513117\n",
      "Private service staff             2652   0.862408\n",
      "Low-skill Laborers                2093   0.680626\n",
      "Waiters/barmen staff              1348   0.438358\n",
      "Secretaries                       1305   0.424375\n",
      "Realty agents                      751   0.244219\n",
      "HR staff                           563   0.183083\n",
      "IT staff                           526   0.171051\n",
      "##########################################\n",
      "           WEEKDAY_APPR_PROCESS_START      Ratio\n",
      "TUESDAY                         53901  17.528153\n",
      "WEDNESDAY                       51934  16.888502\n",
      "MONDAY                          50714  16.491768\n",
      "THURSDAY                        50591  16.451769\n",
      "FRIDAY                          50338  16.369496\n",
      "SATURDAY                        33852  11.008387\n",
      "SUNDAY                          16181   5.261926\n",
      "##########################################\n",
      "                       FONDKAPREMONT_MODE      Ratio\n",
      "reg oper account                    73830  24.008897\n",
      "reg oper spec account               12080   3.928315\n",
      "not specified                        5687   1.849365\n",
      "org spec account                     5619   1.827252\n",
      "##########################################\n",
      "                  HOUSETYPE_MODE      Ratio\n",
      "block of flats            150503  48.942314\n",
      "specific housing            1499   0.487462\n",
      "terraced house              1212   0.394132\n",
      "##########################################\n",
      "              WALLSMATERIAL_MODE      Ratio\n",
      "Panel                      66040  21.475655\n",
      "Stone, brick               64815  21.077295\n",
      "Block                       9253   3.008998\n",
      "Wooden                      5362   1.743677\n",
      "Mixed                       2296   0.746640\n",
      "Monolithic                  1779   0.578516\n",
      "Others                      1625   0.528436\n",
      "##########################################\n",
      "     EMERGENCYSTATE_MODE      Ratio\n",
      "No                159428  51.844649\n",
      "Yes                 2328   0.757046\n",
      "##########################################\n",
      "      DEF_60_CNT_SOCIAL_CIRCLE      Ratio\n",
      "0.0                     280721  91.288117\n",
      "1.0                      21841   7.102510\n",
      "2.0                       3170   1.030857\n",
      "3.0                        598   0.194465\n",
      "4.0                        135   0.043901\n",
      "5.0                         20   0.006504\n",
      "6.0                          3   0.000976\n",
      "7.0                          1   0.000325\n",
      "24.0                         1   0.000325\n",
      "##########################################\n",
      "     AMT_REQ_CREDIT_BUREAU_HOUR      Ratio\n",
      "0.0                      264366  85.969608\n",
      "1.0                        1560   0.507299\n",
      "2.0                          56   0.018211\n",
      "3.0                           9   0.002927\n",
      "4.0                           1   0.000325\n",
      "##########################################\n",
      "     AMT_REQ_CREDIT_BUREAU_DAY      Ratio\n",
      "0.0                     264503  86.014159\n",
      "1.0                       1292   0.420148\n",
      "2.0                        106   0.034470\n",
      "3.0                         45   0.014634\n",
      "4.0                         26   0.008455\n",
      "5.0                          9   0.002927\n",
      "6.0                          8   0.002602\n",
      "9.0                          2   0.000650\n",
      "8.0                          1   0.000325\n",
      "##########################################\n",
      "     AMT_REQ_CREDIT_BUREAU_WEEK      Ratio\n",
      "0.0                      257456  83.722534\n",
      "1.0                        8208   2.669173\n",
      "2.0                         199   0.064713\n",
      "3.0                          58   0.018861\n",
      "4.0                          34   0.011057\n",
      "6.0                          20   0.006504\n",
      "5.0                          10   0.003252\n",
      "8.0                           5   0.001626\n",
      "7.0                           2   0.000650\n",
      "##########################################\n"
     ]
    }
   ],
   "source": [
    "for col in cat_cols:\n",
    "    cat_summary(df, col)"
   ]
  },
  {
   "cell_type": "code",
   "execution_count": 87,
   "metadata": {
    "pycharm": {
     "name": "#%%\n"
    }
   },
   "outputs": [
    {
     "data": {
      "text/plain": [
       "Working                 158774\n",
       "Commercial associate     71617\n",
       "Pensioner                55362\n",
       "State servant            21703\n",
       "Unemployed                  22\n",
       "Student                     18\n",
       "Businessman                 10\n",
       "Maternity leave              5\n",
       "Name: NAME_INCOME_TYPE, dtype: int64"
      ]
     },
     "execution_count": 87,
     "metadata": {},
     "output_type": "execute_result"
    }
   ],
   "source": [
    "df[\"NAME_INCOME_TYPE\"].value_counts()"
   ]
  },
  {
   "cell_type": "code",
   "execution_count": 88,
   "metadata": {
    "pycharm": {
     "name": "#%%\n"
    }
   },
   "outputs": [
    {
     "data": {
      "text/plain": [
       "NAME_INCOME_TYPE\n",
       "Businessman             0.000000\n",
       "Commercial associate    0.074843\n",
       "Maternity leave         0.400000\n",
       "Pensioner               0.053864\n",
       "State servant           0.057550\n",
       "Student                 0.000000\n",
       "Unemployed              0.363636\n",
       "Working                 0.095885\n",
       "Name: TARGET, dtype: float64"
      ]
     },
     "execution_count": 88,
     "metadata": {},
     "output_type": "execute_result"
    }
   ],
   "source": [
    "df.groupby(\"NAME_INCOME_TYPE\")[\"TARGET\"].mean()"
   ]
  },
  {
   "cell_type": "code",
   "execution_count": 89,
   "metadata": {
    "pycharm": {
     "name": "#%%\n"
    }
   },
   "outputs": [
    {
     "name": "stdout",
     "output_type": "stream",
     "text": [
      "NAME_CONTRACT_TYPE : 2\n",
      "                  COUNT     RATIO  TARGET_MEAN\n",
      "Cash loans       278232  0.904787     0.083459\n",
      "Revolving loans   29279  0.095213     0.054783\n",
      "\n",
      "\n",
      "CODE_GENDER : 3\n",
      "      COUNT     RATIO  TARGET_MEAN\n",
      "F    202448  0.658344     0.069993\n",
      "M    105059  0.341643     0.101419\n",
      "XNA       4  0.000013     0.000000\n",
      "\n",
      "\n",
      "FLAG_OWN_CAR : 2\n",
      "    COUNT     RATIO  TARGET_MEAN\n",
      "N  202924  0.659892     0.085002\n",
      "Y  104587  0.340108     0.072437\n",
      "\n",
      "\n",
      "FLAG_OWN_REALTY : 2\n",
      "    COUNT     RATIO  TARGET_MEAN\n",
      "N   94199  0.306327     0.083249\n",
      "Y  213312  0.693673     0.079616\n",
      "\n",
      "\n",
      "NAME_TYPE_SUITE : 7\n",
      "                  COUNT     RATIO  TARGET_MEAN\n",
      "Children           3267  0.010624     0.073768\n",
      "Family            40149  0.130561     0.074946\n",
      "Group of people     271  0.000881     0.084871\n",
      "Other_A             866  0.002816     0.087760\n",
      "Other_B            1770  0.005756     0.098305\n",
      "Spouse, partner   11370  0.036974     0.078716\n",
      "Unaccompanied    248526  0.808186     0.081830\n",
      "\n",
      "\n",
      "NAME_INCOME_TYPE : 8\n",
      "                       COUNT     RATIO  TARGET_MEAN\n",
      "Businessman               10  0.000033     0.000000\n",
      "Commercial associate   71617  0.232892     0.074843\n",
      "Maternity leave            5  0.000016     0.400000\n",
      "Pensioner              55362  0.180033     0.053864\n",
      "State servant          21703  0.070576     0.057550\n",
      "Student                   18  0.000059     0.000000\n",
      "Unemployed                22  0.000072     0.363636\n",
      "Working               158774  0.516320     0.095885\n",
      "\n",
      "\n",
      "NAME_EDUCATION_TYPE : 5\n",
      "                                COUNT     RATIO  TARGET_MEAN\n",
      "Academic degree                   164  0.000533     0.018293\n",
      "Higher education                74863  0.243448     0.053551\n",
      "Incomplete higher               10277  0.033420     0.084850\n",
      "Lower secondary                  3816  0.012409     0.109277\n",
      "Secondary / secondary special  218391  0.710189     0.089399\n",
      "\n",
      "\n",
      "NAME_FAMILY_STATUS : 6\n",
      "                       COUNT     RATIO  TARGET_MEAN\n",
      "Civil marriage         29775  0.096826     0.099446\n",
      "Married               196432  0.638780     0.075599\n",
      "Separated              19770  0.064290     0.081942\n",
      "Single / not married   45444  0.147780     0.098077\n",
      "Unknown                    2  0.000007     0.000000\n",
      "Widow                  16088  0.052317     0.058242\n",
      "\n",
      "\n",
      "NAME_HOUSING_TYPE : 6\n",
      "                      COUNT     RATIO  TARGET_MEAN\n",
      "Co-op apartment        1122  0.003649     0.079323\n",
      "House / apartment    272868  0.887344     0.077957\n",
      "Municipal apartment   11183  0.036366     0.085397\n",
      "Office apartment       2617  0.008510     0.065724\n",
      "Rented apartment       4881  0.015873     0.123131\n",
      "With parents          14840  0.048258     0.116981\n",
      "\n",
      "\n",
      "OCCUPATION_TYPE : 18\n",
      "                       COUNT     RATIO  TARGET_MEAN\n",
      "Accountants             9813  0.031911     0.048303\n",
      "Cleaning staff          4653  0.015131     0.096067\n",
      "Cooking staff           5946  0.019336     0.104440\n",
      "Core staff             27570  0.089655     0.063040\n",
      "Drivers                18603  0.060495     0.113261\n",
      "HR staff                 563  0.001831     0.063943\n",
      "High skill tech staff  11380  0.037007     0.061599\n",
      "IT staff                 526  0.001711     0.064639\n",
      "Laborers               55186  0.179460     0.105788\n",
      "Low-skill Laborers      2093  0.006806     0.171524\n",
      "Managers               21371  0.069497     0.062140\n",
      "Medicine staff          8537  0.027762     0.067002\n",
      "Private service staff   2652  0.008624     0.065988\n",
      "Realty agents            751  0.002442     0.078562\n",
      "Sales staff            32102  0.104393     0.096318\n",
      "Secretaries             1305  0.004244     0.070498\n",
      "Security staff          6721  0.021856     0.107424\n",
      "Waiters/barmen staff    1348  0.004384     0.112760\n",
      "\n",
      "\n",
      "WEEKDAY_APPR_PROCESS_START : 7\n",
      "           COUNT     RATIO  TARGET_MEAN\n",
      "FRIDAY     50338  0.163695     0.081469\n",
      "MONDAY     50714  0.164918     0.077572\n",
      "SATURDAY   33852  0.110084     0.078873\n",
      "SUNDAY     16181  0.052619     0.079291\n",
      "THURSDAY   50591  0.164518     0.081003\n",
      "TUESDAY    53901  0.175282     0.083505\n",
      "WEDNESDAY  51934  0.168885     0.081604\n",
      "\n",
      "\n",
      "FONDKAPREMONT_MODE : 4\n",
      "                       COUNT     RATIO  TARGET_MEAN\n",
      "not specified           5687  0.018494     0.075435\n",
      "org spec account        5619  0.018273     0.058195\n",
      "reg oper account       73830  0.240089     0.069782\n",
      "reg oper spec account  12080  0.039283     0.065563\n",
      "\n",
      "\n",
      "HOUSETYPE_MODE : 3\n",
      "                   COUNT     RATIO  TARGET_MEAN\n",
      "block of flats    150503  0.489423     0.069434\n",
      "specific housing    1499  0.004875     0.101401\n",
      "terraced house      1212  0.003941     0.084983\n",
      "\n",
      "\n",
      "WALLSMATERIAL_MODE : 7\n",
      "              COUNT     RATIO  TARGET_MEAN\n",
      "Block          9253  0.030090     0.070247\n",
      "Mixed          2296  0.007466     0.075348\n",
      "Monolithic     1779  0.005785     0.047218\n",
      "Others         1625  0.005284     0.083077\n",
      "Panel         66040  0.214757     0.063477\n",
      "Stone, brick  64815  0.210773     0.074057\n",
      "Wooden         5362  0.017437     0.096979\n",
      "\n",
      "\n",
      "EMERGENCYSTATE_MODE : 2\n",
      "      COUNT     RATIO  TARGET_MEAN\n",
      "No   159428  0.518446     0.069649\n",
      "Yes    2328  0.007570     0.095790\n",
      "\n",
      "\n",
      "DEF_60_CNT_SOCIAL_CIRCLE : 9\n",
      "       COUNT     RATIO  TARGET_MEAN\n",
      "0.0   280721  0.912881     0.078348\n",
      "1.0    21841  0.071025     0.105169\n",
      "2.0     3170  0.010309     0.121451\n",
      "3.0      598  0.001945     0.158863\n",
      "4.0      135  0.000439     0.111111\n",
      "5.0       20  0.000065     0.150000\n",
      "6.0        3  0.000010     0.000000\n",
      "7.0        1  0.000003     0.000000\n",
      "24.0       1  0.000003     0.000000\n",
      "\n",
      "\n",
      "AMT_REQ_CREDIT_BUREAU_HOUR : 5\n",
      "      COUNT     RATIO  TARGET_MEAN\n",
      "0.0  264366  0.859696     0.077173\n",
      "1.0    1560  0.005073     0.080128\n",
      "2.0      56  0.000182     0.107143\n",
      "3.0       9  0.000029     0.000000\n",
      "4.0       1  0.000003     0.000000\n",
      "\n",
      "\n",
      "AMT_REQ_CREDIT_BUREAU_DAY : 9\n",
      "      COUNT     RATIO  TARGET_MEAN\n",
      "0.0  264503  0.860142     0.077096\n",
      "1.0    1292  0.004201     0.096749\n",
      "2.0     106  0.000345     0.103774\n",
      "3.0      45  0.000146     0.044444\n",
      "4.0      26  0.000085     0.115385\n",
      "5.0       9  0.000029     0.000000\n",
      "6.0       8  0.000026     0.000000\n",
      "8.0       1  0.000003     0.000000\n",
      "9.0       2  0.000007     0.000000\n",
      "\n",
      "\n",
      "AMT_REQ_CREDIT_BUREAU_WEEK : 9\n",
      "      COUNT     RATIO  TARGET_MEAN\n",
      "0.0  257456  0.837225     0.077159\n",
      "1.0    8208  0.026692     0.077729\n",
      "2.0     199  0.000647     0.100503\n",
      "3.0      58  0.000189     0.068966\n",
      "4.0      34  0.000111     0.117647\n",
      "5.0      10  0.000033     0.100000\n",
      "6.0      20  0.000065     0.050000\n",
      "7.0       2  0.000007     0.000000\n",
      "8.0       5  0.000016     0.000000\n",
      "\n",
      "\n"
     ]
    }
   ],
   "source": [
    "rare_analyser(df, \"TARGET\", cat_cols)"
   ]
  },
  {
   "cell_type": "code",
   "execution_count": 90,
   "metadata": {
    "pycharm": {
     "name": "#%%\n"
    }
   },
   "outputs": [],
   "source": [
    "new_df = rare_encoder(df, 0.01)"
   ]
  },
  {
   "cell_type": "code",
   "execution_count": 91,
   "metadata": {
    "pycharm": {
     "name": "#%%\n"
    }
   },
   "outputs": [
    {
     "name": "stdout",
     "output_type": "stream",
     "text": [
      "NAME_CONTRACT_TYPE : 2\n",
      "                  COUNT     RATIO  TARGET_MEAN\n",
      "Cash loans       278232  0.904787     0.083459\n",
      "Revolving loans   29279  0.095213     0.054783\n",
      "\n",
      "\n",
      "CODE_GENDER : 3\n",
      "       COUNT     RATIO  TARGET_MEAN\n",
      "F     202448  0.658344     0.069993\n",
      "M     105059  0.341643     0.101419\n",
      "Rare       4  0.000013     0.000000\n",
      "\n",
      "\n",
      "FLAG_OWN_CAR : 2\n",
      "    COUNT     RATIO  TARGET_MEAN\n",
      "N  202924  0.659892     0.085002\n",
      "Y  104587  0.340108     0.072437\n",
      "\n",
      "\n",
      "FLAG_OWN_REALTY : 2\n",
      "    COUNT     RATIO  TARGET_MEAN\n",
      "N   94199  0.306327     0.083249\n",
      "Y  213312  0.693673     0.079616\n",
      "\n",
      "\n",
      "NAME_TYPE_SUITE : 5\n",
      "                  COUNT     RATIO  TARGET_MEAN\n",
      "Children           3267  0.010624     0.073768\n",
      "Family            40149  0.130561     0.074946\n",
      "Rare               2907  0.009453     0.093911\n",
      "Spouse, partner   11370  0.036974     0.078716\n",
      "Unaccompanied    248526  0.808186     0.081830\n",
      "\n",
      "\n",
      "NAME_INCOME_TYPE : 5\n",
      "                       COUNT     RATIO  TARGET_MEAN\n",
      "Commercial associate   71617  0.232892     0.074843\n",
      "Pensioner              55362  0.180033     0.053864\n",
      "Rare                      55  0.000179     0.181818\n",
      "State servant          21703  0.070576     0.057550\n",
      "Working               158774  0.516320     0.095885\n",
      "\n",
      "\n",
      "NAME_EDUCATION_TYPE : 5\n",
      "                                COUNT     RATIO  TARGET_MEAN\n",
      "Higher education                74863  0.243448     0.053551\n",
      "Incomplete higher               10277  0.033420     0.084850\n",
      "Lower secondary                  3816  0.012409     0.109277\n",
      "Rare                              164  0.000533     0.018293\n",
      "Secondary / secondary special  218391  0.710189     0.089399\n",
      "\n",
      "\n",
      "NAME_FAMILY_STATUS : 6\n",
      "                       COUNT     RATIO  TARGET_MEAN\n",
      "Civil marriage         29775  0.096826     0.099446\n",
      "Married               196432  0.638780     0.075599\n",
      "Rare                       2  0.000007     0.000000\n",
      "Separated              19770  0.064290     0.081942\n",
      "Single / not married   45444  0.147780     0.098077\n",
      "Widow                  16088  0.052317     0.058242\n",
      "\n",
      "\n",
      "NAME_HOUSING_TYPE : 5\n",
      "                      COUNT     RATIO  TARGET_MEAN\n",
      "House / apartment    272868  0.887344     0.077957\n",
      "Municipal apartment   11183  0.036366     0.085397\n",
      "Rare                   3739  0.012159     0.069805\n",
      "Rented apartment       4881  0.015873     0.123131\n",
      "With parents          14840  0.048258     0.116981\n",
      "\n",
      "\n",
      "OCCUPATION_TYPE : 12\n",
      "                       COUNT     RATIO  TARGET_MEAN\n",
      "Accountants             9813  0.031911     0.048303\n",
      "Cleaning staff          4653  0.015131     0.096067\n",
      "Cooking staff           5946  0.019336     0.104440\n",
      "Core staff             27570  0.089655     0.063040\n",
      "Drivers                18603  0.060495     0.113261\n",
      "High skill tech staff  11380  0.037007     0.061599\n",
      "Laborers               55186  0.179460     0.105788\n",
      "Managers               21371  0.069497     0.062140\n",
      "Medicine staff          8537  0.027762     0.067002\n",
      "Rare                    9238  0.030041     0.098181\n",
      "Sales staff            32102  0.104393     0.096318\n",
      "Security staff          6721  0.021856     0.107424\n",
      "\n",
      "\n",
      "WEEKDAY_APPR_PROCESS_START : 7\n",
      "           COUNT     RATIO  TARGET_MEAN\n",
      "FRIDAY     50338  0.163695     0.081469\n",
      "MONDAY     50714  0.164918     0.077572\n",
      "SATURDAY   33852  0.110084     0.078873\n",
      "SUNDAY     16181  0.052619     0.079291\n",
      "THURSDAY   50591  0.164518     0.081003\n",
      "TUESDAY    53901  0.175282     0.083505\n",
      "WEDNESDAY  51934  0.168885     0.081604\n",
      "\n",
      "\n",
      "FONDKAPREMONT_MODE : 4\n",
      "                       COUNT     RATIO  TARGET_MEAN\n",
      "not specified           5687  0.018494     0.075435\n",
      "org spec account        5619  0.018273     0.058195\n",
      "reg oper account       73830  0.240089     0.069782\n",
      "reg oper spec account  12080  0.039283     0.065563\n",
      "\n",
      "\n",
      "HOUSETYPE_MODE : 2\n",
      "                 COUNT     RATIO  TARGET_MEAN\n",
      "Rare              2711  0.008816     0.094061\n",
      "block of flats  150503  0.489423     0.069434\n",
      "\n",
      "\n",
      "WALLSMATERIAL_MODE : 5\n",
      "              COUNT     RATIO  TARGET_MEAN\n",
      "Block          9253  0.030090     0.070247\n",
      "Panel         66040  0.214757     0.063477\n",
      "Rare           5700  0.018536     0.068772\n",
      "Stone, brick  64815  0.210773     0.074057\n",
      "Wooden         5362  0.017437     0.096979\n",
      "\n",
      "\n",
      "EMERGENCYSTATE_MODE : 2\n",
      "       COUNT     RATIO  TARGET_MEAN\n",
      "No    159428  0.518446     0.069649\n",
      "Rare    2328  0.007570     0.095790\n",
      "\n",
      "\n",
      "DEF_60_CNT_SOCIAL_CIRCLE : 9\n",
      "       COUNT     RATIO  TARGET_MEAN\n",
      "0.0   280721  0.912881     0.078348\n",
      "1.0    21841  0.071025     0.105169\n",
      "2.0     3170  0.010309     0.121451\n",
      "3.0      598  0.001945     0.158863\n",
      "4.0      135  0.000439     0.111111\n",
      "5.0       20  0.000065     0.150000\n",
      "6.0        3  0.000010     0.000000\n",
      "7.0        1  0.000003     0.000000\n",
      "24.0       1  0.000003     0.000000\n",
      "\n",
      "\n",
      "AMT_REQ_CREDIT_BUREAU_HOUR : 5\n",
      "      COUNT     RATIO  TARGET_MEAN\n",
      "0.0  264366  0.859696     0.077173\n",
      "1.0    1560  0.005073     0.080128\n",
      "2.0      56  0.000182     0.107143\n",
      "3.0       9  0.000029     0.000000\n",
      "4.0       1  0.000003     0.000000\n",
      "\n",
      "\n",
      "AMT_REQ_CREDIT_BUREAU_DAY : 9\n",
      "      COUNT     RATIO  TARGET_MEAN\n",
      "0.0  264503  0.860142     0.077096\n",
      "1.0    1292  0.004201     0.096749\n",
      "2.0     106  0.000345     0.103774\n",
      "3.0      45  0.000146     0.044444\n",
      "4.0      26  0.000085     0.115385\n",
      "5.0       9  0.000029     0.000000\n",
      "6.0       8  0.000026     0.000000\n",
      "8.0       1  0.000003     0.000000\n",
      "9.0       2  0.000007     0.000000\n",
      "\n",
      "\n",
      "AMT_REQ_CREDIT_BUREAU_WEEK : 9\n",
      "      COUNT     RATIO  TARGET_MEAN\n",
      "0.0  257456  0.837225     0.077159\n",
      "1.0    8208  0.026692     0.077729\n",
      "2.0     199  0.000647     0.100503\n",
      "3.0      58  0.000189     0.068966\n",
      "4.0      34  0.000111     0.117647\n",
      "5.0      10  0.000033     0.100000\n",
      "6.0      20  0.000065     0.050000\n",
      "7.0       2  0.000007     0.000000\n",
      "8.0       5  0.000016     0.000000\n",
      "\n",
      "\n"
     ]
    }
   ],
   "source": [
    "rare_analyser(new_df, \"TARGET\", cat_cols )"
   ]
  }
 ],
 "metadata": {
  "kernelspec": {
   "display_name": "Python 3 (ipykernel)",
   "language": "python",
   "name": "python3"
  },
  "language_info": {
   "codemirror_mode": {
    "name": "ipython",
    "version": 3
   },
   "file_extension": ".py",
   "mimetype": "text/x-python",
   "name": "python",
   "nbconvert_exporter": "python",
   "pygments_lexer": "ipython3",
   "version": "3.9.12"
  }
 },
 "nbformat": 4,
 "nbformat_minor": 1
}
