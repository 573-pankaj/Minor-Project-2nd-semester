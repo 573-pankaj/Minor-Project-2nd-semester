{
 "cells": [
  {
   "cell_type": "code",
   "execution_count": 21,
   "id": "1c9e251f",
   "metadata": {},
   "outputs": [
    {
     "ename": "SyntaxError",
     "evalue": "invalid syntax (1298308453.py, line 1)",
     "output_type": "error",
     "traceback": [
      "\u001b[1;36m  Input \u001b[1;32mIn [21]\u001b[1;36m\u001b[0m\n\u001b[1;33m    type(<phe.paillier.EncryptedNumber object at 0x000001FB87166790>)\u001b[0m\n\u001b[1;37m         ^\u001b[0m\n\u001b[1;31mSyntaxError\u001b[0m\u001b[1;31m:\u001b[0m invalid syntax\n"
     ]
    }
   ],
   "source": [
    "type(<phe.paillier.EncryptedNumber object at 0x000001FB87166790>)"
   ]
  },
  {
   "cell_type": "code",
   "execution_count": 22,
   "id": "9ad69384",
   "metadata": {},
   "outputs": [],
   "source": [
    "from phe import paillier\n",
    "public_key, private_key = paillier.generate_paillier_keypair()"
   ]
  },
  {
   "cell_type": "code",
   "execution_count": 23,
   "id": "77e1e01d",
   "metadata": {},
   "outputs": [
    {
     "ename": "SyntaxError",
     "evalue": "invalid syntax (1298308453.py, line 1)",
     "output_type": "error",
     "traceback": [
      "\u001b[1;36m  Input \u001b[1;32mIn [23]\u001b[1;36m\u001b[0m\n\u001b[1;33m    type(<phe.paillier.EncryptedNumber object at 0x000001FB87166790>)\u001b[0m\n\u001b[1;37m         ^\u001b[0m\n\u001b[1;31mSyntaxError\u001b[0m\u001b[1;31m:\u001b[0m invalid syntax\n"
     ]
    }
   ],
   "source": [
    "type(<phe.paillier.EncryptedNumber object at 0x000001FB87166790>)"
   ]
  },
  {
   "cell_type": "code",
   "execution_count": null,
   "id": "90a44d15",
   "metadata": {},
   "outputs": [],
   "source": [
    "type(phe.paillier.EncryptedNumber)"
   ]
  },
  {
   "cell_type": "code",
   "execution_count": null,
   "id": "44de2fa5",
   "metadata": {},
   "outputs": [],
   "source": []
  },
  {
   "cell_type": "code",
   "execution_count": 24,
   "id": "8e34d965",
   "metadata": {},
   "outputs": [],
   "source": [
    "import numpy as np\n",
    "arr = np.array([[1,2,3,4],\n",
    "                [3,4,5,6],\n",
    "                [7,8,9,0]\n",
    "                ])"
   ]
  },
  {
   "cell_type": "code",
   "execution_count": 25,
   "id": "8b0f4cae",
   "metadata": {},
   "outputs": [
    {
     "data": {
      "text/plain": [
       "array([[1, 2, 3, 4],\n",
       "       [3, 4, 5, 6],\n",
       "       [7, 8, 9, 0]])"
      ]
     },
     "execution_count": 25,
     "metadata": {},
     "output_type": "execute_result"
    }
   ],
   "source": [
    "arr"
   ]
  },
  {
   "cell_type": "code",
   "execution_count": 26,
   "id": "96a3e293",
   "metadata": {},
   "outputs": [],
   "source": [
    "List = arr.tolist()"
   ]
  },
  {
   "cell_type": "code",
   "execution_count": 27,
   "id": "8bb12882",
   "metadata": {},
   "outputs": [
    {
     "data": {
      "text/plain": [
       "[[1, 2, 3, 4], [3, 4, 5, 6], [7, 8, 9, 0]]"
      ]
     },
     "execution_count": 27,
     "metadata": {},
     "output_type": "execute_result"
    }
   ],
   "source": [
    "List"
   ]
  },
  {
   "cell_type": "code",
   "execution_count": 37,
   "id": "22f7cb88",
   "metadata": {},
   "outputs": [],
   "source": [
    "x = [] \n",
    "for i in range(len(List)):\n",
    "    for j in range(4):\n",
    "        x.append(List[i][j])     \n",
    "        \n",
    "        "
   ]
  },
  {
   "cell_type": "code",
   "execution_count": 41,
   "id": "c73763a8",
   "metadata": {},
   "outputs": [
    {
     "data": {
      "text/plain": [
       "array([1, 2, 3, 4, 3, 4, 5, 6, 7, 8, 9, 0])"
      ]
     },
     "execution_count": 41,
     "metadata": {},
     "output_type": "execute_result"
    }
   ],
   "source": [
    "x"
   ]
  },
  {
   "cell_type": "code",
   "execution_count": 40,
   "id": "5dccf914",
   "metadata": {},
   "outputs": [
    {
     "data": {
      "text/plain": [
       "array([[1, 2, 3],\n",
       "       [4, 3, 4],\n",
       "       [5, 6, 7],\n",
       "       [8, 9, 0]])"
      ]
     },
     "execution_count": 40,
     "metadata": {},
     "output_type": "execute_result"
    }
   ],
   "source": [
    "x = np.array(x)\n",
    "x.reshape(4,3)"
   ]
  },
  {
   "cell_type": "code",
   "execution_count": null,
   "id": "a450bf74",
   "metadata": {},
   "outputs": [],
   "source": [
    "encrypted_number_X = [public_key.encrypt(x) for x in X_list[0]]"
   ]
  }
 ],
 "metadata": {
  "kernelspec": {
   "display_name": "Python 3 (ipykernel)",
   "language": "python",
   "name": "python3"
  },
  "language_info": {
   "codemirror_mode": {
    "name": "ipython",
    "version": 3
   },
   "file_extension": ".py",
   "mimetype": "text/x-python",
   "name": "python",
   "nbconvert_exporter": "python",
   "pygments_lexer": "ipython3",
   "version": "3.9.12"
  }
 },
 "nbformat": 4,
 "nbformat_minor": 5
}
