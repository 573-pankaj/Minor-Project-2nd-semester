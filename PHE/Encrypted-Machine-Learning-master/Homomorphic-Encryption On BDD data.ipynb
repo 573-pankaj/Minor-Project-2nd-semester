{
 "cells": [
  {
   "cell_type": "code",
   "execution_count": 2,
   "metadata": {},
   "outputs": [],
   "source": [
    "# Import Dependencies\n",
    "import phe as paillier\n",
    "from contextlib import contextmanager"
   ]
  },
  {
   "cell_type": "code",
   "execution_count": 3,
   "metadata": {},
   "outputs": [],
   "source": [
    "# Create Public and Private Keys\n",
    "key_length = 1024\n",
    "pub_key, privkey = paillier.generate_paillier_keypair(n_length=key_length) "
   ]
  },
  {
   "cell_type": "code",
   "execution_count": 4,
   "metadata": {},
   "outputs": [
    {
     "data": {
      "text/plain": [
       "<PaillierPublicKey 17da1056c7>"
      ]
     },
     "execution_count": 4,
     "metadata": {},
     "output_type": "execute_result"
    }
   ],
   "source": [
    "pub_key"
   ]
  },
  {
   "cell_type": "code",
   "execution_count": 6,
   "metadata": {},
   "outputs": [
    {
     "data": {
      "text/plain": [
       "<PaillierPrivateKey for <PaillierPublicKey 17da1056c7>>"
      ]
     },
     "execution_count": 6,
     "metadata": {},
     "output_type": "execute_result"
    }
   ],
   "source": [
    "privkey"
   ]
  },
  {
   "cell_type": "markdown",
   "metadata": {},
   "source": [
    "## Homomorphic Encryption for Machine Learning"
   ]
  },
  {
   "cell_type": "markdown",
   "metadata": {},
   "source": [
    "Logistic Regression for Spam/Not Spam e-mail Classification.\n",
    "\n",
    "For this problem we have two users:\n",
    "\n",
    "**USER-1**\n",
    "\n",
    "**USER-2**\n",
    "\n",
    "AI Inc. makes a Machine Learning model that is trained on some email data for classification between Spam/Not Spam. Now, they want to take that model, encrypt it and send to USER-1 and USER-2 who will train the model on their data, fully Homomorphically Encrypted, and send the trained, a bit better model back to AI Inc.\n",
    "\n",
    "In this process, AI Inc. get a better trained model every time without even looking at USER-1 or USER-2 data. This way AI Inc. can serve the customers better with a smart Machine Learning model and the USER has complete control of his/her data."
   ]
  },
  {
   "cell_type": "code",
   "execution_count": 7,
   "metadata": {},
   "outputs": [],
   "source": [
    "# Import Dependencies\n",
    "\n",
    "import time\n",
    "import os.path\n",
    "from zipfile import ZipFile\n",
    "from urllib.request import urlopen\n",
    "from contextlib import contextmanager\n",
    "\n",
    "import numpy as np\n",
    "from sklearn.linear_model import LogisticRegression\n",
    "from sklearn.feature_extraction.text import CountVectorizer"
   ]
  },
  {
   "cell_type": "code",
   "execution_count": 8,
   "metadata": {},
   "outputs": [],
   "source": [
    "@contextmanager\n",
    "def timer():\n",
    "    \"\"\"Helper for measuring runtime\"\"\"\n",
    "\n",
    "    time0 =  time.perf_counter()\n",
    "    yield\n",
    "    print('[elapsed time: %.2f s]' % (time.perf_counter() - time0))"
   ]
  },
  {
   "cell_type": "code",
   "execution_count": 9,
   "metadata": {},
   "outputs": [],
   "source": [
    "class AI_Inc:\n",
    "    \"\"\"\n",
    "    AI Inc. Trains a Logistic Regression model on plaintext data, encrypts the model for remote use by USER-1 and USER-2,\n",
    "    decrypts encrypted scores using the paillier private key.\n",
    "    \"\"\"\n",
    "\n",
    "    def __init__(self):\n",
    "        #self.model = LogisticRegression()  ## X, Y not encripted\n",
    "        self.model = RandomForestClassifier()\n",
    "\n",
    "    # Generate Public and Private Key Pairs\n",
    "    # Public Key is used to Encrypt the Data, Private Key to Decrypt\n",
    "    def generate_paillier_keypair(self, n_length):\n",
    "        self.pubkey, self.privkey = paillier.generate_paillier_keypair(n_length=n_length)  # generation of pub and private\n",
    "\n",
    "    # Train the Model\n",
    "    def fit(self, X, y):\n",
    "        self.model = self.model.fit(X, y)   # model train without encription\n",
    "\n",
    "    # Make Predictions for Email \"Spam/Not Spam\"\n",
    "    def predict(self, X):\n",
    "        return self.model.predict(X)   # model predict without encripted data\n",
    "\n",
    "    # Encypt the Coefficients for the Logistic Regression Equation\n",
    "    # Weights can tell about the data, so Encrypt them\n",
    "    # Equation: y = mX + b\n",
    "    def encrypt_weights(self):\n",
    "        coef = self.model.coef_[0, :]\n",
    "        encrypted_weights = [self.pubkey.encrypt(coef[i])\n",
    "                             for i in range(coef.shape[0])]\n",
    "        encrypted_intercept = self.pubkey.encrypt(self.model.intercept_[0])\n",
    "        return encrypted_weights, encrypted_intercept\n",
    "\n",
    "    # Decrypt the Scores for the Model\n",
    "    def decrypt_scores(self, encrypted_scores):\n",
    "        return   self.privkey.decrypt(encrypted_scores)                           #[self.privkey.decrypt(s) for s in encrypted_scores]"
   ]
  },
  {
   "cell_type": "code",
   "execution_count": 12,
   "metadata": {},
   "outputs": [],
   "source": [
    "# Now the USER-1 gets a trained model from AI Inc. and trains on its own data all using Homomorphic Encryption.\n",
    "class User_1:\n",
    "    \"\"\"\n",
    "    USER-1/USER-2 are given the encrypted model trained by AI Inc. and the public key.\n",
    "\n",
    "    Scores local plaintext data with the encrypted model, but cannot decrypt\n",
    "    the scores without the private key held by AI Inc..\n",
    "    \"\"\"\n",
    "\n",
    "    def __init__(self, pubkey):\n",
    "        self.pubkey = pubkey\n",
    "\n",
    "    # Set Initial Values of Coefficients\n",
    "    def set_weights(self, weights, intercept):\n",
    "        self.weights = weights\n",
    "        self.intercept = intercept\n",
    "\n",
    "    # Compute the Prediction Scores for the Model all while being totally Encrypted.\n",
    "    def encrypted_score(self, x):\n",
    "        \"\"\"Compute the score of `x` by multiplying with the encrypted model,\n",
    "        which is a vector of `paillier.EncryptedNumber`\"\"\"\n",
    "        score = self.intercept\n",
    "        idx = len(x.shape) #x.nonzero()\n",
    "        for i in range(len(x.shape)):\n",
    "            for j in range(30):\n",
    "                score += x[i][j] * self.weights[j]\n",
    "                \n",
    "    \n",
    "        \n",
    "#         for i in range(idx):\n",
    "#             score += x[0, i] * self.weights[i]\n",
    "        return score\n",
    "\n",
    "    # Get the Evaluation Scores for the Model\n",
    "    def encrypted_evaluate(self, X):\n",
    "        for i in range(len(X.shape)):\n",
    "            for j in range(30):\n",
    "                result = self.encrypted_score(X[i][j])\n",
    "        return result         #[self.encrypted_score(X[i, :]) for i in range(X.shape[0])]"
   ]
  },
  {
   "cell_type": "code",
   "execution_count": 15,
   "metadata": {},
   "outputs": [
    {
     "name": "stdout",
     "output_type": "stream",
     "text": [
      "USER-1: Scoring on own data with AI Inc.'s Encrypted Classifier...\n"
     ]
    },
    {
     "ename": "NameError",
     "evalue": "name 'ai_inc' is not defined",
     "output_type": "error",
     "traceback": [
      "\u001b[1;31m---------------------------------------------------------------------------\u001b[0m",
      "\u001b[1;31mNameError\u001b[0m                                 Traceback (most recent call last)",
      "Input \u001b[1;32mIn [15]\u001b[0m, in \u001b[0;36m<cell line: 5>\u001b[1;34m()\u001b[0m\n\u001b[0;32m      2\u001b[0m \u001b[38;5;28mprint\u001b[39m(\u001b[38;5;124m\"\u001b[39m\u001b[38;5;124mUSER-1: Scoring on own data with AI Inc.\u001b[39m\u001b[38;5;124m'\u001b[39m\u001b[38;5;124ms Encrypted Classifier...\u001b[39m\u001b[38;5;124m\"\u001b[39m)\n\u001b[0;32m      4\u001b[0m \u001b[38;5;66;03m# AI Inc sends the Public Keys to perform operations\u001b[39;00m\n\u001b[1;32m----> 5\u001b[0m user_1 \u001b[38;5;241m=\u001b[39m User_1(\u001b[43mai_inc\u001b[49m\u001b[38;5;241m.\u001b[39mpubkey)\n\u001b[0;32m      7\u001b[0m \u001b[38;5;66;03m# USER-1 sets the model Hyperparameters to AI Inc.'s Hyperparameter values\u001b[39;00m\n\u001b[0;32m      8\u001b[0m user_1\u001b[38;5;241m.\u001b[39mset_weights(encrypted_weights, encrypted_intercept)\n",
      "\u001b[1;31mNameError\u001b[0m: name 'ai_inc' is not defined"
     ]
    }
   ],
   "source": [
    "# USER-1 taking the encrypted model, weights and testing performance on it's own dataset\n",
    "print(\"USER-1: Scoring on own data with AI Inc.'s Encrypted Classifier...\")\n",
    "\n",
    "# AI Inc sends the Public Keys to perform operations\n",
    "user_1 = User_1(ai_inc.pubkey)\n",
    "\n",
    "# USER-1 sets the model Hyperparameters to AI Inc.'s Hyperparameter values\n",
    "user_1.set_weights(encrypted_weights, encrypted_intercept)\n",
    "\n",
    "with timer() as t:\n",
    "    encrypted_scores = user_1.encrypted_evaluate(X_test)"
   ]
  },
  {
   "cell_type": "code",
   "execution_count": 13,
   "metadata": {},
   "outputs": [],
   "source": [
    "import pandas as pd"
   ]
  },
  {
   "cell_type": "code",
   "execution_count": 14,
   "metadata": {},
   "outputs": [],
   "source": [
    "data =  pd.read_csv(\"New_data.csv\")"
   ]
  },
  {
   "cell_type": "code",
   "execution_count": 15,
   "metadata": {},
   "outputs": [],
   "source": [
    "data = data.drop(['Unnamed: 0'], axis = 1) "
   ]
  },
  {
   "cell_type": "code",
   "execution_count": 16,
   "metadata": {},
   "outputs": [],
   "source": [
    "X = data.iloc[:,1:].values\n",
    "Y = data.iloc[:,0].values"
   ]
  },
  {
   "cell_type": "code",
   "execution_count": 17,
   "metadata": {},
   "outputs": [],
   "source": [
    "XL = X.tolist()\n",
    "encrypted_number_X = []\n",
    "for i in range(len(XL)):\n",
    "    for j in range(30):\n",
    "        encrypted_number_X.append(pub_key.encrypt(XL[i][j]))"
   ]
  },
  {
   "cell_type": "code",
   "execution_count": 18,
   "metadata": {},
   "outputs": [],
   "source": [
    "import numpy as np\n",
    "arr_X = np.reshape(encrypted_number_X,(569,30))"
   ]
  },
  {
   "cell_type": "code",
   "execution_count": 19,
   "metadata": {},
   "outputs": [],
   "source": [
    "YL = Y.tolist()\n",
    "enc_Y = [pub_key.encrypt(y) for y in YL]\n",
    "arr_Y = np.reshape(enc_Y,(569,))"
   ]
  },
  {
   "cell_type": "code",
   "execution_count": 20,
   "metadata": {},
   "outputs": [],
   "source": [
    "from sklearn.model_selection import train_test_split\n",
    "X_train, X_test, Y_train, Y_test = train_test_split(X, Y, test_size = 0.25 , random_state = 0)"
   ]
  },
  {
   "cell_type": "code",
   "execution_count": 21,
   "metadata": {},
   "outputs": [],
   "source": [
    "from sklearn.linear_model import LogisticRegression\n",
    "from sklearn.ensemble import RandomForestClassifier\n",
    "\n",
    "# log = LogisticRegression(random_state=0)\n",
    "# log.fit(X_train,Y_train)"
   ]
  },
  {
   "cell_type": "code",
   "execution_count": 22,
   "metadata": {},
   "outputs": [],
   "source": [
    "# # Get the Preprocessed Split Data\n",
    "# X_train, y_train, X_test, y_test = preprocess_data()"
   ]
  },
  {
   "cell_type": "code",
   "execution_count": 23,
   "metadata": {},
   "outputs": [
    {
     "name": "stdout",
     "output_type": "stream",
     "text": [
      "AI Inc.: Generating Paillier Public Private Keypair\n"
     ]
    }
   ],
   "source": [
    "# Now firstly the AI Inc. Generates the Public and Private Keys\n",
    "print(\"AI Inc.: Generating Paillier Public Private Keypair\")\n",
    "ai_inc = AI_Inc()\n",
    "# NOTE: using smaller keys sizes wouldn't be cryptographically safe\n",
    "ai_inc.generate_paillier_keypair(n_length=1024)"
   ]
  },
  {
   "cell_type": "code",
   "execution_count": 24,
   "metadata": {},
   "outputs": [
    {
     "name": "stdout",
     "output_type": "stream",
     "text": [
      "AI Inc.: Training Initial Spam Classifier\n",
      "[elapsed time: 0.24 s]\n"
     ]
    }
   ],
   "source": [
    "import time\n",
    "print(\"AI Inc.: Training Initial Spam Classifier\")\n",
    "with timer() as t:\n",
    "    ai_inc.fit(X_train, Y_train)"
   ]
  },
  {
   "cell_type": "code",
   "execution_count": 25,
   "metadata": {},
   "outputs": [
    {
     "name": "stdout",
     "output_type": "stream",
     "text": [
      "AI Inc.'s Classification on Test Data, what it would expect the performance to be on USER-1/2's data...\n",
      "[elapsed time: 0.05 s]\n",
      "Error 0.028\n"
     ]
    }
   ],
   "source": [
    "print(\"AI Inc.'s Classification on Test Data, what it would expect the performance to be on USER-1/2's data...\")\n",
    "with timer() as t:\n",
    "    error = np.mean(ai_inc.predict(X_test) != Y_test)\n",
    "print(\"Error {:.3f}\".format(error))"
   ]
  },
  {
   "cell_type": "code",
   "execution_count": 26,
   "metadata": {},
   "outputs": [],
   "source": [
    "# LG\n",
    "# AI Inc.'s Classification on Test Data, what it would expect the performance to be on USER-1/2's data...\n",
    "# [elapsed time: 0.00 s]\n",
    "# Error 0.056\n",
    "# Random Forest\n",
    "\n"
   ]
  },
  {
   "cell_type": "code",
   "execution_count": 27,
   "metadata": {},
   "outputs": [
    {
     "name": "stdout",
     "output_type": "stream",
     "text": [
      "AI Inc.: Encrypting Trained Classifier before sending to USER-1/2\n"
     ]
    },
    {
     "ename": "AttributeError",
     "evalue": "'RandomForestClassifier' object has no attribute 'coef_'",
     "output_type": "error",
     "traceback": [
      "\u001b[1;31m---------------------------------------------------------------------------\u001b[0m",
      "\u001b[1;31mAttributeError\u001b[0m                            Traceback (most recent call last)",
      "Input \u001b[1;32mIn [27]\u001b[0m, in \u001b[0;36m<cell line: 2>\u001b[1;34m()\u001b[0m\n\u001b[0;32m      1\u001b[0m \u001b[38;5;28mprint\u001b[39m(\u001b[38;5;124m\"\u001b[39m\u001b[38;5;124mAI Inc.: Encrypting Trained Classifier before sending to USER-1/2\u001b[39m\u001b[38;5;124m\"\u001b[39m)\n\u001b[0;32m      2\u001b[0m \u001b[38;5;28;01mwith\u001b[39;00m timer() \u001b[38;5;28;01mas\u001b[39;00m t:\n\u001b[1;32m----> 3\u001b[0m     encrypted_weights, encrypted_intercept \u001b[38;5;241m=\u001b[39m \u001b[43mai_inc\u001b[49m\u001b[38;5;241;43m.\u001b[39;49m\u001b[43mencrypt_weights\u001b[49m\u001b[43m(\u001b[49m\u001b[43m)\u001b[49m\n",
      "Input \u001b[1;32mIn [9]\u001b[0m, in \u001b[0;36mAI_Inc.encrypt_weights\u001b[1;34m(self)\u001b[0m\n\u001b[0;32m     27\u001b[0m \u001b[38;5;28;01mdef\u001b[39;00m \u001b[38;5;21mencrypt_weights\u001b[39m(\u001b[38;5;28mself\u001b[39m):\n\u001b[1;32m---> 28\u001b[0m     coef \u001b[38;5;241m=\u001b[39m \u001b[38;5;28;43mself\u001b[39;49m\u001b[38;5;241;43m.\u001b[39;49m\u001b[43mmodel\u001b[49m\u001b[38;5;241;43m.\u001b[39;49m\u001b[43mcoef_\u001b[49m[\u001b[38;5;241m0\u001b[39m, :]\n\u001b[0;32m     29\u001b[0m     encrypted_weights \u001b[38;5;241m=\u001b[39m [\u001b[38;5;28mself\u001b[39m\u001b[38;5;241m.\u001b[39mpubkey\u001b[38;5;241m.\u001b[39mencrypt(coef[i])\n\u001b[0;32m     30\u001b[0m                          \u001b[38;5;28;01mfor\u001b[39;00m i \u001b[38;5;129;01min\u001b[39;00m \u001b[38;5;28mrange\u001b[39m(coef\u001b[38;5;241m.\u001b[39mshape[\u001b[38;5;241m0\u001b[39m])]\n\u001b[0;32m     31\u001b[0m     encrypted_intercept \u001b[38;5;241m=\u001b[39m \u001b[38;5;28mself\u001b[39m\u001b[38;5;241m.\u001b[39mpubkey\u001b[38;5;241m.\u001b[39mencrypt(\u001b[38;5;28mself\u001b[39m\u001b[38;5;241m.\u001b[39mmodel\u001b[38;5;241m.\u001b[39mintercept_[\u001b[38;5;241m0\u001b[39m])\n",
      "\u001b[1;31mAttributeError\u001b[0m: 'RandomForestClassifier' object has no attribute 'coef_'"
     ]
    }
   ],
   "source": [
    "print(\"AI Inc.: Encrypting Trained Classifier before sending to USER-1/2\")\n",
    "with timer() as t:\n",
    "    encrypted_weights, encrypted_intercept = ai_inc.encrypt_weights()  # function call with in the class"
   ]
  },
  {
   "cell_type": "code",
   "execution_count": null,
   "metadata": {},
   "outputs": [],
   "source": [
    "# Confirming the Weights are Encrypted\n",
    "print(\"Encrypted Weights: \", encrypted_weights)\n",
    "print(\"Encrypted Intercept: \", encrypted_intercept)"
   ]
  },
  {
   "cell_type": "markdown",
   "metadata": {},
   "source": [
    "Now, we have an encrypted trained model.\n",
    "\n",
    "AI Inc. sends the trained model with it's weights encrypted [as weights can tell something about the data] and sends both the things to the USER-1 and USER2.\n",
    "\n",
    "Now, USER-1 and USER-2 get the encrypted weights, the trained model and the public key to do some operations on their own dataset. This is called **Homomorphic Encryption**."
   ]
  },
  {
   "cell_type": "code",
   "execution_count": 48,
   "metadata": {},
   "outputs": [
    {
     "data": {
      "text/plain": [
       "4290"
      ]
     },
     "execution_count": 48,
     "metadata": {},
     "output_type": "execute_result"
    }
   ],
   "source": [
    "143*30"
   ]
  },
  {
   "cell_type": "code",
   "execution_count": 57,
   "metadata": {},
   "outputs": [
    {
     "data": {
      "text/plain": [
       "(143, 30)"
      ]
     },
     "execution_count": 57,
     "metadata": {},
     "output_type": "execute_result"
    }
   ],
   "source": [
    "X_test.shape"
   ]
  },
  {
   "cell_type": "code",
   "execution_count": 53,
   "metadata": {},
   "outputs": [],
   "source": [
    "x_test = np.reshape(X_test,(4290,))"
   ]
  },
  {
   "cell_type": "code",
   "execution_count": 122,
   "metadata": {},
   "outputs": [
    {
     "name": "stdout",
     "output_type": "stream",
     "text": [
      "USER-1: Scoring on own data with AI Inc.'s Encrypted Classifier...\n",
      "[elapsed time: 0.00 s]\n"
     ]
    }
   ],
   "source": [
    "# USER-1 taking the encrypted model, weights and testing performance on it's own dataset\n",
    "print(\"USER-1: Scoring on own data with AI Inc.'s Encrypted Classifier...\")\n",
    "\n",
    "# AI Inc sends the Public Keys to perform operations\n",
    "user_1 = User_1(ai_inc.pubkey)\n",
    "\n",
    "# USER-1 sets the model Hyperparameters to AI Inc.'s Hyperparameter values\n",
    "user_1.set_weights(encrypted_weights, encrypted_intercept)\n",
    "\n",
    "with timer() as t:\n",
    "    encrypted_scores = user_1.encrypted_evaluate(X_test)"
   ]
  },
  {
   "cell_type": "code",
   "execution_count": null,
   "metadata": {},
   "outputs": [],
   "source": [
    "#IndexError: too many indices for array: array is 1-dimensional, but 2 were indexed  "
   ]
  },
  {
   "cell_type": "code",
   "execution_count": 124,
   "metadata": {},
   "outputs": [
    {
     "name": "stdout",
     "output_type": "stream",
     "text": [
      "<phe.paillier.EncryptedNumber object at 0x0000016A54251340>\n"
     ]
    }
   ],
   "source": [
    "# Making Sure the Score is Encrypted\n",
    "print(encrypted_scores)"
   ]
  },
  {
   "cell_type": "code",
   "execution_count": 123,
   "metadata": {},
   "outputs": [
    {
     "data": {
      "text/plain": [
       "1556184372752"
      ]
     },
     "execution_count": 123,
     "metadata": {},
     "output_type": "execute_result"
    }
   ],
   "source": [
    "0x0000016A53D11610  # LG"
   ]
  },
  {
   "cell_type": "code",
   "execution_count": 125,
   "metadata": {},
   "outputs": [
    {
     "data": {
      "text/plain": [
       "1556189877056"
      ]
     },
     "execution_count": 125,
     "metadata": {},
     "output_type": "execute_result"
    }
   ],
   "source": [
    "0x0000016A54251340  # RF"
   ]
  },
  {
   "cell_type": "markdown",
   "metadata": {},
   "source": [
    "Now USER has the option to train the model on it's own data and send the trained model to AI Inc."
   ]
  },
  {
   "cell_type": "code",
   "execution_count": 126,
   "metadata": {},
   "outputs": [
    {
     "data": {
      "text/plain": [
       "list"
      ]
     },
     "execution_count": 126,
     "metadata": {},
     "output_type": "execute_result"
    }
   ],
   "source": [
    "type(encrypted_scores)\n",
    "encrypted_scores1 = [encrypted_scores ] #.tolist()\n",
    "type(encrypted_scores1)"
   ]
  },
  {
   "cell_type": "code",
   "execution_count": 133,
   "metadata": {},
   "outputs": [
    {
     "name": "stdout",
     "output_type": "stream",
     "text": [
      "AI Inc.: Decrypting USER-1/2's scores\n",
      "score : [-0.23990767545189137]\n",
      "[elapsed time: 0.01 s]\n",
      "Error -1.000 -- this is not known to AI Inc., who does not possess the ground truth labels\n"
     ]
    }
   ],
   "source": [
    "print(\"AI Inc.: Decrypting USER-1/2's scores\")\n",
    "\n",
    "with timer() as t:\n",
    "    score = ai_inc.decrypt_scores(encrypted_scores1)\n",
    "    print(\"score : {}\".format(score))\n",
    "    error = np.mean(np.sign(score))  != Y_test)\n",
    "print(\"Error {:.3f} -- this is not known to AI Inc., who does not possess the ground truth labels\".format(error))"
   ]
  },
  {
   "cell_type": "code",
   "execution_count": null,
   "metadata": {},
   "outputs": [],
   "source": [
    "# LG\n",
    "# AI Inc.: Decrypting USER-1/2's scores\n",
    "# [-0.23990767545189137]\n",
    "# [elapsed time: 0.01 s]\n",
    "# RF\n",
    "# AI Inc.: Decrypting USER-1/2's scores\n",
    "# [-0.23990767545189137]\n",
    "# [elapsed time: 0.01 s]\n",
    "\n"
   ]
  },
  {
   "cell_type": "code",
   "execution_count": 132,
   "metadata": {},
   "outputs": [
    {
     "data": {
      "text/plain": [
       "array([1, 0, 0, 0, 0, 0, 0, 0, 0, 0, 0, 0, 0, 0, 0, 1, 0, 1, 1, 1, 1, 1,\n",
       "       0, 0, 1, 0, 0, 1, 0, 1, 0, 1, 0, 1, 0, 1, 0, 1, 0, 1, 1, 0, 1, 0,\n",
       "       0, 1, 0, 0, 0, 1, 1, 1, 1, 0, 0, 0, 0, 0, 0, 1, 1, 1, 0, 0, 1, 0,\n",
       "       1, 1, 1, 0, 0, 1, 0, 1, 1, 0, 0, 0, 0, 0, 1, 1, 1, 0, 1, 0, 0, 0,\n",
       "       1, 1, 0, 1, 0, 1, 0, 0, 1, 0, 0, 0, 0, 0, 0, 0, 1, 0, 1, 0, 1, 1,\n",
       "       0, 1, 1, 0, 0, 0, 0, 0, 0, 0, 0, 0, 1, 0, 1, 0, 0, 0, 0, 0, 1, 0,\n",
       "       0, 0, 0, 0, 0, 1, 1, 0, 0, 0, 1], dtype=int64)"
      ]
     },
     "execution_count": 132,
     "metadata": {},
     "output_type": "execute_result"
    }
   ],
   "source": [
    "Y_test"
   ]
  },
  {
   "cell_type": "code",
   "execution_count": null,
   "metadata": {},
   "outputs": [],
   "source": []
  }
 ],
 "metadata": {
  "kernelspec": {
   "display_name": "Python 3 (ipykernel)",
   "language": "python",
   "name": "python3"
  },
  "language_info": {
   "codemirror_mode": {
    "name": "ipython",
    "version": 3
   },
   "file_extension": ".py",
   "mimetype": "text/x-python",
   "name": "python",
   "nbconvert_exporter": "python",
   "pygments_lexer": "ipython3",
   "version": "3.9.12"
  }
 },
 "nbformat": 4,
 "nbformat_minor": 2
}
