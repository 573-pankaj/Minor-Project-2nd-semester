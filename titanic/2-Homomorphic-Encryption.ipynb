{
 "cells": [
  {
   "cell_type": "code",
   "execution_count": 34,
   "id": "096270b1-3196-4633-bdb4-89cbe034bd34",
   "metadata": {},
   "outputs": [],
   "source": [
    "# ##! IGNORE THIS if running on Google Colab\n",
    "# %load_ext notexbook\n",
    "\n",
    "# %texify"
   ]
  },
  {
   "cell_type": "markdown",
   "id": "6c08e316-aadf-42ec-ba28-2274dfb7c145",
   "metadata": {
    "tags": []
   },
   "source": [
    "#### Logistic Regression HE"
   ]
  },
  {
   "cell_type": "markdown",
   "id": "bda589f0-047a-430f-86cc-7830ac2fe21f",
   "metadata": {},
   "source": [
    "An Example of Logistic Regression Model using **P**artially **H**omomorphic **E**ncryption (`phe`) Python Libray. \n",
    "\n",
    "Note: This example has been adapted from the original example on `phe` [repo](https://github.com/data61/python-paillier/blob/master/examples/logistic_regression_encrypted_model.py)"
   ]
  },
  {
   "cell_type": "code",
   "execution_count": 1,
   "id": "bdcbbd53-0049-4b0c-9642-ae21f20d7a1e",
   "metadata": {},
   "outputs": [],
   "source": [
    "import time\n",
    "from contextlib import contextmanager\n",
    "\n",
    "import numpy as np\n",
    "from sklearn.linear_model import LogisticRegression\n",
    "\n",
    "import phe as paillier"
   ]
  },
  {
   "cell_type": "code",
   "execution_count": 2,
   "id": "f1a0cbf9-b445-4117-b2fa-537402b081f9",
   "metadata": {},
   "outputs": [],
   "source": [
    "np.random.seed(123456)  # Initialise Random Seed for reproducibility"
   ]
  },
  {
   "cell_type": "code",
   "execution_count": 3,
   "id": "25b32d56-f468-4b79-b351-4dd19bd765bb",
   "metadata": {},
   "outputs": [],
   "source": [
    "from sklearn.datasets import load_breast_cancer\n",
    "from sklearn.model_selection import train_test_split"
   ]
  },
  {
   "cell_type": "code",
   "execution_count": 16,
   "id": "2fcefbf6-42a7-403a-a03c-884afe922a50",
   "metadata": {},
   "outputs": [],
   "source": [
    "def get_winsconsin_bc_dataset():\n",
    "    \"\"\"\n",
    "    Get the Breast Cancer Winsconsin Dataset,\n",
    "    as split in Training and Test partitions\n",
    "    \"\"\"\n",
    "    X, y = load_breast_cancer(return_X_y=True)\n",
    "    y[y == 0] = -1  # so we can take the sign later :)\n",
    "    X_train, X_test, y_train, y_test = train_test_split(\n",
    "        X, y, test_size=0.25, stratify=y, random_state=42\n",
    "    )\n",
    "    return X_train, y_train, X_test, y_test"
   ]
  },
  {
   "cell_type": "code",
   "execution_count": 17,
   "id": "4a5f5600",
   "metadata": {},
   "outputs": [
    {
     "ename": "NameError",
     "evalue": "name 'X_train' is not defined",
     "output_type": "error",
     "traceback": [
      "\u001b[1;31m---------------------------------------------------------------------------\u001b[0m",
      "\u001b[1;31mNameError\u001b[0m                                 Traceback (most recent call last)",
      "\u001b[1;32m~\\AppData\\Local\\Temp/ipykernel_25096/4239342174.py\u001b[0m in \u001b[0;36m<module>\u001b[1;34m\u001b[0m\n\u001b[1;32m----> 1\u001b[1;33m \u001b[0mX_train\u001b[0m\u001b[1;33m\u001b[0m\u001b[1;33m\u001b[0m\u001b[0m\n\u001b[0m",
      "\u001b[1;31mNameError\u001b[0m: name 'X_train' is not defined"
     ]
    }
   ],
   "source": [
    "X_train"
   ]
  },
  {
   "cell_type": "code",
   "execution_count": 18,
   "id": "2dc11391-39fc-4e84-891f-53d4296894da",
   "metadata": {},
   "outputs": [],
   "source": [
    "@contextmanager\n",
    "def timer():\n",
    "    \"\"\"Helper for measuring runtime\"\"\"\n",
    "    time0 = time.perf_counter()\n",
    "    yield\n",
    "    print(\"[elapsed time: %.2f s]\" % (time.perf_counter() - time0))"
   ]
  },
  {
   "cell_type": "markdown",
   "id": "a4352aad-c4a0-40cf-add4-4d71ea05ba05",
   "metadata": {},
   "source": [
    "**Alice**: Train a Logistic Regression Model on plain data, encrypts the model (parameters), and decrypts the scrores using PHE."
   ]
  },
  {
   "cell_type": "code",
   "execution_count": 19,
   "id": "46f9bfc2-678e-4cc0-80c4-833710be20b4",
   "metadata": {},
   "outputs": [],
   "source": [
    "class Alice:\n",
    "    \"\"\"\n",
    "    Trains a Logistic Regression model on plaintext data,\n",
    "    encrypts the model for remote use,\n",
    "    decrypts encrypted scores using the paillier private key.\n",
    "    \"\"\"\n",
    "\n",
    "    def __init__(self):\n",
    "        self.model = LogisticRegression()\n",
    "# paillier key generations\n",
    "    def generate_paillier_keypair(self, n_length):\n",
    "        self.pubkey, self.privkey = paillier.generate_paillier_keypair(\n",
    "            n_length=n_length\n",
    "        )\n",
    "# Model fit\n",
    "    def fit(self, X, y):\n",
    "        self.model = self.model.fit(X, y)\n",
    "# model prediction\n",
    "    def predict(self, X):\n",
    "        return self.model.predict(X)\n",
    "# encypted weights and intercepts\n",
    "    def encrypt_weights(self):\n",
    "        coef = self.model.coef_[0, :]\n",
    "        encrypted_weights = [self.pubkey.encrypt(coef[i]) for i in range(coef.shape[0])]\n",
    "        encrypted_intercept = self.pubkey.encrypt(self.model.intercept_[0])\n",
    "        return encrypted_weights, encrypted_intercept\n",
    "\n",
    "    def decrypt_scores(self, encrypted_scores):\n",
    "        return [self.privkey.decrypt(s) for s in encrypted_scores]"
   ]
  },
  {
   "cell_type": "markdown",
   "id": "36d3c42f-621a-47c4-bfa4-260d96654014",
   "metadata": {},
   "source": [
    "**Bob**: Receives the encrypted model and the public key. \n",
    "Generate scores with the encrypted model but **cannot decrypt**."
   ]
  },
  {
   "cell_type": "code",
   "execution_count": 20,
   "id": "7efb4506-d11d-4fc0-95b3-fcf71fbbae41",
   "metadata": {},
   "outputs": [],
   "source": [
    "class Bob:\n",
    "    \"\"\"\n",
    "    Is given the encrypted model and the public key.\n",
    "    Scores local plaintext data with the encrypted model, but cannot decrypt\n",
    "    the scores without the private key held by Alice.\n",
    "    \"\"\"\n",
    "# generate public key for decription\n",
    "    def __init__(self, pubkey):\n",
    "        self.pubkey = pubkey\n",
    "# Take the encrypted weightd and interceots\n",
    "    def set_weights(self, weights, intercept):\n",
    "        self.weights = weights\n",
    "        self.intercept = intercept\n",
    "# \n",
    "    def encrypted_score(self, x):\n",
    "        \"\"\"Compute the score of `x` by multiplying with the encrypted model,\n",
    "        which is a vector of `paillier.EncryptedNumber`\"\"\"\n",
    "        score = self.intercept\n",
    "        idx, *rest = x.nonzero()\n",
    "        for i in idx:\n",
    "            score += x[i] * self.weights[i]\n",
    "        return score\n",
    "\n",
    "    def encrypted_evaluate(self, X):\n",
    "        return [self.encrypted_score(X[i, :]) for i in range(X.shape[0])]"
   ]
  },
  {
   "cell_type": "code",
   "execution_count": 21,
   "id": "f56f1247-27de-45e3-8299-a4793e037725",
   "metadata": {},
   "outputs": [],
   "source": [
    "X_train, y_train, X_test, y_test = get_winsconsin_bc_dataset()\n",
    "\n",
    "# Feature Scaling\n",
    "from sklearn.preprocessing import RobustScaler\n",
    "\n",
    "sc = RobustScaler()\n",
    "X_train = sc.fit_transform(X_train)\n",
    "X_test = sc.transform(X_test)"
   ]
  },
  {
   "cell_type": "code",
   "execution_count": 22,
   "id": "7282e44d",
   "metadata": {},
   "outputs": [
    {
     "data": {
      "text/plain": [
       "array([[ 1.60851064,  0.24720069,  1.5354861 , ...,  0.64490763,\n",
       "        -0.38469638,  0.55422561],\n",
       "       [-0.09361702, -0.98277347, -0.14332585, ..., -0.44025506,\n",
       "        -0.72165672, -0.51988877],\n",
       "       [ 0.93981763, -0.41774332,  1.03470903, ...,  1.5895355 ,\n",
       "         1.74517375,  1.25740539],\n",
       "       ...,\n",
       "       [ 0.53130699,  0.8828596 ,  0.61336557, ...,  1.19938503,\n",
       "         0.26676027,  1.29609479],\n",
       "       [ 0.91793313,  0.04392765,  0.94491452, ...,  1.58247851,\n",
       "         0.4015444 ,  0.5179543 ],\n",
       "       [-0.85057751, -0.3161068 , -0.81298567, ..., -0.44348111,\n",
       "        -0.40716041,  0.23116915]])"
      ]
     },
     "execution_count": 22,
     "metadata": {},
     "output_type": "execute_result"
    }
   ],
   "source": [
    "X_train"
   ]
  },
  {
   "cell_type": "markdown",
   "id": "45868ec6",
   "metadata": {},
   "source": [
    "# Alice: Generating paillier keypair"
   ]
  },
  {
   "cell_type": "code",
   "execution_count": 23,
   "id": "5f7bd444-eb7f-4d55-a55e-f7ee737a91b1",
   "metadata": {},
   "outputs": [
    {
     "name": "stdout",
     "output_type": "stream",
     "text": [
      "Alice: Generating paillier keypair\n"
     ]
    }
   ],
   "source": [
    "print(\"Alice: Generating paillier keypair\")\n",
    "alice = Alice()\n",
    "# NOTE: using smaller keys sizes wouldn't be cryptographically safe\n",
    "alice.generate_paillier_keypair(n_length=1024)"
   ]
  },
  {
   "cell_type": "code",
   "execution_count": 24,
   "id": "55f86ad0-5fcf-4874-8d58-07c1da3a28a2",
   "metadata": {},
   "outputs": [
    {
     "name": "stdout",
     "output_type": "stream",
     "text": [
      "Alice: Training BC Classifier\n",
      "[elapsed time: 0.95 s]\n"
     ]
    }
   ],
   "source": [
    "print(\"Alice: Training BC Classifier\")\n",
    "with timer() as t:\n",
    "    alice.fit(X_train, y_train)"
   ]
  },
  {
   "cell_type": "markdown",
   "id": "2b00c776-be78-46b4-934d-588ccd97c73f",
   "metadata": {},
   "source": [
    "**Just test Model performance on Test** as Alice would have access to Bob's (test) data"
   ]
  },
  {
   "cell_type": "code",
   "execution_count": 25,
   "id": "be931707-a0b6-4a0e-bab8-75d64c8e8239",
   "metadata": {},
   "outputs": [
    {
     "name": "stdout",
     "output_type": "stream",
     "text": [
      "Classify with model in the clear -- what Alice would get having Bob's data locally\n",
      "[elapsed time: 0.00 s]\n",
      "Error 0.014\n"
     ]
    }
   ],
   "source": [
    "print(\n",
    "    \"Classify with model in the clear -- \"\n",
    "    \"what Alice would get having Bob's data locally\"\n",
    ")\n",
    "with timer() as t:\n",
    "    error = np.mean(alice.predict(X_test) != y_test)\n",
    "print(\"Error {:.3f}\".format(error))"
   ]
  },
  {
   "cell_type": "code",
   "execution_count": 26,
   "id": "e4a1c804",
   "metadata": {},
   "outputs": [
    {
     "data": {
      "text/plain": [
       "0.986"
      ]
     },
     "execution_count": 26,
     "metadata": {},
     "output_type": "execute_result"
    }
   ],
   "source": [
    "1 - 0.014  # 98%"
   ]
  },
  {
   "cell_type": "markdown",
   "id": "02576aed-e415-45fd-b858-98426a97f11d",
   "metadata": {},
   "source": [
    "Now Alice encrypts her (trained) model Parameters"
   ]
  },
  {
   "cell_type": "markdown",
   "id": "bca5db68",
   "metadata": {},
   "source": [
    "# ALice : get the encrypted weights and intercepts"
   ]
  },
  {
   "cell_type": "code",
   "execution_count": 27,
   "id": "d97d605a-0746-47be-acc6-416f3ffd8295",
   "metadata": {},
   "outputs": [
    {
     "name": "stdout",
     "output_type": "stream",
     "text": [
      "Alice: Encrypting classifier\n",
      "[elapsed time: 0.36 s]\n"
     ]
    }
   ],
   "source": [
    "print(\"Alice: Encrypting classifier\")\n",
    "with timer() as t:\n",
    "    encrypted_weights, encrypted_intercept = alice.encrypt_weights()"
   ]
  },
  {
   "cell_type": "code",
   "execution_count": 28,
   "id": "198a08c3",
   "metadata": {},
   "outputs": [
    {
     "data": {
      "text/plain": [
       "<phe.paillier.EncryptedNumber at 0x254d78a00a0>"
      ]
     },
     "execution_count": 28,
     "metadata": {},
     "output_type": "execute_result"
    }
   ],
   "source": [
    "encrypted_intercept"
   ]
  },
  {
   "cell_type": "code",
   "execution_count": 29,
   "id": "d8fc4a2e",
   "metadata": {},
   "outputs": [
    {
     "data": {
      "text/plain": [
       "[<phe.paillier.EncryptedNumber at 0x254d789f130>,\n",
       " <phe.paillier.EncryptedNumber at 0x254d789fbb0>,\n",
       " <phe.paillier.EncryptedNumber at 0x254bd69f1c0>,\n",
       " <phe.paillier.EncryptedNumber at 0x254bd69f400>,\n",
       " <phe.paillier.EncryptedNumber at 0x254bd69fc10>,\n",
       " <phe.paillier.EncryptedNumber at 0x254bd69fc40>,\n",
       " <phe.paillier.EncryptedNumber at 0x254bd693bb0>,\n",
       " <phe.paillier.EncryptedNumber at 0x254bd693a00>,\n",
       " <phe.paillier.EncryptedNumber at 0x254d789f7c0>,\n",
       " <phe.paillier.EncryptedNumber at 0x254d789f940>,\n",
       " <phe.paillier.EncryptedNumber at 0x254d789fe50>,\n",
       " <phe.paillier.EncryptedNumber at 0x254d789f4f0>,\n",
       " <phe.paillier.EncryptedNumber at 0x254d789f7f0>,\n",
       " <phe.paillier.EncryptedNumber at 0x254d789f760>,\n",
       " <phe.paillier.EncryptedNumber at 0x254d789f4c0>,\n",
       " <phe.paillier.EncryptedNumber at 0x254d65c29a0>,\n",
       " <phe.paillier.EncryptedNumber at 0x254d65c2a60>,\n",
       " <phe.paillier.EncryptedNumber at 0x254d65c29d0>,\n",
       " <phe.paillier.EncryptedNumber at 0x254d78a0fa0>,\n",
       " <phe.paillier.EncryptedNumber at 0x254d78a0dc0>,\n",
       " <phe.paillier.EncryptedNumber at 0x254d78a0eb0>,\n",
       " <phe.paillier.EncryptedNumber at 0x254d78a0730>,\n",
       " <phe.paillier.EncryptedNumber at 0x254d78a0760>,\n",
       " <phe.paillier.EncryptedNumber at 0x254d78a0130>,\n",
       " <phe.paillier.EncryptedNumber at 0x254d78a0160>,\n",
       " <phe.paillier.EncryptedNumber at 0x254d78a06d0>,\n",
       " <phe.paillier.EncryptedNumber at 0x254d78a04f0>,\n",
       " <phe.paillier.EncryptedNumber at 0x254d78a0a00>,\n",
       " <phe.paillier.EncryptedNumber at 0x254d78a0d30>,\n",
       " <phe.paillier.EncryptedNumber at 0x254d78a0910>]"
      ]
     },
     "execution_count": 29,
     "metadata": {},
     "output_type": "execute_result"
    }
   ],
   "source": [
    "encrypted_weights"
   ]
  },
  {
   "cell_type": "code",
   "execution_count": 30,
   "id": "c78f1493-5423-4b9d-89cd-60e6186ba483",
   "metadata": {},
   "outputs": [
    {
     "name": "stdout",
     "output_type": "stream",
     "text": [
      "Bob: Scoring with encrypted classifier\n"
     ]
    }
   ],
   "source": [
    "print(\"Bob: Scoring with encrypted classifier\")\n",
    "bob = Bob(alice.pubkey)  # defoine a constructor\n",
    "bob.set_weights(encrypted_weights, encrypted_intercept)"
   ]
  },
  {
   "cell_type": "code",
   "execution_count": 31,
   "id": "385c53c9-f399-4d8a-bcd9-2aefe0b22985",
   "metadata": {},
   "outputs": [
    {
     "name": "stdout",
     "output_type": "stream",
     "text": [
      "[elapsed time: 5.33 s]\n"
     ]
    }
   ],
   "source": [
    "with timer() as t:\n",
    "    encrypted_scores = bob.encrypted_evaluate(X_test)"
   ]
  },
  {
   "cell_type": "markdown",
   "id": "77279853-4eac-43b6-881e-08e725dd864c",
   "metadata": {},
   "source": [
    "**Finally** Alice needs to _descrypt_ Bob's scores on test data"
   ]
  },
  {
   "cell_type": "code",
   "execution_count": 32,
   "id": "5e44043a-08f3-4e95-9d6d-0ebc06c8c98b",
   "metadata": {
    "scrolled": true
   },
   "outputs": [
    {
     "name": "stdout",
     "output_type": "stream",
     "text": [
      "Alice: Decrypting Bob's scores\n",
      "[elapsed time: 0.57 s]\n"
     ]
    }
   ],
   "source": [
    "print(\"Alice: Decrypting Bob's scores\")\n",
    "with timer() as t:\n",
    "    scores = alice.decrypt_scores(encrypted_scores)"
   ]
  },
  {
   "cell_type": "code",
   "execution_count": 33,
   "id": "ed338750-e553-4b87-81d3-72338dd9116f",
   "metadata": {},
   "outputs": [
    {
     "name": "stdout",
     "output_type": "stream",
     "text": [
      "Error 0.014 -- this is not known to Alice, who does not possess the ground truth labels\n"
     ]
    }
   ],
   "source": [
    "error = np.mean(np.sign(scores) != y_test)\n",
    "print(\n",
    "    \"Error {:.3f} -- this is not known to Alice, who does not possess \"\n",
    "    \"the ground truth labels\".format(error)\n",
    ")"
   ]
  },
  {
   "cell_type": "markdown",
   "id": "56a64794",
   "metadata": {},
   "source": [
    "## Where to go next ?\n",
    "\n",
    "If you are interested to see an example of `FL` w/ `HE`, you could have a look at this [notebook](https://nbviewer.org/github/leriomaggio/privacy-preserving-data-science/blob/main/3-federated-learning-he/3%20Federated%20Learning%20and%20HE.ipynb)"
   ]
  },
  {
   "cell_type": "code",
   "execution_count": null,
   "id": "360daa32",
   "metadata": {},
   "outputs": [],
   "source": []
  }
 ],
 "metadata": {
  "kernelspec": {
   "display_name": "Python 3 (ipykernel)",
   "language": "python",
   "name": "python3"
  },
  "language_info": {
   "codemirror_mode": {
    "name": "ipython",
    "version": 3
   },
   "file_extension": ".py",
   "mimetype": "text/x-python",
   "name": "python",
   "nbconvert_exporter": "python",
   "pygments_lexer": "ipython3",
   "version": "3.9.7"
  }
 },
 "nbformat": 4,
 "nbformat_minor": 5
}
